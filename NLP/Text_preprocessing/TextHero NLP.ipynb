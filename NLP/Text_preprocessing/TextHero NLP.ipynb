{
 "cells": [
  {
   "cell_type": "markdown",
   "id": "perfect-indie",
   "metadata": {},
   "source": [
    "## TextHero"
   ]
  },
  {
   "cell_type": "markdown",
   "id": "eastern-texture",
   "metadata": {},
   "source": [
    "Under the hoods, Texthero makes use of multiple NLP and machine learning toolkits such as Gensim, NLTK, SpaCy and scikit-learn. You don't need to install them all separately, pip will take care of that."
   ]
  },
  {
   "cell_type": "markdown",
   "id": "inside-anniversary",
   "metadata": {},
   "source": [
    "Texthero include tools for:\n",
    "\n",
    "- Preprocess text data: it offers both out-of-the-box solutions but it's also flexible for custom-solutions.\n",
    "- Natural Language Processing: keyphrases and keywords extraction, and named entity recognition.\n",
    "- Text representation: TF-IDF, term frequency, and custom word-embeddings (wip)\n",
    "- Vector space analysis: clustering (K-means, Meanshift, DBSAN and Hierarchical), topic modelling (wip) and interpretation.\n",
    "- Text visualization: vector space visualization, place localization on maps (wip)."
   ]
  },
  {
   "cell_type": "markdown",
   "id": "sought-trail",
   "metadata": {},
   "source": [
    "Supported representation algorithms:\n",
    "\n",
    "- Term frequency (count)\n",
    "- Term frequency-inverse document frequency (tfidf)\n",
    "*********************************\n",
    "Supported clustering algorithms:\n",
    "*********************************\n",
    "- K-means (kmeans)\n",
    "- Density-Based Spatial Clustering of Applications with Noise (dbscan)\n",
    "- Meanshift (meanshift)\n",
    "********************************\n",
    "Supported dimensionality reduction algorithms:\n",
    "*******************************\n",
    "\n",
    "- Principal component analysis (pca)\n",
    "- t-distributed stochastic neighbor embedding (tsne)\n",
    "- Non-negative matrix factorization (nmf)"
   ]
  },
  {
   "cell_type": "code",
   "execution_count": 45,
   "id": "helpful-berry",
   "metadata": {},
   "outputs": [
    {
     "name": "stdout",
     "output_type": "stream",
     "text": [
      "Requirement already satisfied: texthero in c:\\users\\win10\\anaconda3\\envs\\myenv\\lib\\site-packages (1.0.9)\n",
      "Requirement already satisfied: spacy>=2.2.2 in c:\\users\\win10\\anaconda3\\envs\\myenv\\lib\\site-packages (from texthero) (3.0.5)\n",
      "Requirement already satisfied: numpy>=1.17 in c:\\users\\win10\\anaconda3\\envs\\myenv\\lib\\site-packages (from texthero) (1.20.0)\n",
      "Requirement already satisfied: scikit-learn>=0.22 in c:\\users\\win10\\anaconda3\\envs\\myenv\\lib\\site-packages (from texthero) (0.24.1)\n",
      "Requirement already satisfied: plotly>=4.2.0 in c:\\users\\win10\\anaconda3\\envs\\myenv\\lib\\site-packages (from texthero) (4.14.3)\n",
      "Requirement already satisfied: nltk>=3.3 in c:\\users\\win10\\anaconda3\\envs\\myenv\\lib\\site-packages (from texthero) (3.5)\n",
      "Requirement already satisfied: tqdm>=4.3 in c:\\users\\win10\\anaconda3\\envs\\myenv\\lib\\site-packages (from texthero) (4.59.0)\n",
      "Requirement already satisfied: matplotlib>=3.1.0 in c:\\users\\win10\\anaconda3\\envs\\myenv\\lib\\site-packages (from texthero) (3.3.4)\n",
      "Requirement already satisfied: wordcloud>=1.5.0 in c:\\users\\win10\\anaconda3\\envs\\myenv\\lib\\site-packages (from texthero) (1.8.1)\n",
      "Requirement already satisfied: pandas>=1.0.2 in c:\\users\\win10\\anaconda3\\envs\\myenv\\lib\\site-packages (from texthero) (1.2.3)\n",
      "Requirement already satisfied: unidecode>=1.1.1 in c:\\users\\win10\\anaconda3\\envs\\myenv\\lib\\site-packages (from texthero) (1.2.0)\n",
      "Requirement already satisfied: gensim>=3.6.0 in c:\\users\\win10\\anaconda3\\envs\\myenv\\lib\\site-packages (from texthero) (3.8.3)\n",
      "Requirement already satisfied: smart-open>=1.8.1 in c:\\users\\win10\\anaconda3\\envs\\myenv\\lib\\site-packages (from gensim>=3.6.0->texthero) (3.0.0)\n",
      "Requirement already satisfied: Cython==0.29.14 in c:\\users\\win10\\anaconda3\\envs\\myenv\\lib\\site-packages (from gensim>=3.6.0->texthero) (0.29.14)\n",
      "Requirement already satisfied: scipy>=0.18.1 in c:\\users\\win10\\anaconda3\\envs\\myenv\\lib\\site-packages (from gensim>=3.6.0->texthero) (1.4.1)\n",
      "Requirement already satisfied: six>=1.5.0 in c:\\users\\win10\\anaconda3\\envs\\myenv\\lib\\site-packages (from gensim>=3.6.0->texthero) (1.15.0)\n",
      "Requirement already satisfied: pyparsing!=2.0.4,!=2.1.2,!=2.1.6,>=2.0.3 in c:\\users\\win10\\anaconda3\\envs\\myenv\\lib\\site-packages (from matplotlib>=3.1.0->texthero) (2.4.7)\n",
      "Requirement already satisfied: kiwisolver>=1.0.1 in c:\\users\\win10\\anaconda3\\envs\\myenv\\lib\\site-packages (from matplotlib>=3.1.0->texthero) (1.3.1)\n",
      "Requirement already satisfied: cycler>=0.10 in c:\\users\\win10\\anaconda3\\envs\\myenv\\lib\\site-packages (from matplotlib>=3.1.0->texthero) (0.10.0)\n",
      "Requirement already satisfied: python-dateutil>=2.1 in c:\\users\\win10\\anaconda3\\envs\\myenv\\lib\\site-packages (from matplotlib>=3.1.0->texthero) (2.8.1)\n",
      "Requirement already satisfied: pillow>=6.2.0 in c:\\users\\win10\\anaconda3\\envs\\myenv\\lib\\site-packages (from matplotlib>=3.1.0->texthero) (8.1.2)\n",
      "Requirement already satisfied: click in c:\\users\\win10\\anaconda3\\envs\\myenv\\lib\\site-packages (from nltk>=3.3->texthero) (7.1.2)\n",
      "Requirement already satisfied: regex in c:\\users\\win10\\anaconda3\\envs\\myenv\\lib\\site-packages (from nltk>=3.3->texthero) (2021.3.17)\n",
      "Requirement already satisfied: joblib in c:\\users\\win10\\anaconda3\\envs\\myenv\\lib\\site-packages (from nltk>=3.3->texthero) (1.0.1)\n",
      "Requirement already satisfied: pytz>=2017.3 in c:\\users\\win10\\anaconda3\\envs\\myenv\\lib\\site-packages (from pandas>=1.0.2->texthero) (2021.1)\n",
      "Requirement already satisfied: retrying>=1.3.3 in c:\\users\\win10\\anaconda3\\envs\\myenv\\lib\\site-packages (from plotly>=4.2.0->texthero) (1.3.3)\n",
      "Requirement already satisfied: threadpoolctl>=2.0.0 in c:\\users\\win10\\anaconda3\\envs\\myenv\\lib\\site-packages (from scikit-learn>=0.22->texthero) (2.1.0)\n",
      "Requirement already satisfied: requests in c:\\users\\win10\\anaconda3\\envs\\myenv\\lib\\site-packages (from smart-open>=1.8.1->gensim>=3.6.0->texthero) (2.25.1)\n",
      "Requirement already satisfied: wasabi<1.1.0,>=0.8.1 in c:\\users\\win10\\anaconda3\\envs\\myenv\\lib\\site-packages (from spacy>=2.2.2->texthero) (0.8.2)\n",
      "Requirement already satisfied: catalogue<2.1.0,>=2.0.1 in c:\\users\\win10\\anaconda3\\envs\\myenv\\lib\\site-packages (from spacy>=2.2.2->texthero) (2.0.1)\n",
      "Requirement already satisfied: srsly<3.0.0,>=2.4.0 in c:\\users\\win10\\anaconda3\\envs\\myenv\\lib\\site-packages (from spacy>=2.2.2->texthero) (2.4.0)\n",
      "Requirement already satisfied: murmurhash<1.1.0,>=0.28.0 in c:\\users\\win10\\anaconda3\\envs\\myenv\\lib\\site-packages (from spacy>=2.2.2->texthero) (1.0.5)\n",
      "Requirement already satisfied: setuptools in c:\\users\\win10\\anaconda3\\envs\\myenv\\lib\\site-packages (from spacy>=2.2.2->texthero) (52.0.0.post20210125)\n",
      "Requirement already satisfied: preshed<3.1.0,>=3.0.2 in c:\\users\\win10\\anaconda3\\envs\\myenv\\lib\\site-packages (from spacy>=2.2.2->texthero) (3.0.5)\n",
      "Requirement already satisfied: packaging>=20.0 in c:\\users\\win10\\anaconda3\\envs\\myenv\\lib\\site-packages (from spacy>=2.2.2->texthero) (20.9)\n",
      "Requirement already satisfied: jinja2 in c:\\users\\win10\\anaconda3\\envs\\myenv\\lib\\site-packages (from spacy>=2.2.2->texthero) (2.11.3)\n",
      "Requirement already satisfied: spacy-legacy<3.1.0,>=3.0.0 in c:\\users\\win10\\anaconda3\\envs\\myenv\\lib\\site-packages (from spacy>=2.2.2->texthero) (3.0.1)\n",
      "Requirement already satisfied: typer<0.4.0,>=0.3.0 in c:\\users\\win10\\anaconda3\\envs\\myenv\\lib\\site-packages (from spacy>=2.2.2->texthero) (0.3.2)\n",
      "Requirement already satisfied: cymem<2.1.0,>=2.0.2 in c:\\users\\win10\\anaconda3\\envs\\myenv\\lib\\site-packages (from spacy>=2.2.2->texthero) (2.0.5)\n",
      "Requirement already satisfied: blis<0.8.0,>=0.4.0 in c:\\users\\win10\\anaconda3\\envs\\myenv\\lib\\site-packages (from spacy>=2.2.2->texthero) (0.7.4)\n",
      "Requirement already satisfied: pydantic<1.8.0,>=1.7.1 in c:\\users\\win10\\anaconda3\\envs\\myenv\\lib\\site-packages (from spacy>=2.2.2->texthero) (1.7.3)\n",
      "Requirement already satisfied: pathy>=0.3.5 in c:\\users\\win10\\anaconda3\\envs\\myenv\\lib\\site-packages (from spacy>=2.2.2->texthero) (0.4.0)\n",
      "Requirement already satisfied: thinc<8.1.0,>=8.0.2 in c:\\users\\win10\\anaconda3\\envs\\myenv\\lib\\site-packages (from spacy>=2.2.2->texthero) (8.0.2)\n",
      "Requirement already satisfied: urllib3<1.27,>=1.21.1 in c:\\users\\win10\\anaconda3\\envs\\myenv\\lib\\site-packages (from requests->smart-open>=1.8.1->gensim>=3.6.0->texthero) (1.26.3)\n",
      "Requirement already satisfied: certifi>=2017.4.17 in c:\\users\\win10\\anaconda3\\envs\\myenv\\lib\\site-packages (from requests->smart-open>=1.8.1->gensim>=3.6.0->texthero) (2020.12.5)\n",
      "Requirement already satisfied: chardet<5,>=3.0.2 in c:\\users\\win10\\anaconda3\\envs\\myenv\\lib\\site-packages (from requests->smart-open>=1.8.1->gensim>=3.6.0->texthero) (4.0.0)\n",
      "Requirement already satisfied: idna<3,>=2.5 in c:\\users\\win10\\anaconda3\\envs\\myenv\\lib\\site-packages (from requests->smart-open>=1.8.1->gensim>=3.6.0->texthero) (2.10)\n",
      "Requirement already satisfied: MarkupSafe>=0.23 in c:\\users\\win10\\anaconda3\\envs\\myenv\\lib\\site-packages (from jinja2->spacy>=2.2.2->texthero) (1.1.1)\n"
     ]
    }
   ],
   "source": [
    "!pip install texthero"
   ]
  },
  {
   "cell_type": "code",
   "execution_count": 46,
   "id": "subjective-moldova",
   "metadata": {},
   "outputs": [
    {
     "name": "stdout",
     "output_type": "stream",
     "text": [
      "Help on package texthero:\n",
      "\n",
      "NAME\n",
      "    texthero - Texthero: python toolkit for text preprocessing, representation and visualization.\n",
      "\n",
      "PACKAGE CONTENTS\n",
      "    extend_pandas\n",
      "    nlp\n",
      "    preprocessing\n",
      "    representation\n",
      "    stop_words\n",
      "    stopwords\n",
      "    visualization\n",
      "\n",
      "DATA\n",
      "    Callable = typing.Callable\n",
      "    List = typing.List\n",
      "    Optional = typing.Optional\n",
      "    Set = typing.Set\n",
      "\n",
      "FILE\n",
      "    c:\\users\\win10\\anaconda3\\envs\\myenv\\lib\\site-packages\\texthero\\__init__.py\n",
      "\n",
      "\n"
     ]
    }
   ],
   "source": [
    "import texthero\n",
    "help(texthero)"
   ]
  },
  {
   "cell_type": "markdown",
   "id": "printable-change",
   "metadata": {},
   "source": [
    "#### Text Preprocessing"
   ]
  },
  {
   "cell_type": "code",
   "execution_count": 48,
   "id": "harmful-windows",
   "metadata": {},
   "outputs": [],
   "source": [
    "import pandas\n",
    "text=\"It's a pleasant   day at Bangaloré; at / (10:30) am\"\n",
    "series=pd.Series(text)"
   ]
  },
  {
   "cell_type": "code",
   "execution_count": 49,
   "id": "frozen-constitution",
   "metadata": {},
   "outputs": [
    {
     "data": {
      "text/plain": [
       "0    It's a pleasant   day at Bangaloré; at / (10:3...\n",
       "dtype: object"
      ]
     },
     "execution_count": 49,
     "metadata": {},
     "output_type": "execute_result"
    }
   ],
   "source": [
    "series"
   ]
  },
  {
   "cell_type": "code",
   "execution_count": 51,
   "id": "valued-extra",
   "metadata": {},
   "outputs": [
    {
     "data": {
      "text/plain": [
       "0    It's a pleasant   day at Bangaloré; at / ( : ) am\n",
       "dtype: object"
      ]
     },
     "execution_count": 51,
     "metadata": {},
     "output_type": "execute_result"
    }
   ],
   "source": [
    "import texthero as hero\n",
    "\n",
    "hero.remove_digits(series)"
   ]
  },
  {
   "cell_type": "code",
   "execution_count": 53,
   "id": "subject-letters",
   "metadata": {},
   "outputs": [
    {
     "data": {
      "text/plain": [
       "0    It s a pleasant   day at Bangaloré  at    10 3...\n",
       "dtype: object"
      ]
     },
     "execution_count": 53,
     "metadata": {},
     "output_type": "execute_result"
    }
   ],
   "source": [
    "#### Remove punctuations\n",
    "hero.remove_punctuation(series)"
   ]
  },
  {
   "cell_type": "code",
   "execution_count": 55,
   "id": "south-reverse",
   "metadata": {},
   "outputs": [
    {
     "data": {
      "text/plain": [
       "0    It's a pleasant   day at Bangaloré; at /  am\n",
       "dtype: object"
      ]
     },
     "execution_count": 55,
     "metadata": {},
     "output_type": "execute_result"
    }
   ],
   "source": [
    "#### Remove Brackets\n",
    "hero.remove_brackets(series)"
   ]
  },
  {
   "cell_type": "code",
   "execution_count": 56,
   "id": "comfortable-operation",
   "metadata": {},
   "outputs": [
    {
     "data": {
      "text/plain": [
       "0    It's a pleasant   day at Bangalore; at / (10:3...\n",
       "dtype: object"
      ]
     },
     "execution_count": 56,
     "metadata": {},
     "output_type": "execute_result"
    }
   ],
   "source": [
    "hero.remove_diacritics(series)"
   ]
  },
  {
   "cell_type": "code",
   "execution_count": 57,
   "id": "pleasant-antique",
   "metadata": {},
   "outputs": [
    {
     "data": {
      "text/plain": [
       "0    It's a pleasant day at Bangaloré; at / (10:30) am\n",
       "dtype: object"
      ]
     },
     "execution_count": 57,
     "metadata": {},
     "output_type": "execute_result"
    }
   ],
   "source": [
    "hero.remove_whitespace(series)"
   ]
  },
  {
   "cell_type": "code",
   "execution_count": 58,
   "id": "baking-aurora",
   "metadata": {},
   "outputs": [
    {
     "data": {
      "text/plain": [
       "0    It'  pleasant   day  Bangaloré;  / (10:30) \n",
       "dtype: object"
      ]
     },
     "execution_count": 58,
     "metadata": {},
     "output_type": "execute_result"
    }
   ],
   "source": [
    "### Stopwords\n",
    "hero.remove_stopwords(series)"
   ]
  },
  {
   "cell_type": "code",
   "execution_count": 59,
   "id": "convenient-proportion",
   "metadata": {},
   "outputs": [
    {
     "data": {
      "text/plain": [
       "0    pleasant day bangalore\n",
       "dtype: object"
      ]
     },
     "execution_count": 59,
     "metadata": {},
     "output_type": "execute_result"
    }
   ],
   "source": [
    "hero.clean(series)"
   ]
  },
  {
   "cell_type": "code",
   "execution_count": 60,
   "id": "iraqi-variable",
   "metadata": {},
   "outputs": [
    {
     "data": {
      "text/html": [
       "<div>\n",
       "<style scoped>\n",
       "    .dataframe tbody tr th:only-of-type {\n",
       "        vertical-align: middle;\n",
       "    }\n",
       "\n",
       "    .dataframe tbody tr th {\n",
       "        vertical-align: top;\n",
       "    }\n",
       "\n",
       "    .dataframe thead th {\n",
       "        text-align: right;\n",
       "    }\n",
       "</style>\n",
       "<table border=\"1\" class=\"dataframe\">\n",
       "  <thead>\n",
       "    <tr style=\"text-align: right;\">\n",
       "      <th></th>\n",
       "      <th>text</th>\n",
       "      <th>topic</th>\n",
       "    </tr>\n",
       "  </thead>\n",
       "  <tbody>\n",
       "    <tr>\n",
       "      <th>0</th>\n",
       "      <td>Claxton hunting first major medal\\n\\nBritish h...</td>\n",
       "      <td>athletics</td>\n",
       "    </tr>\n",
       "    <tr>\n",
       "      <th>1</th>\n",
       "      <td>O'Sullivan could run in Worlds\\n\\nSonia O'Sull...</td>\n",
       "      <td>athletics</td>\n",
       "    </tr>\n",
       "    <tr>\n",
       "      <th>2</th>\n",
       "      <td>Greene sets sights on world title\\n\\nMaurice G...</td>\n",
       "      <td>athletics</td>\n",
       "    </tr>\n",
       "    <tr>\n",
       "      <th>3</th>\n",
       "      <td>IAAF launches fight against drugs\\n\\nThe IAAF ...</td>\n",
       "      <td>athletics</td>\n",
       "    </tr>\n",
       "    <tr>\n",
       "      <th>4</th>\n",
       "      <td>Dibaba breaks 5,000m world record\\n\\nEthiopia'...</td>\n",
       "      <td>athletics</td>\n",
       "    </tr>\n",
       "  </tbody>\n",
       "</table>\n",
       "</div>"
      ],
      "text/plain": [
       "                                                text      topic\n",
       "0  Claxton hunting first major medal\\n\\nBritish h...  athletics\n",
       "1  O'Sullivan could run in Worlds\\n\\nSonia O'Sull...  athletics\n",
       "2  Greene sets sights on world title\\n\\nMaurice G...  athletics\n",
       "3  IAAF launches fight against drugs\\n\\nThe IAAF ...  athletics\n",
       "4  Dibaba breaks 5,000m world record\\n\\nEthiopia'...  athletics"
      ]
     },
     "execution_count": 60,
     "metadata": {},
     "output_type": "execute_result"
    }
   ],
   "source": [
    "df = pd.read_csv(\n",
    "   \"https://github.com/jbesomi/texthero/raw/master/dataset/bbcsport.csv\"\n",
    ")\n",
    "df.head()"
   ]
  },
  {
   "cell_type": "code",
   "execution_count": 62,
   "id": "excellent-longitude",
   "metadata": {},
   "outputs": [
    {
     "name": "stderr",
     "output_type": "stream",
     "text": [
      "C:\\Users\\win10\\anaconda3\\envs\\myenv\\lib\\site-packages\\texthero\\preprocessing.py:72: FutureWarning:\n",
      "\n",
      "The default value of regex will change from True to False in a future version.\n",
      "\n",
      "C:\\Users\\win10\\anaconda3\\envs\\myenv\\lib\\site-packages\\texthero\\preprocessing.py:131: FutureWarning:\n",
      "\n",
      "The default value of regex will change from True to False in a future version.\n",
      "\n"
     ]
    },
    {
     "data": {
      "application/vnd.plotly.v1+json": {
       "config": {
        "plotlyServerURL": "https://plot.ly"
       },
       "data": [
        {
         "hovertemplate": "topic=athletics<br>x=%{x}<br>y=%{y}<extra></extra>",
         "legendgroup": "athletics",
         "marker": {
          "color": "#636efa",
          "symbol": "circle"
         },
         "mode": "markers",
         "name": "athletics",
         "orientation": "v",
         "showlegend": true,
         "type": "scatter",
         "x": [
          -0.09109912281144122,
          -0.00036132812221576415,
          -0.11760496196780282,
          -0.09134845338902024,
          -0.0912957165291783,
          -0.11037665019533813,
          -0.02900951017521406,
          -0.043003572188265914,
          -0.12895403202702663,
          -0.157550458677367,
          -0.09562352853573723,
          -0.10797649147737387,
          -0.08944896166765832,
          -0.08058523011865931,
          -0.07797224950566425,
          -0.12052519759920532,
          -0.14093051924398017,
          -0.1052845832955564,
          -0.11113856097987268,
          -0.10797649147737387,
          -0.09673101229919226,
          -0.10715690893091115,
          -0.14574251288894446,
          -0.07448979680876634,
          -0.10874797882544675,
          -0.08583744961166181,
          -0.0992890875159493,
          -0.11474579618162774,
          -0.10917973253898898,
          -0.07437316575928395,
          -0.0497325141988074,
          -0.1323726069899758,
          -0.1511135012472239,
          -0.13153423770225758,
          -0.0892425938722384,
          -0.054693334640442716,
          -0.10212513391362152,
          -0.10185261916267578,
          -0.05787298378280984,
          -0.07922909455168656,
          -0.06951356001196703,
          -0.09007648868524071,
          -0.061714730659612214,
          -0.05636814015196485,
          -0.09412825810398834,
          -0.08160212655276948,
          -0.1126368967102085,
          -0.12708193647163385,
          -0.05470894334737538,
          -0.12123627838662925,
          -0.12816280079383738,
          -0.09402577096664964,
          -0.09615956078516062,
          -0.14350841938135572,
          -0.09692214573474783,
          -0.10464994580934159,
          -0.12824161541893273,
          -0.1384922714953387,
          -0.11371044020039077,
          -0.10022799911364445,
          -0.11222002627538953,
          -0.06186413503809369,
          -0.12163865145009575,
          -0.06485986980529534,
          -0.10995593989489966,
          -0.16000747809256213,
          -0.11225125593503306,
          -0.03028895749097469,
          -0.17674351144071598,
          -0.10722285277722562,
          -0.10590989933834463,
          -0.059133191605096475,
          -0.10776913544739225,
          -0.10504456480608065,
          -0.10488490843174332,
          -0.06405954438126772,
          -0.014901518359531284,
          -0.08092292556577473,
          -0.1353630337099723,
          -0.13045661910798478,
          -0.1464563021766971,
          -0.127889369186676,
          -0.06360407335638248,
          -0.09402577096664964,
          -0.07467740334321302,
          -0.0802587775643611,
          -0.08359002350944403,
          -0.05470894334737538,
          -0.1320238513491597,
          -0.09228478905847937,
          -0.06991095145054313,
          -0.07751241769372781,
          -0.022596966775651234,
          -0.08828801693493102,
          -0.15268322644085386,
          -0.11298457596619788,
          -0.04432293333938019,
          -0.10721352017243799,
          -0.13799845709896727,
          -0.06298583347328959,
          -0.05847038322913219
         ],
         "xaxis": "x",
         "y": [
          0.10359351265238617,
          0.02478045501220412,
          0.12860286068425186,
          0.15398002814497108,
          0.13507109027104225,
          0.15760078919038664,
          0.07048431812997258,
          0.034819204711568956,
          0.1707512043272293,
          0.2403512474922175,
          0.11498338941282664,
          0.10886008851015777,
          0.11687728968600819,
          0.04874561505783061,
          0.13011001812260722,
          0.33155572666203875,
          0.33398251731366607,
          0.17706837315971125,
          0.13478108573450712,
          0.10886008851015777,
          0.15728819011429754,
          0.13102925111520652,
          0.33456949642862327,
          0.11102754538215764,
          0.15281111218751134,
          0.18011095776992356,
          0.15881505539337354,
          0.13618527577094286,
          0.16125274545876592,
          0.10382052530393493,
          0.07710734336463562,
          0.20837415627279657,
          0.33679496972817324,
          0.15842007680954523,
          0.16930074941744003,
          0.12916595731510416,
          0.13613560492045224,
          0.08900973115828138,
          0.12292517656320384,
          0.08336210940859268,
          0.09687675142215775,
          0.12516424696805342,
          0.12044012246593873,
          0.07943531087432909,
          0.1599869924686446,
          0.1131723671688807,
          0.2588144725474124,
          0.3035245561004885,
          0.13467156004956826,
          0.3224832809338502,
          0.34400932514727356,
          0.1532076048496453,
          0.1127112299038582,
          0.31465837407455866,
          0.13850160209069953,
          0.1337507063596713,
          0.15059540919915496,
          0.16409241403027092,
          0.08907677128940575,
          0.1371036737515619,
          0.1502914040364835,
          0.08607834054724364,
          0.1561442589377156,
          0.1015674880124984,
          0.1312441878762619,
          0.2946820161158833,
          0.15625837735763765,
          0.08154154401925064,
          0.24983468422595337,
          0.08363801913148333,
          0.11836233838762086,
          0.06529648955444638,
          0.08488051120130954,
          0.12842246175271899,
          0.18551399454283815,
          0.10167968083719604,
          0.05039731212217481,
          0.11163865504261555,
          0.32709979011943535,
          0.2779945078421129,
          0.34302396095648763,
          0.33808979338861533,
          0.10767895343383549,
          0.1532076048496453,
          0.10393115994816997,
          0.09758431063074767,
          0.12015312704851362,
          0.13467156004956826,
          0.3083512748459979,
          0.09760090854042551,
          0.13431863290233956,
          0.10340079897129989,
          0.013167958636959128,
          0.11304199560070098,
          0.22090170599027203,
          0.12446835041370184,
          0.0565239598018234,
          0.15211942744662557,
          0.1798349032869066,
          0.0175275935868449,
          0.11552886410499462
         ],
         "yaxis": "y"
        },
        {
         "hovertemplate": "topic=cricket<br>x=%{x}<br>y=%{y}<extra></extra>",
         "legendgroup": "cricket",
         "marker": {
          "color": "#EF553B",
          "symbol": "circle"
         },
         "mode": "markers",
         "name": "cricket",
         "orientation": "v",
         "showlegend": true,
         "type": "scatter",
         "x": [
          0.25333538195670535,
          0.2141277514468414,
          0.22594556506358482,
          0.21750445514992692,
          0.11988904666723578,
          0.13973243496403906,
          0.12125140619523204,
          0.10652405747115791,
          0.14951075200404032,
          0.10169180427282717,
          0.12016396610861259,
          0.052543770837361586,
          0.3132847449009103,
          0.06323637897385607,
          0.20979633886321888,
          0.0321714287199891,
          0.06166464557699476,
          0.14884727047724866,
          0.2255038329546032,
          0.17598440186510944,
          0.061664645576994796,
          0.1891543287975746,
          0.13958916496750262,
          0.16208725162252122,
          0.07285791189324631,
          0.21489479525350977,
          0.23003916927697693,
          0.21144401539613278,
          0.13976368256252122,
          0.10526558933773286,
          0.25203624552284554,
          0.16208725162252122,
          0.07285791189324631,
          0.19225441193368276,
          0.09286321606036198,
          0.11188980328644155,
          0.08189190698353717,
          0.16454359087614434,
          0.11111510479985894,
          0.18275008026088085,
          0.1295257888649859,
          0.245832056504017,
          0.250792188296457,
          0.2143568930173636,
          0.26277269829557565,
          0.16645405129289362,
          0.06145921903845879,
          0.19770820612461143,
          0.1331149061747243,
          0.18827505885276796,
          0.03106487245070609,
          0.2656323707023093,
          0.26614454565962625,
          0.23016892859919671,
          0.12798276931099622,
          0.22398645829317076,
          0.11950596898017607,
          0.056346984890279755,
          0.20608578450468745,
          0.16744066665019627,
          0.16731641429708505,
          0.22968156917313567,
          0.297912085623366,
          0.20876985976921894,
          0.15745963583246647,
          0.1286200708009997,
          0.19269952097737983,
          0.37105411096525687,
          0.13082002926351488,
          0.2574049781920631,
          0.3417491195901146,
          0.15532551686913532,
          0.3049617625269477,
          0.24925981826012744,
          0.3513233751445935,
          0.19600847341653863,
          0.168865811080503,
          0.061907928991639896,
          0.1896748254286347,
          0.24689410750149243,
          0.17390062082395363,
          0.27542020394497835,
          0.32690538226456906,
          0.3273871699547657,
          0.1048471420632412,
          0.266360267614854,
          0.2797037284775589,
          0.28299463716745493,
          0.276947302219952,
          0.1388352691452625,
          -0.026167051448218535,
          0.08987022613531499,
          0.2074251792388511,
          0.031156948601753866,
          0.1453511077008072,
          0.17704173836005166,
          0.11110699502987349,
          0.17795331023815628,
          0.10031675314926365,
          0.1685171529847897,
          0.08763873369005211,
          0.017455494168948045,
          0.08971195396468463,
          0.09371711047067308,
          0.06737340687920089,
          0.04718650324555708,
          0.20537280377927686,
          0.039046507170493856,
          0.2861029808682538,
          0.20413872759853616,
          0.11367465100219679,
          -0.0334873918342145,
          0.1662755497085844,
          0.1297042378338825,
          0.10119855937380902,
          0.02839803075162531,
          0.20871289658350944,
          0.11368238993757371,
          0.23117659337396426,
          0.10372591678783707,
          0.1349261705405753,
          0.0842796356102848,
          0.11013443924774201,
          0.11963947680708736
         ],
         "xaxis": "x",
         "y": [
          0.11887814741518599,
          0.057162612555437774,
          0.09694171395515222,
          0.17753760787523848,
          0.008918615802469535,
          0.028675900461081892,
          0.10691395089951089,
          0.07306800157650657,
          0.14661321793856208,
          0.05936039683028485,
          0.10384315153853028,
          -0.0062419603099425,
          0.07153841174832758,
          0.02849803330433031,
          0.07525580810262594,
          0.0019136078965777958,
          0.06407789729096519,
          0.04708115834160961,
          0.06440056676177366,
          0.031758127652404766,
          0.06407789729096519,
          0.17118979184452957,
          0.11006068237459027,
          0.14019275331624687,
          0.11264817837403845,
          0.17324025697997833,
          0.09095391926489628,
          0.13312341660627008,
          0.10978283061368586,
          0.03176857761781183,
          0.0745346995194576,
          0.14019275331624687,
          0.11264817837403845,
          0.1761762642576023,
          0.07635533740726755,
          0.04348593609645989,
          0.0942530672264913,
          0.09444201682014591,
          0.06095105974433574,
          0.04127377123834109,
          0.12267225265625728,
          0.030871421161337204,
          0.05990107650867616,
          0.16255367592899225,
          0.17559527121470986,
          0.09021195227230688,
          0.07787505637709352,
          0.03493943364817206,
          0.06974523780346067,
          0.050249363798553916,
          0.008369886522075235,
          0.1147615269374291,
          0.11584014439234665,
          0.15633068157612393,
          0.11097679433350198,
          0.1106438138037583,
          0.1020940265919741,
          0.08060853855788044,
          0.1124143819736244,
          0.1623273587974106,
          0.1618243298467703,
          0.1655585239369748,
          0.017307425774018302,
          0.05453999368458782,
          0.1551928572522469,
          0.07710701866098658,
          0.026973183760866673,
          0.06906299222377711,
          0.02855863035375805,
          0.20617186960259914,
          0.016549093205481476,
          0.09811654799626432,
          0.07111272710021199,
          0.20282559568699526,
          0.06684640707896909,
          -0.00035463197443952224,
          0.13903474832111762,
          0.059577940314163705,
          0.03880439616466862,
          0.06023331880561688,
          0.12889122619173332,
          0.17853195645518607,
          0.06341419218693019,
          0.06612005227428532,
          0.09681421330122097,
          0.2141359853336068,
          0.2042567590116163,
          0.2058520920372308,
          0.01883185802242961,
          0.11355069489694987,
          0.06444823770784111,
          0.05057223630027178,
          0.060226090317702395,
          0.07030179007993001,
          0.015858404561408575,
          0.028772166132612638,
          -0.019352387042445,
          0.12800319793964032,
          0.05381588297489352,
          0.1367082927642569,
          0.07632470654856387,
          0.06499084758619628,
          0.06620707656524358,
          0.12329319641558954,
          0.0645162688475589,
          0.0572510464789407,
          0.03132604230356237,
          0.01191119967662798,
          0.022318296788940935,
          0.12198658273119334,
          0.1075425328102841,
          0.06293426875208172,
          0.11735317562412594,
          0.12300644357300658,
          0.07424957211199124,
          -0.004335829521083675,
          0.027598875563058234,
          0.04958275938253582,
          0.02154839011490448,
          0.07467926991594412,
          0.10339961825797533,
          -0.0020962211674068515,
          -0.04171493494086963,
          0.0818418528102264
         ],
         "yaxis": "y"
        },
        {
         "hovertemplate": "topic=football<br>x=%{x}<br>y=%{y}<extra></extra>",
         "legendgroup": "football",
         "marker": {
          "color": "#00cc96",
          "symbol": "circle"
         },
         "mode": "markers",
         "name": "football",
         "orientation": "v",
         "showlegend": true,
         "type": "scatter",
         "x": [
          -0.04689464336060052,
          -0.11360182121350958,
          -0.08357466203959125,
          -0.09690312896511485,
          0.07297005107223317,
          -0.03375248396468759,
          -0.07618274485852841,
          -0.19884217198627485,
          -0.10026209606525471,
          -0.12677401942482278,
          -0.006047350303953852,
          -0.016377668261803164,
          -0.011271629720335158,
          -0.001955409134467438,
          -0.005050558915593222,
          -0.054970832298334785,
          -0.12327991488746817,
          -0.17133178440650026,
          -0.004619188672031759,
          -0.04147034797876254,
          -0.03796318966196688,
          -0.047156290107439686,
          -0.05179755356096145,
          -0.1383381625140808,
          -0.02393235816541471,
          -0.011152153383733293,
          -0.17145402424546452,
          -0.10736766483316204,
          0.004896514206719661,
          -0.06756389479362858,
          -0.1374883738202281,
          -0.06456707567386023,
          -0.017138207707103902,
          0.016467280079828076,
          0.006846486581324185,
          -0.05994812036603267,
          -0.043216532088501736,
          0.002956219540024075,
          0.01495978654620648,
          0.021614058527016845,
          -0.031406366116412246,
          -0.05998522836232063,
          -0.07735420225821381,
          -0.06605944379691855,
          -0.06375268304652663,
          -0.10988122990873267,
          -0.1486675949879203,
          -0.04876443973942198,
          -0.05645391128551967,
          -0.08694010949999507,
          -0.02422653481294567,
          -0.026963082721519562,
          -0.040233410058534654,
          -0.054003257764862964,
          -0.04764756450620194,
          -0.0474465958504713,
          -0.05525310372646577,
          -0.10668952530223656,
          -0.06075773119060624,
          -0.12703998701428343,
          -0.08856055315832598,
          -0.07407449936610584,
          -0.11304256299402077,
          -0.0967039843498149,
          -0.18491097081760924,
          -0.05510378572874836,
          -0.08312663698216591,
          -0.050172823983402684,
          -0.07070594132135774,
          -0.05945967315863461,
          -0.08769350862589641,
          -0.0659903078380288,
          -0.1100308716571157,
          -0.1325263193303601,
          -0.20222133355360733,
          -0.08614082248742962,
          -0.03334407224167617,
          -0.07564549730276642,
          -0.00862221118914248,
          -0.1273199797822603,
          -0.07644597244646098,
          -0.07532598699983742,
          -0.18271207960501457,
          -0.08674497466961076,
          -0.051909687372994534,
          -0.07306840651048262,
          -0.13046020844526343,
          -0.13046020844526343,
          -0.14947332885445574,
          -0.11786468934438249,
          -0.03607619359384734,
          -0.08004446582585802,
          -0.07822004752657076,
          -0.10669097417723605,
          -0.07583475120188005,
          0.02200767807126402,
          -0.0384417868781966,
          -0.09019253573876194,
          -0.10619589850275242,
          -0.05025133597131173,
          -0.07612764974967098,
          -0.11808206122387634,
          -0.09968738312619209,
          -0.11959582189194437,
          -0.14081415131353603,
          -0.06862722062712936,
          -0.12773219177089656,
          -0.051245422593443474,
          -0.07091914236095542,
          -0.04930213636827192,
          -0.05969684263313553,
          -0.1169581409407862,
          -0.04540848081992433,
          -0.05456804436350383,
          -0.16295875231276094,
          -0.04034828468000755,
          -0.11231696037408108,
          -0.03190519779875637,
          -0.02551435737046712,
          -4.178541935527237e-05,
          -0.014133954979161199,
          -0.03241618088704902,
          -0.021862946367307946,
          -0.1749950134510401,
          0.017035718513145347,
          -0.061738593403578235,
          -0.05157167915437581,
          -0.046330055509066714,
          -0.0949062549511702,
          -0.020893870505418348,
          0.005093413442232913,
          -0.03896379092840033,
          -0.113098001186814,
          -0.11359228581706901,
          -0.0605050680601428,
          -0.05462662482661625,
          -0.1322409014864548,
          -0.03258908271498942,
          -0.05768033520584569,
          -0.06953306483787873,
          -0.13097452035343415,
          -0.10571141147937413,
          -0.11648030651773764,
          -0.09556447461061124,
          -0.13108871417562232,
          -0.017922379271345476,
          -0.06382645629350563,
          -0.10085817240676614,
          -0.19366430021244074,
          -0.06325233258053133,
          -0.05295272575277735,
          -0.11597241703572482,
          -0.05114089511437865,
          -0.09776440018309335,
          -0.07210346605464703,
          -0.056941892058805496,
          -0.07898022958553758,
          -0.14648677192333054,
          -0.044544681070104127,
          -0.11378890771591475,
          -0.14648677192333054,
          -0.06710036062228168,
          -0.06845619197881762,
          -0.06845619197881762,
          -0.09293339430067003,
          -0.06943207375375751,
          -0.06028547116960427,
          -0.051790387297207495,
          -0.03613380592466379,
          -0.06023077425367791,
          -0.08729750937971135,
          -0.13353943041499397,
          -0.07244590143498604,
          -0.040601672959265346,
          -0.0400947594099756,
          -0.060361267554545295,
          -0.07180519013762997,
          -0.1566793065955336,
          -0.07462107040283769,
          -0.1700159126580834,
          -0.09032809480774402,
          -0.05522363342068641,
          -0.04015939934652807,
          -0.0617260407150927,
          -0.08175863180187959,
          -0.1283300189090561,
          -0.08669049016497754,
          -0.09576153154335773,
          -0.07958540879816284,
          -0.16110330331467,
          -0.15689534328654547,
          -0.1191848696005194,
          -0.07915121230897992,
          -0.07277068506965173,
          -0.05915080829391334,
          0.005111812722767132,
          -0.03690608314500702,
          -0.1007695679812439,
          -0.07662653787728228,
          -0.06764429484042106,
          -0.053647895820840626,
          -0.1957433922006708,
          -0.05512523973601206,
          -0.06532652336412323,
          -0.07665343718642818,
          -0.04265252194798401,
          -0.200190745886777,
          -0.05185621343364364,
          -0.14456153239907518,
          -0.08357466203959125,
          -0.06643013207511718,
          -0.07774273339753948,
          -0.03536909443851619,
          -0.04726504899146584,
          -0.12158535997385019,
          -0.07004775750152577,
          -0.030227465026882637,
          -0.05992634427523594,
          -0.02292409768389707,
          0.0024848052457619985,
          -0.13378894187986062,
          -0.0057379051044867966,
          -0.10064863025428242,
          -0.032591690664982194,
          -0.04231020841125085,
          -0.09704225465119054,
          -0.03225316313770707,
          -0.08211310633637811,
          -0.18137641769549953,
          -0.12592927973286866,
          -0.06025946494349221,
          -0.0868755751864048,
          -0.0916835804937915,
          -0.06030953423522072,
          -0.04878848193331437,
          -0.02447882492978195,
          -0.08933048883284662,
          -0.0667769861331467,
          -0.18560673613213283,
          -0.1139651842811624,
          -0.1226827960282989,
          -0.06402859636038293,
          -0.17256906267982505,
          -0.08057533160685154,
          -0.1300530268945989,
          -0.0757351120374367,
          -0.025365837519494575,
          -0.04542381234978099,
          -0.057993397896017145,
          -0.14916164629685827,
          -0.07931555973227752,
          -0.12642633520293683,
          -0.07905685861925439,
          -0.04086429531064789,
          -0.03989927554049179,
          -0.05489780699426149,
          -0.10148826616598068,
          -0.00946368183657373,
          -0.051663484327546895,
          -0.08291324134970715,
          -0.021669052643918576,
          -0.09839215313127465,
          -0.06478162192774375,
          -0.03568942079242052,
          -0.002807017702712784
         ],
         "xaxis": "x",
         "y": [
          -0.08574420003383343,
          -0.11595803850367141,
          -0.06957719162602517,
          -0.06811050182625826,
          -0.06198537071558245,
          -0.009076855026901061,
          -0.09508845326133608,
          -0.21771735889008167,
          -0.1196885186153344,
          -0.1661051141768729,
          -0.056270970946202946,
          -0.04588983392041525,
          -0.042930270572682686,
          -0.027134450507166483,
          -0.01796702589689373,
          -0.058199689683172774,
          -0.19909727634374244,
          -0.17028416171672256,
          -0.045279911137687874,
          -0.0431220626125064,
          -0.1041898238382155,
          -0.03357358063895186,
          -0.015518980313009462,
          -0.12672832335795392,
          -0.1287664845898935,
          -0.07951711083352238,
          -0.17001020738941114,
          -0.12206188612171344,
          -0.07066687856366968,
          -0.03292907499093062,
          -0.14218870577548426,
          -0.07850968034025516,
          -0.014297783222715507,
          -0.04275215924596871,
          -0.04926787344944416,
          -0.00900749596449158,
          0.014975861116798156,
          -0.019996895622929424,
          -0.11209159419204143,
          -0.009606885951318006,
          -0.02024114002484866,
          0.03681836982073595,
          -0.07456952822523479,
          -0.0580980947504097,
          -0.08259630779145674,
          -0.10109050151873597,
          -0.173020690305192,
          -0.14274039491216503,
          -0.0340386207004209,
          -0.0814701641931008,
          -0.051596528632384654,
          -0.01882580992479826,
          -0.031572405401979316,
          -0.007440480006507439,
          0.006417333148353075,
          -0.08593359948300866,
          -0.11071240045278724,
          -0.11072575506704209,
          -0.013125345258093158,
          -0.08896010100923817,
          -0.11300635825788592,
          -0.07772753400930915,
          -0.11391794290432548,
          -0.06955968577177978,
          -0.24126366769817004,
          -0.11237948739109437,
          -0.057012127557710915,
          -0.058157514771401776,
          -0.07287627882841494,
          -0.028258510298907066,
          -0.07361927970546696,
          -0.03503029569402182,
          -0.0904102482330658,
          -0.0853111929718275,
          -0.182336529904027,
          -0.00592931034656806,
          -0.0049431440676464865,
          -0.06801781232951104,
          0.01365378361167948,
          -0.08124974256855706,
          -0.01884486538658391,
          -0.07487132609055587,
          -0.16497508573320366,
          -0.06499150159592916,
          -0.062433051813838236,
          -0.10421513892128582,
          -0.14143240231726836,
          -0.14143240231726836,
          -0.15583323497853402,
          -0.12279740898837123,
          -0.038925843075663,
          -0.06128331605509903,
          -0.04762303702481186,
          -0.08037985414749381,
          -0.060073104775670946,
          0.038285138791223104,
          -0.005914151288188245,
          -0.095706238777542,
          -0.056166443865970174,
          -0.01323799746330479,
          -0.0694737736370011,
          -0.10514404312201583,
          -0.06966337277960587,
          -0.09738925526165162,
          -0.0008196771734144074,
          -0.08918944181726617,
          -0.050595568463088804,
          -0.020920128923424524,
          -0.016714505993601563,
          0.004670564168910176,
          -0.06719826821492803,
          -0.08681412021178996,
          -0.025596647639487234,
          -0.07629017549961041,
          -0.17246143106904063,
          -0.0055311704832807645,
          -0.06947000733107124,
          -0.04702751935367036,
          -0.007737199066907133,
          0.010174775806982462,
          0.001795837971163668,
          -0.07646375838954673,
          -0.08134060983499067,
          -0.2000513335947125,
          -0.006367724707166355,
          -0.030042884295537704,
          -0.04181218102614424,
          -0.06740334612150226,
          -0.1354981208325626,
          0.01120730675963409,
          0.00038821952602445314,
          -0.055759562995586355,
          -0.12283495356101068,
          -0.1443240178383186,
          -0.06902823759673488,
          -0.026416349375733325,
          -0.1488965889479484,
          -0.055868931818730594,
          -0.03383929641310576,
          -0.003860254180231492,
          -0.1502001038751087,
          -0.1591146187741511,
          -0.09415341536579219,
          -0.12000456260510876,
          -0.13245352471052202,
          -0.053493643953198625,
          0.04313424074389112,
          -0.08916602068707079,
          -0.19740447361230307,
          -0.05063331301852163,
          -0.03721862765037488,
          -0.13651844168349603,
          -0.0669787172543598,
          -0.11082255892236664,
          -0.035256266212141125,
          -0.06469451850433047,
          -0.03974332605833815,
          -0.16718930150368136,
          0.0017077031041619168,
          -0.09193464006938934,
          -0.16718930150368136,
          -0.05493468666901595,
          -0.014258370351395006,
          -0.014258370351395006,
          -0.09674076515922068,
          -0.06512106921006068,
          -0.03251978898036967,
          -0.0011964303850357113,
          -0.051960839823304475,
          -0.033545532600054204,
          -0.029022101079724857,
          -0.10595632418356911,
          -0.09230952610009573,
          -0.08676700614619873,
          -0.06567197149778138,
          -0.07174418966356665,
          0.018240653151508125,
          -0.09415465158041658,
          -0.047741104211463804,
          -0.19733005201277196,
          -0.06703161004040095,
          -0.030802324889210447,
          -0.02036543347743914,
          -0.08988261252043536,
          -0.06359767323884657,
          -0.13700566295325836,
          -0.12945759549885177,
          -0.11159420613946185,
          -0.11883302247604512,
          -0.13156829229834396,
          -0.19383610779228816,
          -0.1690522407108709,
          -0.09023432707050116,
          -0.09264729663497183,
          -0.033876879673861326,
          -0.03757531942637415,
          0.005477019608829042,
          -0.1494331380267318,
          -0.1778929474663073,
          -0.15020499221332567,
          -0.06225653314840111,
          -0.2480483746012299,
          -0.07296067965512873,
          -0.06581474063768643,
          -0.1172231132095539,
          -0.026977324195725235,
          -0.218132136014664,
          -0.04309714280537406,
          -0.17276174187343676,
          -0.06957719162602517,
          -0.12652820993718686,
          -0.12813298914655777,
          -0.02966314503517207,
          -0.05578296572704524,
          -0.13743591788945328,
          -0.09155105032330846,
          -0.0108500072051553,
          -0.06190770504207702,
          -0.01009247192179411,
          0.009122401932512762,
          -0.1863988499552893,
          -0.052895328720950194,
          -0.06314171702088602,
          -0.00038714919417865085,
          -0.008315735509163466,
          -0.11892387772216013,
          -0.012783949225065734,
          -0.05839774050982507,
          -0.18855665311058029,
          -0.10147827836574638,
          0.05195221288526202,
          -0.057509164948689885,
          -0.06501570023542041,
          -0.03872126057830335,
          -0.014805393976189542,
          -0.08429573319359572,
          -0.09277538309408613,
          -0.08488259821301994,
          -0.168964337566946,
          -0.13189774819743252,
          -0.10801786453635544,
          -0.02441235228513875,
          -0.2034219614835572,
          -0.03521512959632597,
          -0.11477851281259667,
          -0.06416012076944434,
          -0.07023871263449248,
          0.023595382405774565,
          -0.09660316158575878,
          -0.15245433727747623,
          -0.09443660252452754,
          -0.12243466165992681,
          -0.09460766775907145,
          -0.05352227762194185,
          -0.010862514905188194,
          0.023253243242968763,
          -0.006745026801760029,
          0.031050663381725824,
          -0.04367778841937693,
          -0.11131773497398478,
          -0.02292461541525363,
          -0.10881359952934988,
          -0.02853280507074439,
          -0.02223506029690547,
          -0.020994956708923748
         ],
         "yaxis": "y"
        },
        {
         "hovertemplate": "topic=rugby<br>x=%{x}<br>y=%{y}<extra></extra>",
         "legendgroup": "rugby",
         "marker": {
          "color": "#ab63fa",
          "symbol": "circle"
         },
         "mode": "markers",
         "name": "rugby",
         "orientation": "v",
         "showlegend": true,
         "type": "scatter",
         "x": [
          0.13171015720874066,
          0.19127933996045982,
          0.13733601397626155,
          0.0571452205100686,
          0.06673913662962432,
          0.15172073639709385,
          0.1350847671065202,
          0.12873640222437002,
          0.10041155596618209,
          0.040020321565187644,
          0.009740101346793803,
          0.060471259033785106,
          0.08267592701593392,
          0.030425320999424476,
          0.03819427561062017,
          0.15797360631006185,
          0.19671113328852918,
          0.0850823932973269,
          0.15876801182134198,
          0.15250138159589846,
          0.162393977017606,
          0.09144742798018275,
          0.06233970909063807,
          0.09361351275523973,
          0.14889677959091427,
          0.02742677184740407,
          0.1353865446089932,
          0.18677128894110087,
          0.22281682074539172,
          0.10961744404841842,
          0.15592090501491115,
          0.21108242492251414,
          0.061989620945222715,
          -0.009005689488269035,
          0.04049733104004358,
          -0.007394378329017084,
          0.21163846854436263,
          0.03474677367675726,
          0.1823398159275168,
          0.27883000157969945,
          0.025263935673253322,
          0.03648297097097344,
          0.13904282721157413,
          0.044283318387835384,
          0.12272267299069683,
          0.12140226301534507,
          0.13734141961021898,
          0.2395811777964504,
          0.10405619779958575,
          0.13263101969088956,
          0.18312562028579102,
          0.09512280816782136,
          0.12660995599232489,
          0.11127090413971791,
          0.13423354729383652,
          0.2687097653726444,
          0.1277595183338793,
          0.07005187090662403,
          0.20733217713802665,
          0.10948217226957568,
          0.10405619779958575,
          0.14110284380731736,
          0.06407214814611135,
          0.10095866307823503,
          0.1040976161897602,
          0.15177060514662388,
          0.04706401362260397,
          0.21186573573123438,
          0.10302650791167803,
          0.04504030379982069,
          0.038803957803248204,
          0.11940739775762527,
          0.1463314207619074,
          0.06718243611420383,
          0.0864375273090697,
          0.058833879041009764,
          0.057353394777247386,
          -0.02491237344304666,
          0.053327441773393214,
          0.004164537521079651,
          0.09010085239149035,
          -0.002078137217613133,
          0.02507400882446976,
          0.057708431195645234,
          0.17300300853186576,
          0.09527889866960483,
          0.11911756769211132,
          0.17192367845659642,
          -0.016564552554929238,
          0.20454854089871377,
          0.021149562109227693,
          0.11883143126456742,
          0.051252136274132346,
          0.17621005434453033,
          0.10915596206098481,
          0.057728419345053475,
          0.06594164051644592,
          0.09398211022718166,
          0.06376564563579505,
          0.16276024467942526,
          0.015122927031533378,
          0.13218764652776355,
          0.044638952109067695,
          0.13185633858919885,
          0.12985737599416236,
          0.11249827910509048,
          0.03557603488160808,
          0.04510554128375636,
          0.08221962976510483,
          0.022457424168748175,
          0.0020921359739109304,
          -0.055207439424082294,
          -0.05402572136830586,
          0.02883088695933341,
          0.02714677919900467,
          -0.04079411400055418,
          0.1843071204273485,
          0.06378515533810689,
          0.05230646960141045,
          -0.0022622962890767994,
          0.13020231037888808,
          0.13864272817748471,
          0.09664210067461151,
          -0.03124739508115114,
          -0.021941625671341277,
          -0.04803756984446324,
          0.1103107320283447,
          0.11758280846249874,
          0.1438089954843103,
          0.18064616228267472,
          0.1513318282893946,
          0.2626933918327929,
          0.1517815238784256,
          0.15171310658438367,
          0.09512280816782136,
          0.11913498183206077,
          0.1190344104930193,
          0.03634060758274282,
          0.1271229284166368,
          0.06981720443444979,
          0.2253250446312299,
          0.1406619425860747,
          0.22350584896497705,
          0.12419140083759583,
          0.1370245397789938,
          0.08025650104909716,
          0.04600169647701394
         ],
         "xaxis": "x",
         "y": [
          -0.18060460093034886,
          -0.20496757269304436,
          -0.16543903936525675,
          -0.04916788630231916,
          -0.10320195611743728,
          -0.20126149808806926,
          -0.17696141665682938,
          -0.14565168275688897,
          -0.1295691545817755,
          -0.04243748290445046,
          -0.055783767989899175,
          -0.03388819228538217,
          -0.10268719318340806,
          -0.08597513446670624,
          -0.039976409205463415,
          -0.15985984871342976,
          -0.16128428254159644,
          -0.10704163352568367,
          -0.11287350678563063,
          -0.15814587709767025,
          -0.14675886409689448,
          -0.09945923798008995,
          -0.04824253761493223,
          -0.0806558071317369,
          -0.15842775216291335,
          -0.09823932081200322,
          -0.09749779996193932,
          -0.12500871451935064,
          -0.11757860355914385,
          -0.148045265782881,
          -0.11050426676837503,
          -0.16120724909964085,
          -0.125227105308206,
          -0.01247084006779965,
          -0.06473078483291932,
          0.01932151056450155,
          -0.12422120203535468,
          -0.05423293356260629,
          -0.08244733315677008,
          -0.2196724413906106,
          0.006700726979821342,
          0.008050112527847498,
          -0.17864087847041354,
          -0.11675575066700168,
          -0.07796328171428708,
          -0.0769064507418793,
          -0.14963522384797304,
          -0.13987809835807963,
          -0.08412859798714846,
          -0.08990036202801878,
          -0.15524675242711172,
          -0.08949721464254413,
          -0.1502279926055634,
          -0.09179505718560392,
          -0.16725337074286326,
          -0.09778607760566867,
          -0.12900850901233882,
          -0.06792331588196797,
          -0.1869474162106381,
          -0.10800523763798264,
          -0.08412859798714846,
          -0.11681618046505748,
          -0.10161705105186881,
          -0.11747669161355916,
          -0.12720353036681417,
          -0.15491686005651964,
          -0.024617174419652346,
          -0.16026405651906306,
          -0.11442816418955933,
          -0.018306967277652707,
          -0.0873552787144483,
          -0.0998177888424736,
          -0.14492124646942647,
          -0.1141273911080426,
          -0.14205105692350925,
          -0.09327533206067137,
          -0.12661956346762393,
          -0.02654812713849618,
          -0.04231480326360257,
          -0.025962086810554976,
          -0.10685534684151356,
          -0.05024225241927166,
          -0.02745627707321297,
          -0.057157419468618464,
          -0.09355467333045547,
          -0.01773434873294637,
          -0.08255319810948665,
          -0.0681865802046983,
          -0.024941697845776264,
          -0.15933718506096686,
          -0.008000049194999463,
          -0.076494576909437,
          -0.09760032469368983,
          -0.09689698332097771,
          -0.055473653200240454,
          -0.021384066793119934,
          -0.06740498747178124,
          -0.03843860533800511,
          -0.018848761239794495,
          -0.14095073844488218,
          -0.01615064586465865,
          -0.09178871485128928,
          0.00835913760568908,
          -0.09142948384134778,
          -0.08032568470429347,
          -0.06310622726145058,
          -0.08656122287109269,
          -0.09444360724090196,
          -0.004020000588572161,
          -0.08109735042043968,
          -0.07240802651731876,
          -0.03055356174432035,
          -0.03158876063014279,
          -0.025691654016167534,
          -0.019637622001218054,
          -0.05763552947889964,
          -0.188169166532747,
          -0.013319990104703326,
          -0.08363162063568935,
          -0.06520731942991405,
          -0.11666809549194031,
          -0.12177360965658059,
          -0.10950353452475087,
          -0.05511763486605341,
          -0.07856343614708063,
          -0.04064471489546864,
          -0.0477189391593203,
          -0.11158251965201195,
          0.004800917133797355,
          -0.15758884687880678,
          -0.1885212977494737,
          -0.21691037948534697,
          -0.20102565461963792,
          -0.0758913390989279,
          -0.08949721464254413,
          -0.14261779949530973,
          -0.048495529961290064,
          -0.061275203175423995,
          -0.1333174626435521,
          -0.10635557350592068,
          -0.1593203948074484,
          -0.16181706870498655,
          -0.11748044012284206,
          -0.08268178290360091,
          -0.07373437241859915,
          -0.04361962059863952,
          -0.04324848461338862
         ],
         "yaxis": "y"
        },
        {
         "hovertemplate": "topic=tennis<br>x=%{x}<br>y=%{y}<extra></extra>",
         "legendgroup": "tennis",
         "marker": {
          "color": "#FFA15A",
          "symbol": "circle"
         },
         "mode": "markers",
         "name": "tennis",
         "orientation": "v",
         "showlegend": true,
         "type": "scatter",
         "x": [
          -0.04261856399916531,
          -0.05493173696361737,
          -0.05571700624996516,
          -0.06917531195741487,
          -0.03787800575321714,
          -0.05440749614908829,
          -0.05970825534564343,
          -0.048762527757520505,
          -0.05571090144457979,
          -0.05149898194732082,
          -0.027495588700246407,
          -0.07360801637465274,
          -0.037996099814405535,
          -0.0400601775438656,
          -0.04677530373021809,
          -0.05149898194732082,
          -0.06413234370386811,
          -0.07360801637465274,
          -0.04068233892770719,
          -0.046632821335388444,
          -0.06798730023456843,
          -0.06043326010027308,
          -0.05579354134859938,
          -0.07346175956932872,
          -0.04488924240994322,
          -0.04187819488741634,
          -0.022504927097846187,
          -0.060589055239446445,
          -0.057923218679131666,
          -0.06107769898591486,
          -0.04146824125722368,
          -0.056264105059544475,
          -0.062329080459811684,
          -0.04824416956095306,
          -0.03348970649501404,
          -0.02590929163854193,
          -0.06897236971492093,
          -0.07580969141912892,
          -0.05144215761832641,
          -0.05584951606659252,
          -0.05141832056618637,
          -0.04333014515122078,
          -0.06591824442764543,
          -0.06649505468651286,
          -0.04822232167308564,
          -0.0703875043998394,
          -0.05479856213695202,
          -0.0565480834364871,
          -0.07570749837011598,
          -0.07570749837011598,
          -0.05840666976817244,
          -0.05615731604916798,
          -0.048297023160650536,
          -0.03192198689916475,
          -0.04937204315098601,
          -0.08165958776834302,
          -0.06959667939884762,
          -0.041206618575894964,
          -0.04013299872905137,
          -0.062039071053135095,
          -0.06271585047892426,
          -0.03871582679226524,
          -0.046161424553827365,
          -0.10012621319965395,
          -0.05397672802976947,
          -0.06486133834125647,
          -0.054641611399647586,
          -0.02538773343877669,
          -0.08053830584206628,
          -0.08062737571231983,
          -0.051135242451707315,
          -0.07717623366341814,
          -0.05780281773882558,
          -0.04825381925791764,
          -0.10320170679272404,
          -0.0359850769747234,
          -0.0297055133320442,
          -0.04724433589007442,
          -0.08005447503805375,
          -0.07207028378723435,
          -0.041898583141081455,
          -0.07209885154971042,
          -0.06630032809561512,
          -0.03235355718183309,
          -0.05100449150302875,
          -0.027628251243284538,
          -0.06089679672032126,
          -0.02083612694436976,
          -0.06208777490093102,
          -0.03782892468376498,
          -0.0788645373008069,
          0.01710731785491204,
          -0.03180235268739475,
          -0.06333362146651329,
          -0.04147183036288281,
          -0.06659217859501175,
          -0.048133628015883036,
          -0.04968269342097229,
          -0.04873012116319446,
          -0.029118912911404386
         ],
         "xaxis": "x",
         "y": [
          0.07815223147912614,
          0.10537478140658676,
          0.048267576505930984,
          0.06929757555566901,
          0.08900069791748556,
          0.0860334968318902,
          0.07870159657700057,
          0.09585837971868322,
          0.07998025794500174,
          0.11618539785996247,
          0.03341783921576825,
          0.05510498667419616,
          0.08701015237133629,
          0.09610302704446468,
          0.08790464659252949,
          0.11618539785996243,
          0.05160506631710524,
          0.05510498667419616,
          0.0894500790579184,
          0.10622652692993892,
          0.14258248773316215,
          0.059994212489000644,
          0.06590327504244507,
          0.11728764995556568,
          0.03123114983196611,
          0.0965788595627181,
          0.07509875932689901,
          0.11596111604349255,
          0.0390815506186707,
          0.10762619468439578,
          0.05957546204666763,
          0.07145958061024173,
          0.09258810801442437,
          0.07238059559815004,
          0.03601073063125073,
          0.041993996372053984,
          0.13592383455119536,
          0.11927488719630445,
          0.1017040594268033,
          0.048694076980348014,
          0.06801099150369704,
          0.06696471669773375,
          0.0969476438346915,
          0.011572416504326737,
          0.10583609100111431,
          0.059168810919672896,
          0.1395077204568553,
          0.07892885141042338,
          0.022178511485117958,
          0.022178511485117958,
          0.14603281928977807,
          0.033609333515533545,
          0.05271697230567304,
          0.042909432811531194,
          0.0800579965401529,
          0.1513303695617604,
          0.110573162720609,
          0.07616474957491134,
          0.07397624498320567,
          0.09697310177048724,
          0.06307476708865854,
          0.012583303821243744,
          0.09341934361649497,
          0.14944573517772056,
          0.1141893888078752,
          0.0811635704554129,
          0.07491893575194487,
          0.03649154866104268,
          0.04471888234257893,
          0.04490925477119463,
          0.05421828579107159,
          0.11027736575191584,
          0.027080446270994263,
          0.08269355191525914,
          0.1348217534261956,
          0.04521810182037332,
          0.03840314823682249,
          0.0782789292265339,
          0.03628610858372222,
          0.047536672554448586,
          0.06927202027841607,
          0.06411355969990559,
          0.045801539139337835,
          0.028557861096092662,
          0.0675507903953414,
          0.10614460920181798,
          0.07042328379270059,
          0.06842726377180063,
          0.0772201429244227,
          0.07607461255848515,
          0.07583739319450064,
          0.04700249206477554,
          0.06740171553885403,
          0.07943822173374093,
          0.10510535515888032,
          0.10868288342385281,
          0.05294104236676524,
          0.06014045749144547,
          0.013763575938519079,
          0.07150943971971346
         ],
         "yaxis": "y"
        }
       ],
       "layout": {
        "legend": {
         "title": {
          "text": "topic"
         },
         "tracegroupgap": 0
        },
        "template": {
         "data": {
          "bar": [
           {
            "error_x": {
             "color": "#2a3f5f"
            },
            "error_y": {
             "color": "#2a3f5f"
            },
            "marker": {
             "line": {
              "color": "#E5ECF6",
              "width": 0.5
             }
            },
            "type": "bar"
           }
          ],
          "barpolar": [
           {
            "marker": {
             "line": {
              "color": "#E5ECF6",
              "width": 0.5
             }
            },
            "type": "barpolar"
           }
          ],
          "carpet": [
           {
            "aaxis": {
             "endlinecolor": "#2a3f5f",
             "gridcolor": "white",
             "linecolor": "white",
             "minorgridcolor": "white",
             "startlinecolor": "#2a3f5f"
            },
            "baxis": {
             "endlinecolor": "#2a3f5f",
             "gridcolor": "white",
             "linecolor": "white",
             "minorgridcolor": "white",
             "startlinecolor": "#2a3f5f"
            },
            "type": "carpet"
           }
          ],
          "choropleth": [
           {
            "colorbar": {
             "outlinewidth": 0,
             "ticks": ""
            },
            "type": "choropleth"
           }
          ],
          "contour": [
           {
            "colorbar": {
             "outlinewidth": 0,
             "ticks": ""
            },
            "colorscale": [
             [
              0,
              "#0d0887"
             ],
             [
              0.1111111111111111,
              "#46039f"
             ],
             [
              0.2222222222222222,
              "#7201a8"
             ],
             [
              0.3333333333333333,
              "#9c179e"
             ],
             [
              0.4444444444444444,
              "#bd3786"
             ],
             [
              0.5555555555555556,
              "#d8576b"
             ],
             [
              0.6666666666666666,
              "#ed7953"
             ],
             [
              0.7777777777777778,
              "#fb9f3a"
             ],
             [
              0.8888888888888888,
              "#fdca26"
             ],
             [
              1,
              "#f0f921"
             ]
            ],
            "type": "contour"
           }
          ],
          "contourcarpet": [
           {
            "colorbar": {
             "outlinewidth": 0,
             "ticks": ""
            },
            "type": "contourcarpet"
           }
          ],
          "heatmap": [
           {
            "colorbar": {
             "outlinewidth": 0,
             "ticks": ""
            },
            "colorscale": [
             [
              0,
              "#0d0887"
             ],
             [
              0.1111111111111111,
              "#46039f"
             ],
             [
              0.2222222222222222,
              "#7201a8"
             ],
             [
              0.3333333333333333,
              "#9c179e"
             ],
             [
              0.4444444444444444,
              "#bd3786"
             ],
             [
              0.5555555555555556,
              "#d8576b"
             ],
             [
              0.6666666666666666,
              "#ed7953"
             ],
             [
              0.7777777777777778,
              "#fb9f3a"
             ],
             [
              0.8888888888888888,
              "#fdca26"
             ],
             [
              1,
              "#f0f921"
             ]
            ],
            "type": "heatmap"
           }
          ],
          "heatmapgl": [
           {
            "colorbar": {
             "outlinewidth": 0,
             "ticks": ""
            },
            "colorscale": [
             [
              0,
              "#0d0887"
             ],
             [
              0.1111111111111111,
              "#46039f"
             ],
             [
              0.2222222222222222,
              "#7201a8"
             ],
             [
              0.3333333333333333,
              "#9c179e"
             ],
             [
              0.4444444444444444,
              "#bd3786"
             ],
             [
              0.5555555555555556,
              "#d8576b"
             ],
             [
              0.6666666666666666,
              "#ed7953"
             ],
             [
              0.7777777777777778,
              "#fb9f3a"
             ],
             [
              0.8888888888888888,
              "#fdca26"
             ],
             [
              1,
              "#f0f921"
             ]
            ],
            "type": "heatmapgl"
           }
          ],
          "histogram": [
           {
            "marker": {
             "colorbar": {
              "outlinewidth": 0,
              "ticks": ""
             }
            },
            "type": "histogram"
           }
          ],
          "histogram2d": [
           {
            "colorbar": {
             "outlinewidth": 0,
             "ticks": ""
            },
            "colorscale": [
             [
              0,
              "#0d0887"
             ],
             [
              0.1111111111111111,
              "#46039f"
             ],
             [
              0.2222222222222222,
              "#7201a8"
             ],
             [
              0.3333333333333333,
              "#9c179e"
             ],
             [
              0.4444444444444444,
              "#bd3786"
             ],
             [
              0.5555555555555556,
              "#d8576b"
             ],
             [
              0.6666666666666666,
              "#ed7953"
             ],
             [
              0.7777777777777778,
              "#fb9f3a"
             ],
             [
              0.8888888888888888,
              "#fdca26"
             ],
             [
              1,
              "#f0f921"
             ]
            ],
            "type": "histogram2d"
           }
          ],
          "histogram2dcontour": [
           {
            "colorbar": {
             "outlinewidth": 0,
             "ticks": ""
            },
            "colorscale": [
             [
              0,
              "#0d0887"
             ],
             [
              0.1111111111111111,
              "#46039f"
             ],
             [
              0.2222222222222222,
              "#7201a8"
             ],
             [
              0.3333333333333333,
              "#9c179e"
             ],
             [
              0.4444444444444444,
              "#bd3786"
             ],
             [
              0.5555555555555556,
              "#d8576b"
             ],
             [
              0.6666666666666666,
              "#ed7953"
             ],
             [
              0.7777777777777778,
              "#fb9f3a"
             ],
             [
              0.8888888888888888,
              "#fdca26"
             ],
             [
              1,
              "#f0f921"
             ]
            ],
            "type": "histogram2dcontour"
           }
          ],
          "mesh3d": [
           {
            "colorbar": {
             "outlinewidth": 0,
             "ticks": ""
            },
            "type": "mesh3d"
           }
          ],
          "parcoords": [
           {
            "line": {
             "colorbar": {
              "outlinewidth": 0,
              "ticks": ""
             }
            },
            "type": "parcoords"
           }
          ],
          "pie": [
           {
            "automargin": true,
            "type": "pie"
           }
          ],
          "scatter": [
           {
            "marker": {
             "colorbar": {
              "outlinewidth": 0,
              "ticks": ""
             }
            },
            "type": "scatter"
           }
          ],
          "scatter3d": [
           {
            "line": {
             "colorbar": {
              "outlinewidth": 0,
              "ticks": ""
             }
            },
            "marker": {
             "colorbar": {
              "outlinewidth": 0,
              "ticks": ""
             }
            },
            "type": "scatter3d"
           }
          ],
          "scattercarpet": [
           {
            "marker": {
             "colorbar": {
              "outlinewidth": 0,
              "ticks": ""
             }
            },
            "type": "scattercarpet"
           }
          ],
          "scattergeo": [
           {
            "marker": {
             "colorbar": {
              "outlinewidth": 0,
              "ticks": ""
             }
            },
            "type": "scattergeo"
           }
          ],
          "scattergl": [
           {
            "marker": {
             "colorbar": {
              "outlinewidth": 0,
              "ticks": ""
             }
            },
            "type": "scattergl"
           }
          ],
          "scattermapbox": [
           {
            "marker": {
             "colorbar": {
              "outlinewidth": 0,
              "ticks": ""
             }
            },
            "type": "scattermapbox"
           }
          ],
          "scatterpolar": [
           {
            "marker": {
             "colorbar": {
              "outlinewidth": 0,
              "ticks": ""
             }
            },
            "type": "scatterpolar"
           }
          ],
          "scatterpolargl": [
           {
            "marker": {
             "colorbar": {
              "outlinewidth": 0,
              "ticks": ""
             }
            },
            "type": "scatterpolargl"
           }
          ],
          "scatterternary": [
           {
            "marker": {
             "colorbar": {
              "outlinewidth": 0,
              "ticks": ""
             }
            },
            "type": "scatterternary"
           }
          ],
          "surface": [
           {
            "colorbar": {
             "outlinewidth": 0,
             "ticks": ""
            },
            "colorscale": [
             [
              0,
              "#0d0887"
             ],
             [
              0.1111111111111111,
              "#46039f"
             ],
             [
              0.2222222222222222,
              "#7201a8"
             ],
             [
              0.3333333333333333,
              "#9c179e"
             ],
             [
              0.4444444444444444,
              "#bd3786"
             ],
             [
              0.5555555555555556,
              "#d8576b"
             ],
             [
              0.6666666666666666,
              "#ed7953"
             ],
             [
              0.7777777777777778,
              "#fb9f3a"
             ],
             [
              0.8888888888888888,
              "#fdca26"
             ],
             [
              1,
              "#f0f921"
             ]
            ],
            "type": "surface"
           }
          ],
          "table": [
           {
            "cells": {
             "fill": {
              "color": "#EBF0F8"
             },
             "line": {
              "color": "white"
             }
            },
            "header": {
             "fill": {
              "color": "#C8D4E3"
             },
             "line": {
              "color": "white"
             }
            },
            "type": "table"
           }
          ]
         },
         "layout": {
          "annotationdefaults": {
           "arrowcolor": "#2a3f5f",
           "arrowhead": 0,
           "arrowwidth": 1
          },
          "autotypenumbers": "strict",
          "coloraxis": {
           "colorbar": {
            "outlinewidth": 0,
            "ticks": ""
           }
          },
          "colorscale": {
           "diverging": [
            [
             0,
             "#8e0152"
            ],
            [
             0.1,
             "#c51b7d"
            ],
            [
             0.2,
             "#de77ae"
            ],
            [
             0.3,
             "#f1b6da"
            ],
            [
             0.4,
             "#fde0ef"
            ],
            [
             0.5,
             "#f7f7f7"
            ],
            [
             0.6,
             "#e6f5d0"
            ],
            [
             0.7,
             "#b8e186"
            ],
            [
             0.8,
             "#7fbc41"
            ],
            [
             0.9,
             "#4d9221"
            ],
            [
             1,
             "#276419"
            ]
           ],
           "sequential": [
            [
             0,
             "#0d0887"
            ],
            [
             0.1111111111111111,
             "#46039f"
            ],
            [
             0.2222222222222222,
             "#7201a8"
            ],
            [
             0.3333333333333333,
             "#9c179e"
            ],
            [
             0.4444444444444444,
             "#bd3786"
            ],
            [
             0.5555555555555556,
             "#d8576b"
            ],
            [
             0.6666666666666666,
             "#ed7953"
            ],
            [
             0.7777777777777778,
             "#fb9f3a"
            ],
            [
             0.8888888888888888,
             "#fdca26"
            ],
            [
             1,
             "#f0f921"
            ]
           ],
           "sequentialminus": [
            [
             0,
             "#0d0887"
            ],
            [
             0.1111111111111111,
             "#46039f"
            ],
            [
             0.2222222222222222,
             "#7201a8"
            ],
            [
             0.3333333333333333,
             "#9c179e"
            ],
            [
             0.4444444444444444,
             "#bd3786"
            ],
            [
             0.5555555555555556,
             "#d8576b"
            ],
            [
             0.6666666666666666,
             "#ed7953"
            ],
            [
             0.7777777777777778,
             "#fb9f3a"
            ],
            [
             0.8888888888888888,
             "#fdca26"
            ],
            [
             1,
             "#f0f921"
            ]
           ]
          },
          "colorway": [
           "#636efa",
           "#EF553B",
           "#00cc96",
           "#ab63fa",
           "#FFA15A",
           "#19d3f3",
           "#FF6692",
           "#B6E880",
           "#FF97FF",
           "#FECB52"
          ],
          "font": {
           "color": "#2a3f5f"
          },
          "geo": {
           "bgcolor": "white",
           "lakecolor": "white",
           "landcolor": "#E5ECF6",
           "showlakes": true,
           "showland": true,
           "subunitcolor": "white"
          },
          "hoverlabel": {
           "align": "left"
          },
          "hovermode": "closest",
          "mapbox": {
           "style": "light"
          },
          "paper_bgcolor": "white",
          "plot_bgcolor": "#E5ECF6",
          "polar": {
           "angularaxis": {
            "gridcolor": "white",
            "linecolor": "white",
            "ticks": ""
           },
           "bgcolor": "#E5ECF6",
           "radialaxis": {
            "gridcolor": "white",
            "linecolor": "white",
            "ticks": ""
           }
          },
          "scene": {
           "xaxis": {
            "backgroundcolor": "#E5ECF6",
            "gridcolor": "white",
            "gridwidth": 2,
            "linecolor": "white",
            "showbackground": true,
            "ticks": "",
            "zerolinecolor": "white"
           },
           "yaxis": {
            "backgroundcolor": "#E5ECF6",
            "gridcolor": "white",
            "gridwidth": 2,
            "linecolor": "white",
            "showbackground": true,
            "ticks": "",
            "zerolinecolor": "white"
           },
           "zaxis": {
            "backgroundcolor": "#E5ECF6",
            "gridcolor": "white",
            "gridwidth": 2,
            "linecolor": "white",
            "showbackground": true,
            "ticks": "",
            "zerolinecolor": "white"
           }
          },
          "shapedefaults": {
           "line": {
            "color": "#2a3f5f"
           }
          },
          "ternary": {
           "aaxis": {
            "gridcolor": "white",
            "linecolor": "white",
            "ticks": ""
           },
           "baxis": {
            "gridcolor": "white",
            "linecolor": "white",
            "ticks": ""
           },
           "bgcolor": "#E5ECF6",
           "caxis": {
            "gridcolor": "white",
            "linecolor": "white",
            "ticks": ""
           }
          },
          "title": {
           "x": 0.05
          },
          "xaxis": {
           "automargin": true,
           "gridcolor": "white",
           "linecolor": "white",
           "ticks": "",
           "title": {
            "standoff": 15
           },
           "zerolinecolor": "white",
           "zerolinewidth": 2
          },
          "yaxis": {
           "automargin": true,
           "gridcolor": "white",
           "linecolor": "white",
           "ticks": "",
           "title": {
            "standoff": 15
           },
           "zerolinecolor": "white",
           "zerolinewidth": 2
          }
         }
        },
        "title": {
         "text": "PCA BBC Sport news"
        },
        "xaxis": {
         "anchor": "y",
         "domain": [
          0,
          1
         ],
         "title": {
          "text": "x"
         }
        },
        "yaxis": {
         "anchor": "x",
         "domain": [
          0,
          1
         ],
         "title": {
          "text": "y"
         }
        }
       }
      },
      "text/html": [
       "<div>                            <div id=\"7acc0ff0-ba99-4437-8d9f-9ef8d2e84afc\" class=\"plotly-graph-div\" style=\"height:525px; width:100%;\"></div>            <script type=\"text/javascript\">                require([\"plotly\"], function(Plotly) {                    window.PLOTLYENV=window.PLOTLYENV || {};                                    if (document.getElementById(\"7acc0ff0-ba99-4437-8d9f-9ef8d2e84afc\")) {                    Plotly.newPlot(                        \"7acc0ff0-ba99-4437-8d9f-9ef8d2e84afc\",                        [{\"hovertemplate\": \"topic=athletics<br>x=%{x}<br>y=%{y}<extra></extra>\", \"legendgroup\": \"athletics\", \"marker\": {\"color\": \"#636efa\", \"symbol\": \"circle\"}, \"mode\": \"markers\", \"name\": \"athletics\", \"orientation\": \"v\", \"showlegend\": true, \"type\": \"scatter\", \"x\": [-0.09109912281144122, -0.00036132812221576415, -0.11760496196780282, -0.09134845338902024, -0.0912957165291783, -0.11037665019533813, -0.02900951017521406, -0.043003572188265914, -0.12895403202702663, -0.157550458677367, -0.09562352853573723, -0.10797649147737387, -0.08944896166765832, -0.08058523011865931, -0.07797224950566425, -0.12052519759920532, -0.14093051924398017, -0.1052845832955564, -0.11113856097987268, -0.10797649147737387, -0.09673101229919226, -0.10715690893091115, -0.14574251288894446, -0.07448979680876634, -0.10874797882544675, -0.08583744961166181, -0.0992890875159493, -0.11474579618162774, -0.10917973253898898, -0.07437316575928395, -0.0497325141988074, -0.1323726069899758, -0.1511135012472239, -0.13153423770225758, -0.0892425938722384, -0.054693334640442716, -0.10212513391362152, -0.10185261916267578, -0.05787298378280984, -0.07922909455168656, -0.06951356001196703, -0.09007648868524071, -0.061714730659612214, -0.05636814015196485, -0.09412825810398834, -0.08160212655276948, -0.1126368967102085, -0.12708193647163385, -0.05470894334737538, -0.12123627838662925, -0.12816280079383738, -0.09402577096664964, -0.09615956078516062, -0.14350841938135572, -0.09692214573474783, -0.10464994580934159, -0.12824161541893273, -0.1384922714953387, -0.11371044020039077, -0.10022799911364445, -0.11222002627538953, -0.06186413503809369, -0.12163865145009575, -0.06485986980529534, -0.10995593989489966, -0.16000747809256213, -0.11225125593503306, -0.03028895749097469, -0.17674351144071598, -0.10722285277722562, -0.10590989933834463, -0.059133191605096475, -0.10776913544739225, -0.10504456480608065, -0.10488490843174332, -0.06405954438126772, -0.014901518359531284, -0.08092292556577473, -0.1353630337099723, -0.13045661910798478, -0.1464563021766971, -0.127889369186676, -0.06360407335638248, -0.09402577096664964, -0.07467740334321302, -0.0802587775643611, -0.08359002350944403, -0.05470894334737538, -0.1320238513491597, -0.09228478905847937, -0.06991095145054313, -0.07751241769372781, -0.022596966775651234, -0.08828801693493102, -0.15268322644085386, -0.11298457596619788, -0.04432293333938019, -0.10721352017243799, -0.13799845709896727, -0.06298583347328959, -0.05847038322913219], \"xaxis\": \"x\", \"y\": [0.10359351265238617, 0.02478045501220412, 0.12860286068425186, 0.15398002814497108, 0.13507109027104225, 0.15760078919038664, 0.07048431812997258, 0.034819204711568956, 0.1707512043272293, 0.2403512474922175, 0.11498338941282664, 0.10886008851015777, 0.11687728968600819, 0.04874561505783061, 0.13011001812260722, 0.33155572666203875, 0.33398251731366607, 0.17706837315971125, 0.13478108573450712, 0.10886008851015777, 0.15728819011429754, 0.13102925111520652, 0.33456949642862327, 0.11102754538215764, 0.15281111218751134, 0.18011095776992356, 0.15881505539337354, 0.13618527577094286, 0.16125274545876592, 0.10382052530393493, 0.07710734336463562, 0.20837415627279657, 0.33679496972817324, 0.15842007680954523, 0.16930074941744003, 0.12916595731510416, 0.13613560492045224, 0.08900973115828138, 0.12292517656320384, 0.08336210940859268, 0.09687675142215775, 0.12516424696805342, 0.12044012246593873, 0.07943531087432909, 0.1599869924686446, 0.1131723671688807, 0.2588144725474124, 0.3035245561004885, 0.13467156004956826, 0.3224832809338502, 0.34400932514727356, 0.1532076048496453, 0.1127112299038582, 0.31465837407455866, 0.13850160209069953, 0.1337507063596713, 0.15059540919915496, 0.16409241403027092, 0.08907677128940575, 0.1371036737515619, 0.1502914040364835, 0.08607834054724364, 0.1561442589377156, 0.1015674880124984, 0.1312441878762619, 0.2946820161158833, 0.15625837735763765, 0.08154154401925064, 0.24983468422595337, 0.08363801913148333, 0.11836233838762086, 0.06529648955444638, 0.08488051120130954, 0.12842246175271899, 0.18551399454283815, 0.10167968083719604, 0.05039731212217481, 0.11163865504261555, 0.32709979011943535, 0.2779945078421129, 0.34302396095648763, 0.33808979338861533, 0.10767895343383549, 0.1532076048496453, 0.10393115994816997, 0.09758431063074767, 0.12015312704851362, 0.13467156004956826, 0.3083512748459979, 0.09760090854042551, 0.13431863290233956, 0.10340079897129989, 0.013167958636959128, 0.11304199560070098, 0.22090170599027203, 0.12446835041370184, 0.0565239598018234, 0.15211942744662557, 0.1798349032869066, 0.0175275935868449, 0.11552886410499462], \"yaxis\": \"y\"}, {\"hovertemplate\": \"topic=cricket<br>x=%{x}<br>y=%{y}<extra></extra>\", \"legendgroup\": \"cricket\", \"marker\": {\"color\": \"#EF553B\", \"symbol\": \"circle\"}, \"mode\": \"markers\", \"name\": \"cricket\", \"orientation\": \"v\", \"showlegend\": true, \"type\": \"scatter\", \"x\": [0.25333538195670535, 0.2141277514468414, 0.22594556506358482, 0.21750445514992692, 0.11988904666723578, 0.13973243496403906, 0.12125140619523204, 0.10652405747115791, 0.14951075200404032, 0.10169180427282717, 0.12016396610861259, 0.052543770837361586, 0.3132847449009103, 0.06323637897385607, 0.20979633886321888, 0.0321714287199891, 0.06166464557699476, 0.14884727047724866, 0.2255038329546032, 0.17598440186510944, 0.061664645576994796, 0.1891543287975746, 0.13958916496750262, 0.16208725162252122, 0.07285791189324631, 0.21489479525350977, 0.23003916927697693, 0.21144401539613278, 0.13976368256252122, 0.10526558933773286, 0.25203624552284554, 0.16208725162252122, 0.07285791189324631, 0.19225441193368276, 0.09286321606036198, 0.11188980328644155, 0.08189190698353717, 0.16454359087614434, 0.11111510479985894, 0.18275008026088085, 0.1295257888649859, 0.245832056504017, 0.250792188296457, 0.2143568930173636, 0.26277269829557565, 0.16645405129289362, 0.06145921903845879, 0.19770820612461143, 0.1331149061747243, 0.18827505885276796, 0.03106487245070609, 0.2656323707023093, 0.26614454565962625, 0.23016892859919671, 0.12798276931099622, 0.22398645829317076, 0.11950596898017607, 0.056346984890279755, 0.20608578450468745, 0.16744066665019627, 0.16731641429708505, 0.22968156917313567, 0.297912085623366, 0.20876985976921894, 0.15745963583246647, 0.1286200708009997, 0.19269952097737983, 0.37105411096525687, 0.13082002926351488, 0.2574049781920631, 0.3417491195901146, 0.15532551686913532, 0.3049617625269477, 0.24925981826012744, 0.3513233751445935, 0.19600847341653863, 0.168865811080503, 0.061907928991639896, 0.1896748254286347, 0.24689410750149243, 0.17390062082395363, 0.27542020394497835, 0.32690538226456906, 0.3273871699547657, 0.1048471420632412, 0.266360267614854, 0.2797037284775589, 0.28299463716745493, 0.276947302219952, 0.1388352691452625, -0.026167051448218535, 0.08987022613531499, 0.2074251792388511, 0.031156948601753866, 0.1453511077008072, 0.17704173836005166, 0.11110699502987349, 0.17795331023815628, 0.10031675314926365, 0.1685171529847897, 0.08763873369005211, 0.017455494168948045, 0.08971195396468463, 0.09371711047067308, 0.06737340687920089, 0.04718650324555708, 0.20537280377927686, 0.039046507170493856, 0.2861029808682538, 0.20413872759853616, 0.11367465100219679, -0.0334873918342145, 0.1662755497085844, 0.1297042378338825, 0.10119855937380902, 0.02839803075162531, 0.20871289658350944, 0.11368238993757371, 0.23117659337396426, 0.10372591678783707, 0.1349261705405753, 0.0842796356102848, 0.11013443924774201, 0.11963947680708736], \"xaxis\": \"x\", \"y\": [0.11887814741518599, 0.057162612555437774, 0.09694171395515222, 0.17753760787523848, 0.008918615802469535, 0.028675900461081892, 0.10691395089951089, 0.07306800157650657, 0.14661321793856208, 0.05936039683028485, 0.10384315153853028, -0.0062419603099425, 0.07153841174832758, 0.02849803330433031, 0.07525580810262594, 0.0019136078965777958, 0.06407789729096519, 0.04708115834160961, 0.06440056676177366, 0.031758127652404766, 0.06407789729096519, 0.17118979184452957, 0.11006068237459027, 0.14019275331624687, 0.11264817837403845, 0.17324025697997833, 0.09095391926489628, 0.13312341660627008, 0.10978283061368586, 0.03176857761781183, 0.0745346995194576, 0.14019275331624687, 0.11264817837403845, 0.1761762642576023, 0.07635533740726755, 0.04348593609645989, 0.0942530672264913, 0.09444201682014591, 0.06095105974433574, 0.04127377123834109, 0.12267225265625728, 0.030871421161337204, 0.05990107650867616, 0.16255367592899225, 0.17559527121470986, 0.09021195227230688, 0.07787505637709352, 0.03493943364817206, 0.06974523780346067, 0.050249363798553916, 0.008369886522075235, 0.1147615269374291, 0.11584014439234665, 0.15633068157612393, 0.11097679433350198, 0.1106438138037583, 0.1020940265919741, 0.08060853855788044, 0.1124143819736244, 0.1623273587974106, 0.1618243298467703, 0.1655585239369748, 0.017307425774018302, 0.05453999368458782, 0.1551928572522469, 0.07710701866098658, 0.026973183760866673, 0.06906299222377711, 0.02855863035375805, 0.20617186960259914, 0.016549093205481476, 0.09811654799626432, 0.07111272710021199, 0.20282559568699526, 0.06684640707896909, -0.00035463197443952224, 0.13903474832111762, 0.059577940314163705, 0.03880439616466862, 0.06023331880561688, 0.12889122619173332, 0.17853195645518607, 0.06341419218693019, 0.06612005227428532, 0.09681421330122097, 0.2141359853336068, 0.2042567590116163, 0.2058520920372308, 0.01883185802242961, 0.11355069489694987, 0.06444823770784111, 0.05057223630027178, 0.060226090317702395, 0.07030179007993001, 0.015858404561408575, 0.028772166132612638, -0.019352387042445, 0.12800319793964032, 0.05381588297489352, 0.1367082927642569, 0.07632470654856387, 0.06499084758619628, 0.06620707656524358, 0.12329319641558954, 0.0645162688475589, 0.0572510464789407, 0.03132604230356237, 0.01191119967662798, 0.022318296788940935, 0.12198658273119334, 0.1075425328102841, 0.06293426875208172, 0.11735317562412594, 0.12300644357300658, 0.07424957211199124, -0.004335829521083675, 0.027598875563058234, 0.04958275938253582, 0.02154839011490448, 0.07467926991594412, 0.10339961825797533, -0.0020962211674068515, -0.04171493494086963, 0.0818418528102264], \"yaxis\": \"y\"}, {\"hovertemplate\": \"topic=football<br>x=%{x}<br>y=%{y}<extra></extra>\", \"legendgroup\": \"football\", \"marker\": {\"color\": \"#00cc96\", \"symbol\": \"circle\"}, \"mode\": \"markers\", \"name\": \"football\", \"orientation\": \"v\", \"showlegend\": true, \"type\": \"scatter\", \"x\": [-0.04689464336060052, -0.11360182121350958, -0.08357466203959125, -0.09690312896511485, 0.07297005107223317, -0.03375248396468759, -0.07618274485852841, -0.19884217198627485, -0.10026209606525471, -0.12677401942482278, -0.006047350303953852, -0.016377668261803164, -0.011271629720335158, -0.001955409134467438, -0.005050558915593222, -0.054970832298334785, -0.12327991488746817, -0.17133178440650026, -0.004619188672031759, -0.04147034797876254, -0.03796318966196688, -0.047156290107439686, -0.05179755356096145, -0.1383381625140808, -0.02393235816541471, -0.011152153383733293, -0.17145402424546452, -0.10736766483316204, 0.004896514206719661, -0.06756389479362858, -0.1374883738202281, -0.06456707567386023, -0.017138207707103902, 0.016467280079828076, 0.006846486581324185, -0.05994812036603267, -0.043216532088501736, 0.002956219540024075, 0.01495978654620648, 0.021614058527016845, -0.031406366116412246, -0.05998522836232063, -0.07735420225821381, -0.06605944379691855, -0.06375268304652663, -0.10988122990873267, -0.1486675949879203, -0.04876443973942198, -0.05645391128551967, -0.08694010949999507, -0.02422653481294567, -0.026963082721519562, -0.040233410058534654, -0.054003257764862964, -0.04764756450620194, -0.0474465958504713, -0.05525310372646577, -0.10668952530223656, -0.06075773119060624, -0.12703998701428343, -0.08856055315832598, -0.07407449936610584, -0.11304256299402077, -0.0967039843498149, -0.18491097081760924, -0.05510378572874836, -0.08312663698216591, -0.050172823983402684, -0.07070594132135774, -0.05945967315863461, -0.08769350862589641, -0.0659903078380288, -0.1100308716571157, -0.1325263193303601, -0.20222133355360733, -0.08614082248742962, -0.03334407224167617, -0.07564549730276642, -0.00862221118914248, -0.1273199797822603, -0.07644597244646098, -0.07532598699983742, -0.18271207960501457, -0.08674497466961076, -0.051909687372994534, -0.07306840651048262, -0.13046020844526343, -0.13046020844526343, -0.14947332885445574, -0.11786468934438249, -0.03607619359384734, -0.08004446582585802, -0.07822004752657076, -0.10669097417723605, -0.07583475120188005, 0.02200767807126402, -0.0384417868781966, -0.09019253573876194, -0.10619589850275242, -0.05025133597131173, -0.07612764974967098, -0.11808206122387634, -0.09968738312619209, -0.11959582189194437, -0.14081415131353603, -0.06862722062712936, -0.12773219177089656, -0.051245422593443474, -0.07091914236095542, -0.04930213636827192, -0.05969684263313553, -0.1169581409407862, -0.04540848081992433, -0.05456804436350383, -0.16295875231276094, -0.04034828468000755, -0.11231696037408108, -0.03190519779875637, -0.02551435737046712, -4.178541935527237e-05, -0.014133954979161199, -0.03241618088704902, -0.021862946367307946, -0.1749950134510401, 0.017035718513145347, -0.061738593403578235, -0.05157167915437581, -0.046330055509066714, -0.0949062549511702, -0.020893870505418348, 0.005093413442232913, -0.03896379092840033, -0.113098001186814, -0.11359228581706901, -0.0605050680601428, -0.05462662482661625, -0.1322409014864548, -0.03258908271498942, -0.05768033520584569, -0.06953306483787873, -0.13097452035343415, -0.10571141147937413, -0.11648030651773764, -0.09556447461061124, -0.13108871417562232, -0.017922379271345476, -0.06382645629350563, -0.10085817240676614, -0.19366430021244074, -0.06325233258053133, -0.05295272575277735, -0.11597241703572482, -0.05114089511437865, -0.09776440018309335, -0.07210346605464703, -0.056941892058805496, -0.07898022958553758, -0.14648677192333054, -0.044544681070104127, -0.11378890771591475, -0.14648677192333054, -0.06710036062228168, -0.06845619197881762, -0.06845619197881762, -0.09293339430067003, -0.06943207375375751, -0.06028547116960427, -0.051790387297207495, -0.03613380592466379, -0.06023077425367791, -0.08729750937971135, -0.13353943041499397, -0.07244590143498604, -0.040601672959265346, -0.0400947594099756, -0.060361267554545295, -0.07180519013762997, -0.1566793065955336, -0.07462107040283769, -0.1700159126580834, -0.09032809480774402, -0.05522363342068641, -0.04015939934652807, -0.0617260407150927, -0.08175863180187959, -0.1283300189090561, -0.08669049016497754, -0.09576153154335773, -0.07958540879816284, -0.16110330331467, -0.15689534328654547, -0.1191848696005194, -0.07915121230897992, -0.07277068506965173, -0.05915080829391334, 0.005111812722767132, -0.03690608314500702, -0.1007695679812439, -0.07662653787728228, -0.06764429484042106, -0.053647895820840626, -0.1957433922006708, -0.05512523973601206, -0.06532652336412323, -0.07665343718642818, -0.04265252194798401, -0.200190745886777, -0.05185621343364364, -0.14456153239907518, -0.08357466203959125, -0.06643013207511718, -0.07774273339753948, -0.03536909443851619, -0.04726504899146584, -0.12158535997385019, -0.07004775750152577, -0.030227465026882637, -0.05992634427523594, -0.02292409768389707, 0.0024848052457619985, -0.13378894187986062, -0.0057379051044867966, -0.10064863025428242, -0.032591690664982194, -0.04231020841125085, -0.09704225465119054, -0.03225316313770707, -0.08211310633637811, -0.18137641769549953, -0.12592927973286866, -0.06025946494349221, -0.0868755751864048, -0.0916835804937915, -0.06030953423522072, -0.04878848193331437, -0.02447882492978195, -0.08933048883284662, -0.0667769861331467, -0.18560673613213283, -0.1139651842811624, -0.1226827960282989, -0.06402859636038293, -0.17256906267982505, -0.08057533160685154, -0.1300530268945989, -0.0757351120374367, -0.025365837519494575, -0.04542381234978099, -0.057993397896017145, -0.14916164629685827, -0.07931555973227752, -0.12642633520293683, -0.07905685861925439, -0.04086429531064789, -0.03989927554049179, -0.05489780699426149, -0.10148826616598068, -0.00946368183657373, -0.051663484327546895, -0.08291324134970715, -0.021669052643918576, -0.09839215313127465, -0.06478162192774375, -0.03568942079242052, -0.002807017702712784], \"xaxis\": \"x\", \"y\": [-0.08574420003383343, -0.11595803850367141, -0.06957719162602517, -0.06811050182625826, -0.06198537071558245, -0.009076855026901061, -0.09508845326133608, -0.21771735889008167, -0.1196885186153344, -0.1661051141768729, -0.056270970946202946, -0.04588983392041525, -0.042930270572682686, -0.027134450507166483, -0.01796702589689373, -0.058199689683172774, -0.19909727634374244, -0.17028416171672256, -0.045279911137687874, -0.0431220626125064, -0.1041898238382155, -0.03357358063895186, -0.015518980313009462, -0.12672832335795392, -0.1287664845898935, -0.07951711083352238, -0.17001020738941114, -0.12206188612171344, -0.07066687856366968, -0.03292907499093062, -0.14218870577548426, -0.07850968034025516, -0.014297783222715507, -0.04275215924596871, -0.04926787344944416, -0.00900749596449158, 0.014975861116798156, -0.019996895622929424, -0.11209159419204143, -0.009606885951318006, -0.02024114002484866, 0.03681836982073595, -0.07456952822523479, -0.0580980947504097, -0.08259630779145674, -0.10109050151873597, -0.173020690305192, -0.14274039491216503, -0.0340386207004209, -0.0814701641931008, -0.051596528632384654, -0.01882580992479826, -0.031572405401979316, -0.007440480006507439, 0.006417333148353075, -0.08593359948300866, -0.11071240045278724, -0.11072575506704209, -0.013125345258093158, -0.08896010100923817, -0.11300635825788592, -0.07772753400930915, -0.11391794290432548, -0.06955968577177978, -0.24126366769817004, -0.11237948739109437, -0.057012127557710915, -0.058157514771401776, -0.07287627882841494, -0.028258510298907066, -0.07361927970546696, -0.03503029569402182, -0.0904102482330658, -0.0853111929718275, -0.182336529904027, -0.00592931034656806, -0.0049431440676464865, -0.06801781232951104, 0.01365378361167948, -0.08124974256855706, -0.01884486538658391, -0.07487132609055587, -0.16497508573320366, -0.06499150159592916, -0.062433051813838236, -0.10421513892128582, -0.14143240231726836, -0.14143240231726836, -0.15583323497853402, -0.12279740898837123, -0.038925843075663, -0.06128331605509903, -0.04762303702481186, -0.08037985414749381, -0.060073104775670946, 0.038285138791223104, -0.005914151288188245, -0.095706238777542, -0.056166443865970174, -0.01323799746330479, -0.0694737736370011, -0.10514404312201583, -0.06966337277960587, -0.09738925526165162, -0.0008196771734144074, -0.08918944181726617, -0.050595568463088804, -0.020920128923424524, -0.016714505993601563, 0.004670564168910176, -0.06719826821492803, -0.08681412021178996, -0.025596647639487234, -0.07629017549961041, -0.17246143106904063, -0.0055311704832807645, -0.06947000733107124, -0.04702751935367036, -0.007737199066907133, 0.010174775806982462, 0.001795837971163668, -0.07646375838954673, -0.08134060983499067, -0.2000513335947125, -0.006367724707166355, -0.030042884295537704, -0.04181218102614424, -0.06740334612150226, -0.1354981208325626, 0.01120730675963409, 0.00038821952602445314, -0.055759562995586355, -0.12283495356101068, -0.1443240178383186, -0.06902823759673488, -0.026416349375733325, -0.1488965889479484, -0.055868931818730594, -0.03383929641310576, -0.003860254180231492, -0.1502001038751087, -0.1591146187741511, -0.09415341536579219, -0.12000456260510876, -0.13245352471052202, -0.053493643953198625, 0.04313424074389112, -0.08916602068707079, -0.19740447361230307, -0.05063331301852163, -0.03721862765037488, -0.13651844168349603, -0.0669787172543598, -0.11082255892236664, -0.035256266212141125, -0.06469451850433047, -0.03974332605833815, -0.16718930150368136, 0.0017077031041619168, -0.09193464006938934, -0.16718930150368136, -0.05493468666901595, -0.014258370351395006, -0.014258370351395006, -0.09674076515922068, -0.06512106921006068, -0.03251978898036967, -0.0011964303850357113, -0.051960839823304475, -0.033545532600054204, -0.029022101079724857, -0.10595632418356911, -0.09230952610009573, -0.08676700614619873, -0.06567197149778138, -0.07174418966356665, 0.018240653151508125, -0.09415465158041658, -0.047741104211463804, -0.19733005201277196, -0.06703161004040095, -0.030802324889210447, -0.02036543347743914, -0.08988261252043536, -0.06359767323884657, -0.13700566295325836, -0.12945759549885177, -0.11159420613946185, -0.11883302247604512, -0.13156829229834396, -0.19383610779228816, -0.1690522407108709, -0.09023432707050116, -0.09264729663497183, -0.033876879673861326, -0.03757531942637415, 0.005477019608829042, -0.1494331380267318, -0.1778929474663073, -0.15020499221332567, -0.06225653314840111, -0.2480483746012299, -0.07296067965512873, -0.06581474063768643, -0.1172231132095539, -0.026977324195725235, -0.218132136014664, -0.04309714280537406, -0.17276174187343676, -0.06957719162602517, -0.12652820993718686, -0.12813298914655777, -0.02966314503517207, -0.05578296572704524, -0.13743591788945328, -0.09155105032330846, -0.0108500072051553, -0.06190770504207702, -0.01009247192179411, 0.009122401932512762, -0.1863988499552893, -0.052895328720950194, -0.06314171702088602, -0.00038714919417865085, -0.008315735509163466, -0.11892387772216013, -0.012783949225065734, -0.05839774050982507, -0.18855665311058029, -0.10147827836574638, 0.05195221288526202, -0.057509164948689885, -0.06501570023542041, -0.03872126057830335, -0.014805393976189542, -0.08429573319359572, -0.09277538309408613, -0.08488259821301994, -0.168964337566946, -0.13189774819743252, -0.10801786453635544, -0.02441235228513875, -0.2034219614835572, -0.03521512959632597, -0.11477851281259667, -0.06416012076944434, -0.07023871263449248, 0.023595382405774565, -0.09660316158575878, -0.15245433727747623, -0.09443660252452754, -0.12243466165992681, -0.09460766775907145, -0.05352227762194185, -0.010862514905188194, 0.023253243242968763, -0.006745026801760029, 0.031050663381725824, -0.04367778841937693, -0.11131773497398478, -0.02292461541525363, -0.10881359952934988, -0.02853280507074439, -0.02223506029690547, -0.020994956708923748], \"yaxis\": \"y\"}, {\"hovertemplate\": \"topic=rugby<br>x=%{x}<br>y=%{y}<extra></extra>\", \"legendgroup\": \"rugby\", \"marker\": {\"color\": \"#ab63fa\", \"symbol\": \"circle\"}, \"mode\": \"markers\", \"name\": \"rugby\", \"orientation\": \"v\", \"showlegend\": true, \"type\": \"scatter\", \"x\": [0.13171015720874066, 0.19127933996045982, 0.13733601397626155, 0.0571452205100686, 0.06673913662962432, 0.15172073639709385, 0.1350847671065202, 0.12873640222437002, 0.10041155596618209, 0.040020321565187644, 0.009740101346793803, 0.060471259033785106, 0.08267592701593392, 0.030425320999424476, 0.03819427561062017, 0.15797360631006185, 0.19671113328852918, 0.0850823932973269, 0.15876801182134198, 0.15250138159589846, 0.162393977017606, 0.09144742798018275, 0.06233970909063807, 0.09361351275523973, 0.14889677959091427, 0.02742677184740407, 0.1353865446089932, 0.18677128894110087, 0.22281682074539172, 0.10961744404841842, 0.15592090501491115, 0.21108242492251414, 0.061989620945222715, -0.009005689488269035, 0.04049733104004358, -0.007394378329017084, 0.21163846854436263, 0.03474677367675726, 0.1823398159275168, 0.27883000157969945, 0.025263935673253322, 0.03648297097097344, 0.13904282721157413, 0.044283318387835384, 0.12272267299069683, 0.12140226301534507, 0.13734141961021898, 0.2395811777964504, 0.10405619779958575, 0.13263101969088956, 0.18312562028579102, 0.09512280816782136, 0.12660995599232489, 0.11127090413971791, 0.13423354729383652, 0.2687097653726444, 0.1277595183338793, 0.07005187090662403, 0.20733217713802665, 0.10948217226957568, 0.10405619779958575, 0.14110284380731736, 0.06407214814611135, 0.10095866307823503, 0.1040976161897602, 0.15177060514662388, 0.04706401362260397, 0.21186573573123438, 0.10302650791167803, 0.04504030379982069, 0.038803957803248204, 0.11940739775762527, 0.1463314207619074, 0.06718243611420383, 0.0864375273090697, 0.058833879041009764, 0.057353394777247386, -0.02491237344304666, 0.053327441773393214, 0.004164537521079651, 0.09010085239149035, -0.002078137217613133, 0.02507400882446976, 0.057708431195645234, 0.17300300853186576, 0.09527889866960483, 0.11911756769211132, 0.17192367845659642, -0.016564552554929238, 0.20454854089871377, 0.021149562109227693, 0.11883143126456742, 0.051252136274132346, 0.17621005434453033, 0.10915596206098481, 0.057728419345053475, 0.06594164051644592, 0.09398211022718166, 0.06376564563579505, 0.16276024467942526, 0.015122927031533378, 0.13218764652776355, 0.044638952109067695, 0.13185633858919885, 0.12985737599416236, 0.11249827910509048, 0.03557603488160808, 0.04510554128375636, 0.08221962976510483, 0.022457424168748175, 0.0020921359739109304, -0.055207439424082294, -0.05402572136830586, 0.02883088695933341, 0.02714677919900467, -0.04079411400055418, 0.1843071204273485, 0.06378515533810689, 0.05230646960141045, -0.0022622962890767994, 0.13020231037888808, 0.13864272817748471, 0.09664210067461151, -0.03124739508115114, -0.021941625671341277, -0.04803756984446324, 0.1103107320283447, 0.11758280846249874, 0.1438089954843103, 0.18064616228267472, 0.1513318282893946, 0.2626933918327929, 0.1517815238784256, 0.15171310658438367, 0.09512280816782136, 0.11913498183206077, 0.1190344104930193, 0.03634060758274282, 0.1271229284166368, 0.06981720443444979, 0.2253250446312299, 0.1406619425860747, 0.22350584896497705, 0.12419140083759583, 0.1370245397789938, 0.08025650104909716, 0.04600169647701394], \"xaxis\": \"x\", \"y\": [-0.18060460093034886, -0.20496757269304436, -0.16543903936525675, -0.04916788630231916, -0.10320195611743728, -0.20126149808806926, -0.17696141665682938, -0.14565168275688897, -0.1295691545817755, -0.04243748290445046, -0.055783767989899175, -0.03388819228538217, -0.10268719318340806, -0.08597513446670624, -0.039976409205463415, -0.15985984871342976, -0.16128428254159644, -0.10704163352568367, -0.11287350678563063, -0.15814587709767025, -0.14675886409689448, -0.09945923798008995, -0.04824253761493223, -0.0806558071317369, -0.15842775216291335, -0.09823932081200322, -0.09749779996193932, -0.12500871451935064, -0.11757860355914385, -0.148045265782881, -0.11050426676837503, -0.16120724909964085, -0.125227105308206, -0.01247084006779965, -0.06473078483291932, 0.01932151056450155, -0.12422120203535468, -0.05423293356260629, -0.08244733315677008, -0.2196724413906106, 0.006700726979821342, 0.008050112527847498, -0.17864087847041354, -0.11675575066700168, -0.07796328171428708, -0.0769064507418793, -0.14963522384797304, -0.13987809835807963, -0.08412859798714846, -0.08990036202801878, -0.15524675242711172, -0.08949721464254413, -0.1502279926055634, -0.09179505718560392, -0.16725337074286326, -0.09778607760566867, -0.12900850901233882, -0.06792331588196797, -0.1869474162106381, -0.10800523763798264, -0.08412859798714846, -0.11681618046505748, -0.10161705105186881, -0.11747669161355916, -0.12720353036681417, -0.15491686005651964, -0.024617174419652346, -0.16026405651906306, -0.11442816418955933, -0.018306967277652707, -0.0873552787144483, -0.0998177888424736, -0.14492124646942647, -0.1141273911080426, -0.14205105692350925, -0.09327533206067137, -0.12661956346762393, -0.02654812713849618, -0.04231480326360257, -0.025962086810554976, -0.10685534684151356, -0.05024225241927166, -0.02745627707321297, -0.057157419468618464, -0.09355467333045547, -0.01773434873294637, -0.08255319810948665, -0.0681865802046983, -0.024941697845776264, -0.15933718506096686, -0.008000049194999463, -0.076494576909437, -0.09760032469368983, -0.09689698332097771, -0.055473653200240454, -0.021384066793119934, -0.06740498747178124, -0.03843860533800511, -0.018848761239794495, -0.14095073844488218, -0.01615064586465865, -0.09178871485128928, 0.00835913760568908, -0.09142948384134778, -0.08032568470429347, -0.06310622726145058, -0.08656122287109269, -0.09444360724090196, -0.004020000588572161, -0.08109735042043968, -0.07240802651731876, -0.03055356174432035, -0.03158876063014279, -0.025691654016167534, -0.019637622001218054, -0.05763552947889964, -0.188169166532747, -0.013319990104703326, -0.08363162063568935, -0.06520731942991405, -0.11666809549194031, -0.12177360965658059, -0.10950353452475087, -0.05511763486605341, -0.07856343614708063, -0.04064471489546864, -0.0477189391593203, -0.11158251965201195, 0.004800917133797355, -0.15758884687880678, -0.1885212977494737, -0.21691037948534697, -0.20102565461963792, -0.0758913390989279, -0.08949721464254413, -0.14261779949530973, -0.048495529961290064, -0.061275203175423995, -0.1333174626435521, -0.10635557350592068, -0.1593203948074484, -0.16181706870498655, -0.11748044012284206, -0.08268178290360091, -0.07373437241859915, -0.04361962059863952, -0.04324848461338862], \"yaxis\": \"y\"}, {\"hovertemplate\": \"topic=tennis<br>x=%{x}<br>y=%{y}<extra></extra>\", \"legendgroup\": \"tennis\", \"marker\": {\"color\": \"#FFA15A\", \"symbol\": \"circle\"}, \"mode\": \"markers\", \"name\": \"tennis\", \"orientation\": \"v\", \"showlegend\": true, \"type\": \"scatter\", \"x\": [-0.04261856399916531, -0.05493173696361737, -0.05571700624996516, -0.06917531195741487, -0.03787800575321714, -0.05440749614908829, -0.05970825534564343, -0.048762527757520505, -0.05571090144457979, -0.05149898194732082, -0.027495588700246407, -0.07360801637465274, -0.037996099814405535, -0.0400601775438656, -0.04677530373021809, -0.05149898194732082, -0.06413234370386811, -0.07360801637465274, -0.04068233892770719, -0.046632821335388444, -0.06798730023456843, -0.06043326010027308, -0.05579354134859938, -0.07346175956932872, -0.04488924240994322, -0.04187819488741634, -0.022504927097846187, -0.060589055239446445, -0.057923218679131666, -0.06107769898591486, -0.04146824125722368, -0.056264105059544475, -0.062329080459811684, -0.04824416956095306, -0.03348970649501404, -0.02590929163854193, -0.06897236971492093, -0.07580969141912892, -0.05144215761832641, -0.05584951606659252, -0.05141832056618637, -0.04333014515122078, -0.06591824442764543, -0.06649505468651286, -0.04822232167308564, -0.0703875043998394, -0.05479856213695202, -0.0565480834364871, -0.07570749837011598, -0.07570749837011598, -0.05840666976817244, -0.05615731604916798, -0.048297023160650536, -0.03192198689916475, -0.04937204315098601, -0.08165958776834302, -0.06959667939884762, -0.041206618575894964, -0.04013299872905137, -0.062039071053135095, -0.06271585047892426, -0.03871582679226524, -0.046161424553827365, -0.10012621319965395, -0.05397672802976947, -0.06486133834125647, -0.054641611399647586, -0.02538773343877669, -0.08053830584206628, -0.08062737571231983, -0.051135242451707315, -0.07717623366341814, -0.05780281773882558, -0.04825381925791764, -0.10320170679272404, -0.0359850769747234, -0.0297055133320442, -0.04724433589007442, -0.08005447503805375, -0.07207028378723435, -0.041898583141081455, -0.07209885154971042, -0.06630032809561512, -0.03235355718183309, -0.05100449150302875, -0.027628251243284538, -0.06089679672032126, -0.02083612694436976, -0.06208777490093102, -0.03782892468376498, -0.0788645373008069, 0.01710731785491204, -0.03180235268739475, -0.06333362146651329, -0.04147183036288281, -0.06659217859501175, -0.048133628015883036, -0.04968269342097229, -0.04873012116319446, -0.029118912911404386], \"xaxis\": \"x\", \"y\": [0.07815223147912614, 0.10537478140658676, 0.048267576505930984, 0.06929757555566901, 0.08900069791748556, 0.0860334968318902, 0.07870159657700057, 0.09585837971868322, 0.07998025794500174, 0.11618539785996247, 0.03341783921576825, 0.05510498667419616, 0.08701015237133629, 0.09610302704446468, 0.08790464659252949, 0.11618539785996243, 0.05160506631710524, 0.05510498667419616, 0.0894500790579184, 0.10622652692993892, 0.14258248773316215, 0.059994212489000644, 0.06590327504244507, 0.11728764995556568, 0.03123114983196611, 0.0965788595627181, 0.07509875932689901, 0.11596111604349255, 0.0390815506186707, 0.10762619468439578, 0.05957546204666763, 0.07145958061024173, 0.09258810801442437, 0.07238059559815004, 0.03601073063125073, 0.041993996372053984, 0.13592383455119536, 0.11927488719630445, 0.1017040594268033, 0.048694076980348014, 0.06801099150369704, 0.06696471669773375, 0.0969476438346915, 0.011572416504326737, 0.10583609100111431, 0.059168810919672896, 0.1395077204568553, 0.07892885141042338, 0.022178511485117958, 0.022178511485117958, 0.14603281928977807, 0.033609333515533545, 0.05271697230567304, 0.042909432811531194, 0.0800579965401529, 0.1513303695617604, 0.110573162720609, 0.07616474957491134, 0.07397624498320567, 0.09697310177048724, 0.06307476708865854, 0.012583303821243744, 0.09341934361649497, 0.14944573517772056, 0.1141893888078752, 0.0811635704554129, 0.07491893575194487, 0.03649154866104268, 0.04471888234257893, 0.04490925477119463, 0.05421828579107159, 0.11027736575191584, 0.027080446270994263, 0.08269355191525914, 0.1348217534261956, 0.04521810182037332, 0.03840314823682249, 0.0782789292265339, 0.03628610858372222, 0.047536672554448586, 0.06927202027841607, 0.06411355969990559, 0.045801539139337835, 0.028557861096092662, 0.0675507903953414, 0.10614460920181798, 0.07042328379270059, 0.06842726377180063, 0.0772201429244227, 0.07607461255848515, 0.07583739319450064, 0.04700249206477554, 0.06740171553885403, 0.07943822173374093, 0.10510535515888032, 0.10868288342385281, 0.05294104236676524, 0.06014045749144547, 0.013763575938519079, 0.07150943971971346], \"yaxis\": \"y\"}],                        {\"legend\": {\"title\": {\"text\": \"topic\"}, \"tracegroupgap\": 0}, \"template\": {\"data\": {\"bar\": [{\"error_x\": {\"color\": \"#2a3f5f\"}, \"error_y\": {\"color\": \"#2a3f5f\"}, \"marker\": {\"line\": {\"color\": \"#E5ECF6\", \"width\": 0.5}}, \"type\": \"bar\"}], \"barpolar\": [{\"marker\": {\"line\": {\"color\": \"#E5ECF6\", \"width\": 0.5}}, \"type\": \"barpolar\"}], \"carpet\": [{\"aaxis\": {\"endlinecolor\": \"#2a3f5f\", \"gridcolor\": \"white\", \"linecolor\": \"white\", \"minorgridcolor\": \"white\", \"startlinecolor\": \"#2a3f5f\"}, \"baxis\": {\"endlinecolor\": \"#2a3f5f\", \"gridcolor\": \"white\", \"linecolor\": \"white\", \"minorgridcolor\": \"white\", \"startlinecolor\": \"#2a3f5f\"}, \"type\": \"carpet\"}], \"choropleth\": [{\"colorbar\": {\"outlinewidth\": 0, \"ticks\": \"\"}, \"type\": \"choropleth\"}], \"contour\": [{\"colorbar\": {\"outlinewidth\": 0, \"ticks\": \"\"}, \"colorscale\": [[0.0, \"#0d0887\"], [0.1111111111111111, \"#46039f\"], [0.2222222222222222, \"#7201a8\"], [0.3333333333333333, \"#9c179e\"], [0.4444444444444444, \"#bd3786\"], [0.5555555555555556, \"#d8576b\"], [0.6666666666666666, \"#ed7953\"], [0.7777777777777778, \"#fb9f3a\"], [0.8888888888888888, \"#fdca26\"], [1.0, \"#f0f921\"]], \"type\": \"contour\"}], \"contourcarpet\": [{\"colorbar\": {\"outlinewidth\": 0, \"ticks\": \"\"}, \"type\": \"contourcarpet\"}], \"heatmap\": [{\"colorbar\": {\"outlinewidth\": 0, \"ticks\": \"\"}, \"colorscale\": [[0.0, \"#0d0887\"], [0.1111111111111111, \"#46039f\"], [0.2222222222222222, \"#7201a8\"], [0.3333333333333333, \"#9c179e\"], [0.4444444444444444, \"#bd3786\"], [0.5555555555555556, \"#d8576b\"], [0.6666666666666666, \"#ed7953\"], [0.7777777777777778, \"#fb9f3a\"], [0.8888888888888888, \"#fdca26\"], [1.0, \"#f0f921\"]], \"type\": \"heatmap\"}], \"heatmapgl\": [{\"colorbar\": {\"outlinewidth\": 0, \"ticks\": \"\"}, \"colorscale\": [[0.0, \"#0d0887\"], [0.1111111111111111, \"#46039f\"], [0.2222222222222222, \"#7201a8\"], [0.3333333333333333, \"#9c179e\"], [0.4444444444444444, \"#bd3786\"], [0.5555555555555556, \"#d8576b\"], [0.6666666666666666, \"#ed7953\"], [0.7777777777777778, \"#fb9f3a\"], [0.8888888888888888, \"#fdca26\"], [1.0, \"#f0f921\"]], \"type\": \"heatmapgl\"}], \"histogram\": [{\"marker\": {\"colorbar\": {\"outlinewidth\": 0, \"ticks\": \"\"}}, \"type\": \"histogram\"}], \"histogram2d\": [{\"colorbar\": {\"outlinewidth\": 0, \"ticks\": \"\"}, \"colorscale\": [[0.0, \"#0d0887\"], [0.1111111111111111, \"#46039f\"], [0.2222222222222222, \"#7201a8\"], [0.3333333333333333, \"#9c179e\"], [0.4444444444444444, \"#bd3786\"], [0.5555555555555556, \"#d8576b\"], [0.6666666666666666, \"#ed7953\"], [0.7777777777777778, \"#fb9f3a\"], [0.8888888888888888, \"#fdca26\"], [1.0, \"#f0f921\"]], \"type\": \"histogram2d\"}], \"histogram2dcontour\": [{\"colorbar\": {\"outlinewidth\": 0, \"ticks\": \"\"}, \"colorscale\": [[0.0, \"#0d0887\"], [0.1111111111111111, \"#46039f\"], [0.2222222222222222, \"#7201a8\"], [0.3333333333333333, \"#9c179e\"], [0.4444444444444444, \"#bd3786\"], [0.5555555555555556, \"#d8576b\"], [0.6666666666666666, \"#ed7953\"], [0.7777777777777778, \"#fb9f3a\"], [0.8888888888888888, \"#fdca26\"], [1.0, \"#f0f921\"]], \"type\": \"histogram2dcontour\"}], \"mesh3d\": [{\"colorbar\": {\"outlinewidth\": 0, \"ticks\": \"\"}, \"type\": \"mesh3d\"}], \"parcoords\": [{\"line\": {\"colorbar\": {\"outlinewidth\": 0, \"ticks\": \"\"}}, \"type\": \"parcoords\"}], \"pie\": [{\"automargin\": true, \"type\": \"pie\"}], \"scatter\": [{\"marker\": {\"colorbar\": {\"outlinewidth\": 0, \"ticks\": \"\"}}, \"type\": \"scatter\"}], \"scatter3d\": [{\"line\": {\"colorbar\": {\"outlinewidth\": 0, \"ticks\": \"\"}}, \"marker\": {\"colorbar\": {\"outlinewidth\": 0, \"ticks\": \"\"}}, \"type\": \"scatter3d\"}], \"scattercarpet\": [{\"marker\": {\"colorbar\": {\"outlinewidth\": 0, \"ticks\": \"\"}}, \"type\": \"scattercarpet\"}], \"scattergeo\": [{\"marker\": {\"colorbar\": {\"outlinewidth\": 0, \"ticks\": \"\"}}, \"type\": \"scattergeo\"}], \"scattergl\": [{\"marker\": {\"colorbar\": {\"outlinewidth\": 0, \"ticks\": \"\"}}, \"type\": \"scattergl\"}], \"scattermapbox\": [{\"marker\": {\"colorbar\": {\"outlinewidth\": 0, \"ticks\": \"\"}}, \"type\": \"scattermapbox\"}], \"scatterpolar\": [{\"marker\": {\"colorbar\": {\"outlinewidth\": 0, \"ticks\": \"\"}}, \"type\": \"scatterpolar\"}], \"scatterpolargl\": [{\"marker\": {\"colorbar\": {\"outlinewidth\": 0, \"ticks\": \"\"}}, \"type\": \"scatterpolargl\"}], \"scatterternary\": [{\"marker\": {\"colorbar\": {\"outlinewidth\": 0, \"ticks\": \"\"}}, \"type\": \"scatterternary\"}], \"surface\": [{\"colorbar\": {\"outlinewidth\": 0, \"ticks\": \"\"}, \"colorscale\": [[0.0, \"#0d0887\"], [0.1111111111111111, \"#46039f\"], [0.2222222222222222, \"#7201a8\"], [0.3333333333333333, \"#9c179e\"], [0.4444444444444444, \"#bd3786\"], [0.5555555555555556, \"#d8576b\"], [0.6666666666666666, \"#ed7953\"], [0.7777777777777778, \"#fb9f3a\"], [0.8888888888888888, \"#fdca26\"], [1.0, \"#f0f921\"]], \"type\": \"surface\"}], \"table\": [{\"cells\": {\"fill\": {\"color\": \"#EBF0F8\"}, \"line\": {\"color\": \"white\"}}, \"header\": {\"fill\": {\"color\": \"#C8D4E3\"}, \"line\": {\"color\": \"white\"}}, \"type\": \"table\"}]}, \"layout\": {\"annotationdefaults\": {\"arrowcolor\": \"#2a3f5f\", \"arrowhead\": 0, \"arrowwidth\": 1}, \"autotypenumbers\": \"strict\", \"coloraxis\": {\"colorbar\": {\"outlinewidth\": 0, \"ticks\": \"\"}}, \"colorscale\": {\"diverging\": [[0, \"#8e0152\"], [0.1, \"#c51b7d\"], [0.2, \"#de77ae\"], [0.3, \"#f1b6da\"], [0.4, \"#fde0ef\"], [0.5, \"#f7f7f7\"], [0.6, \"#e6f5d0\"], [0.7, \"#b8e186\"], [0.8, \"#7fbc41\"], [0.9, \"#4d9221\"], [1, \"#276419\"]], \"sequential\": [[0.0, \"#0d0887\"], [0.1111111111111111, \"#46039f\"], [0.2222222222222222, \"#7201a8\"], [0.3333333333333333, \"#9c179e\"], [0.4444444444444444, \"#bd3786\"], [0.5555555555555556, \"#d8576b\"], [0.6666666666666666, \"#ed7953\"], [0.7777777777777778, \"#fb9f3a\"], [0.8888888888888888, \"#fdca26\"], [1.0, \"#f0f921\"]], \"sequentialminus\": [[0.0, \"#0d0887\"], [0.1111111111111111, \"#46039f\"], [0.2222222222222222, \"#7201a8\"], [0.3333333333333333, \"#9c179e\"], [0.4444444444444444, \"#bd3786\"], [0.5555555555555556, \"#d8576b\"], [0.6666666666666666, \"#ed7953\"], [0.7777777777777778, \"#fb9f3a\"], [0.8888888888888888, \"#fdca26\"], [1.0, \"#f0f921\"]]}, \"colorway\": [\"#636efa\", \"#EF553B\", \"#00cc96\", \"#ab63fa\", \"#FFA15A\", \"#19d3f3\", \"#FF6692\", \"#B6E880\", \"#FF97FF\", \"#FECB52\"], \"font\": {\"color\": \"#2a3f5f\"}, \"geo\": {\"bgcolor\": \"white\", \"lakecolor\": \"white\", \"landcolor\": \"#E5ECF6\", \"showlakes\": true, \"showland\": true, \"subunitcolor\": \"white\"}, \"hoverlabel\": {\"align\": \"left\"}, \"hovermode\": \"closest\", \"mapbox\": {\"style\": \"light\"}, \"paper_bgcolor\": \"white\", \"plot_bgcolor\": \"#E5ECF6\", \"polar\": {\"angularaxis\": {\"gridcolor\": \"white\", \"linecolor\": \"white\", \"ticks\": \"\"}, \"bgcolor\": \"#E5ECF6\", \"radialaxis\": {\"gridcolor\": \"white\", \"linecolor\": \"white\", \"ticks\": \"\"}}, \"scene\": {\"xaxis\": {\"backgroundcolor\": \"#E5ECF6\", \"gridcolor\": \"white\", \"gridwidth\": 2, \"linecolor\": \"white\", \"showbackground\": true, \"ticks\": \"\", \"zerolinecolor\": \"white\"}, \"yaxis\": {\"backgroundcolor\": \"#E5ECF6\", \"gridcolor\": \"white\", \"gridwidth\": 2, \"linecolor\": \"white\", \"showbackground\": true, \"ticks\": \"\", \"zerolinecolor\": \"white\"}, \"zaxis\": {\"backgroundcolor\": \"#E5ECF6\", \"gridcolor\": \"white\", \"gridwidth\": 2, \"linecolor\": \"white\", \"showbackground\": true, \"ticks\": \"\", \"zerolinecolor\": \"white\"}}, \"shapedefaults\": {\"line\": {\"color\": \"#2a3f5f\"}}, \"ternary\": {\"aaxis\": {\"gridcolor\": \"white\", \"linecolor\": \"white\", \"ticks\": \"\"}, \"baxis\": {\"gridcolor\": \"white\", \"linecolor\": \"white\", \"ticks\": \"\"}, \"bgcolor\": \"#E5ECF6\", \"caxis\": {\"gridcolor\": \"white\", \"linecolor\": \"white\", \"ticks\": \"\"}}, \"title\": {\"x\": 0.05}, \"xaxis\": {\"automargin\": true, \"gridcolor\": \"white\", \"linecolor\": \"white\", \"ticks\": \"\", \"title\": {\"standoff\": 15}, \"zerolinecolor\": \"white\", \"zerolinewidth\": 2}, \"yaxis\": {\"automargin\": true, \"gridcolor\": \"white\", \"linecolor\": \"white\", \"ticks\": \"\", \"title\": {\"standoff\": 15}, \"zerolinecolor\": \"white\", \"zerolinewidth\": 2}}}, \"title\": {\"text\": \"PCA BBC Sport news\"}, \"xaxis\": {\"anchor\": \"y\", \"domain\": [0.0, 1.0], \"title\": {\"text\": \"x\"}}, \"yaxis\": {\"anchor\": \"x\", \"domain\": [0.0, 1.0], \"title\": {\"text\": \"y\"}}},                        {\"responsive\": true}                    ).then(function(){\n",
       "                            \n",
       "var gd = document.getElementById('7acc0ff0-ba99-4437-8d9f-9ef8d2e84afc');\n",
       "var x = new MutationObserver(function (mutations, observer) {{\n",
       "        var display = window.getComputedStyle(gd).display;\n",
       "        if (!display || display === 'none') {{\n",
       "            console.log([gd, 'removed!']);\n",
       "            Plotly.purge(gd);\n",
       "            observer.disconnect();\n",
       "        }}\n",
       "}});\n",
       "\n",
       "// Listen for the removal of the full notebook cells\n",
       "var notebookContainer = gd.closest('#notebook-container');\n",
       "if (notebookContainer) {{\n",
       "    x.observe(notebookContainer, {childList: true});\n",
       "}}\n",
       "\n",
       "// Listen for the clearing of the current output cell\n",
       "var outputEl = gd.closest('.output');\n",
       "if (outputEl) {{\n",
       "    x.observe(outputEl, {childList: true});\n",
       "}}\n",
       "\n",
       "                        })                };                });            </script>        </div>"
      ]
     },
     "metadata": {},
     "output_type": "display_data"
    }
   ],
   "source": [
    "###PCA\n",
    "import texthero as hero\n",
    "import pandas as pd\n",
    "\n",
    "df = pd.read_csv(\n",
    "   \"https://github.com/jbesomi/texthero/raw/master/dataset/bbcsport.csv\"\n",
    ")\n",
    "\n",
    "df['pca'] = (\n",
    "   df['text']\n",
    "   .pipe(hero.clean)\n",
    "   .pipe(hero.tfidf)###vectorizing\n",
    "   .pipe(hero.pca)\n",
    ")\n",
    "hero.scatterplot(df, 'pca', color='topic', title=\"PCA BBC Sport news\")"
   ]
  },
  {
   "cell_type": "code",
   "execution_count": 63,
   "id": "august-preservation",
   "metadata": {},
   "outputs": [
    {
     "data": {
      "text/html": [
       "<div>\n",
       "<style scoped>\n",
       "    .dataframe tbody tr th:only-of-type {\n",
       "        vertical-align: middle;\n",
       "    }\n",
       "\n",
       "    .dataframe tbody tr th {\n",
       "        vertical-align: top;\n",
       "    }\n",
       "\n",
       "    .dataframe thead th {\n",
       "        text-align: right;\n",
       "    }\n",
       "</style>\n",
       "<table border=\"1\" class=\"dataframe\">\n",
       "  <thead>\n",
       "    <tr style=\"text-align: right;\">\n",
       "      <th></th>\n",
       "      <th>text</th>\n",
       "      <th>topic</th>\n",
       "      <th>pca</th>\n",
       "    </tr>\n",
       "  </thead>\n",
       "  <tbody>\n",
       "    <tr>\n",
       "      <th>0</th>\n",
       "      <td>Claxton hunting first major medal\\n\\nBritish h...</td>\n",
       "      <td>athletics</td>\n",
       "      <td>[-0.09109912281144122, 0.10359351265238617]</td>\n",
       "    </tr>\n",
       "    <tr>\n",
       "      <th>1</th>\n",
       "      <td>O'Sullivan could run in Worlds\\n\\nSonia O'Sull...</td>\n",
       "      <td>athletics</td>\n",
       "      <td>[-0.00036132812221576415, 0.02478045501220412]</td>\n",
       "    </tr>\n",
       "    <tr>\n",
       "      <th>2</th>\n",
       "      <td>Greene sets sights on world title\\n\\nMaurice G...</td>\n",
       "      <td>athletics</td>\n",
       "      <td>[-0.11760496196780282, 0.12860286068425186]</td>\n",
       "    </tr>\n",
       "    <tr>\n",
       "      <th>3</th>\n",
       "      <td>IAAF launches fight against drugs\\n\\nThe IAAF ...</td>\n",
       "      <td>athletics</td>\n",
       "      <td>[-0.09134845338902024, 0.15398002814497108]</td>\n",
       "    </tr>\n",
       "    <tr>\n",
       "      <th>4</th>\n",
       "      <td>Dibaba breaks 5,000m world record\\n\\nEthiopia'...</td>\n",
       "      <td>athletics</td>\n",
       "      <td>[-0.0912957165291783, 0.13507109027104225]</td>\n",
       "    </tr>\n",
       "  </tbody>\n",
       "</table>\n",
       "</div>"
      ],
      "text/plain": [
       "                                                text      topic  \\\n",
       "0  Claxton hunting first major medal\\n\\nBritish h...  athletics   \n",
       "1  O'Sullivan could run in Worlds\\n\\nSonia O'Sull...  athletics   \n",
       "2  Greene sets sights on world title\\n\\nMaurice G...  athletics   \n",
       "3  IAAF launches fight against drugs\\n\\nThe IAAF ...  athletics   \n",
       "4  Dibaba breaks 5,000m world record\\n\\nEthiopia'...  athletics   \n",
       "\n",
       "                                              pca  \n",
       "0     [-0.09109912281144122, 0.10359351265238617]  \n",
       "1  [-0.00036132812221576415, 0.02478045501220412]  \n",
       "2     [-0.11760496196780282, 0.12860286068425186]  \n",
       "3     [-0.09134845338902024, 0.15398002814497108]  \n",
       "4      [-0.0912957165291783, 0.13507109027104225]  "
      ]
     },
     "execution_count": 63,
     "metadata": {},
     "output_type": "execute_result"
    }
   ],
   "source": [
    "df.head()"
   ]
  },
  {
   "cell_type": "code",
   "execution_count": 2,
   "id": "spiritual-doctor",
   "metadata": {},
   "outputs": [
    {
     "data": {
      "text/html": [
       "<div>\n",
       "<style scoped>\n",
       "    .dataframe tbody tr th:only-of-type {\n",
       "        vertical-align: middle;\n",
       "    }\n",
       "\n",
       "    .dataframe tbody tr th {\n",
       "        vertical-align: top;\n",
       "    }\n",
       "\n",
       "    .dataframe thead th {\n",
       "        text-align: right;\n",
       "    }\n",
       "</style>\n",
       "<table border=\"1\" class=\"dataframe\">\n",
       "  <thead>\n",
       "    <tr style=\"text-align: right;\">\n",
       "      <th></th>\n",
       "      <th>text</th>\n",
       "      <th>topic</th>\n",
       "      <th>pca</th>\n",
       "    </tr>\n",
       "  </thead>\n",
       "  <tbody>\n",
       "    <tr>\n",
       "      <th>0</th>\n",
       "      <td>Claxton hunting first major medal\\n\\nBritish h...</td>\n",
       "      <td>athletics</td>\n",
       "      <td>[-0.09107819053003914, 0.10357210282741101]</td>\n",
       "    </tr>\n",
       "    <tr>\n",
       "      <th>1</th>\n",
       "      <td>O'Sullivan could run in Worlds\\n\\nSonia O'Sull...</td>\n",
       "      <td>athletics</td>\n",
       "      <td>[-0.0002786547625436705, 0.02477621330944455]</td>\n",
       "    </tr>\n",
       "    <tr>\n",
       "      <th>2</th>\n",
       "      <td>Greene sets sights on world title\\n\\nMaurice G...</td>\n",
       "      <td>athletics</td>\n",
       "      <td>[-0.11765703516162962, 0.12865601739827767]</td>\n",
       "    </tr>\n",
       "    <tr>\n",
       "      <th>3</th>\n",
       "      <td>IAAF launches fight against drugs\\n\\nThe IAAF ...</td>\n",
       "      <td>athletics</td>\n",
       "      <td>[-0.09131528756100005, 0.15397654273191513]</td>\n",
       "    </tr>\n",
       "    <tr>\n",
       "      <th>4</th>\n",
       "      <td>Dibaba breaks 5,000m world record\\n\\nEthiopia'...</td>\n",
       "      <td>athletics</td>\n",
       "      <td>[-0.0912807640539468, 0.13510622701055774]</td>\n",
       "    </tr>\n",
       "  </tbody>\n",
       "</table>\n",
       "</div>"
      ],
      "text/plain": [
       "                                                text      topic  \\\n",
       "0  Claxton hunting first major medal\\n\\nBritish h...  athletics   \n",
       "1  O'Sullivan could run in Worlds\\n\\nSonia O'Sull...  athletics   \n",
       "2  Greene sets sights on world title\\n\\nMaurice G...  athletics   \n",
       "3  IAAF launches fight against drugs\\n\\nThe IAAF ...  athletics   \n",
       "4  Dibaba breaks 5,000m world record\\n\\nEthiopia'...  athletics   \n",
       "\n",
       "                                             pca  \n",
       "0    [-0.09107819053003914, 0.10357210282741101]  \n",
       "1  [-0.0002786547625436705, 0.02477621330944455]  \n",
       "2    [-0.11765703516162962, 0.12865601739827767]  \n",
       "3    [-0.09131528756100005, 0.15397654273191513]  \n",
       "4     [-0.0912807640539468, 0.13510622701055774]  "
      ]
     },
     "execution_count": 2,
     "metadata": {},
     "output_type": "execute_result"
    }
   ],
   "source": [
    "df.head()"
   ]
  },
  {
   "cell_type": "code",
   "execution_count": 65,
   "id": "talented-console",
   "metadata": {},
   "outputs": [
    {
     "name": "stderr",
     "output_type": "stream",
     "text": [
      "C:\\Users\\win10\\anaconda3\\envs\\myenv\\lib\\site-packages\\texthero\\preprocessing.py:72: FutureWarning:\n",
      "\n",
      "The default value of regex will change from True to False in a future version.\n",
      "\n",
      "C:\\Users\\win10\\anaconda3\\envs\\myenv\\lib\\site-packages\\texthero\\preprocessing.py:131: FutureWarning:\n",
      "\n",
      "The default value of regex will change from True to False in a future version.\n",
      "\n",
      "C:\\Users\\win10\\anaconda3\\envs\\myenv\\lib\\site-packages\\sklearn\\cluster\\_kmeans.py:786: FutureWarning:\n",
      "\n",
      "'precompute_distances' was deprecated in version 0.23 and will be removed in 1.0 (renaming of 0.25). It has no effect\n",
      "\n",
      "C:\\Users\\win10\\anaconda3\\envs\\myenv\\lib\\site-packages\\sklearn\\cluster\\_kmeans.py:792: FutureWarning:\n",
      "\n",
      "'n_jobs' was deprecated in version 0.23 and will be removed in 1.0 (renaming of 0.25).\n",
      "\n"
     ]
    },
    {
     "data": {
      "application/vnd.plotly.v1+json": {
       "config": {
        "plotlyServerURL": "https://plot.ly"
       },
       "data": [
        {
         "hovertemplate": "kmeans_labels=2<br>x=%{x}<br>y=%{y}<extra></extra>",
         "legendgroup": "2",
         "marker": {
          "color": "#636efa",
          "symbol": "circle"
         },
         "mode": "markers",
         "name": "2",
         "orientation": "v",
         "showlegend": true,
         "type": "scatter",
         "x": [
          -0.09106050107030124,
          -0.00040249735312269095,
          -0.11753685085196265,
          -0.09128222027200934,
          -0.09124384883001944,
          -0.11030654303157789,
          -0.029058979108434975,
          -0.04306712459134085,
          -0.128912157431002,
          -0.1574683925573265,
          -0.09561059594878556,
          -0.10796728740863398,
          -0.08939331054507037,
          -0.0805915254494982,
          -0.07798141350410523,
          -0.12049092699725779,
          -0.14093146173248744,
          -0.10520880437382661,
          -0.11106672012887725,
          -0.10796728740863398,
          -0.09663825003703144,
          -0.10731875810763052,
          -0.14571396369015452,
          -0.07444941031114097,
          -0.10872302939351235,
          -0.08563953678452521,
          -0.0993324023628429,
          -0.11469455876787685,
          -0.10920790241858996,
          -0.07438738640762314,
          -0.04978712158332071,
          -0.13233234506457062,
          -0.15113220824394025,
          -0.13148231182369505,
          -0.08905473542202093,
          -0.054432378648702415,
          -0.10208005835876031,
          -0.10180808797699552,
          -0.05761804811357425,
          -0.07917746734990787,
          -0.06949787752321274,
          -0.08999429474612884,
          -0.0616511380493735,
          -0.05623445113433163,
          -0.09392638283964622,
          -0.08154356344860589,
          -0.1126592154166824,
          -0.1270910842588107,
          -0.05434180277387841,
          -0.12123196399486867,
          -0.1281833550062222,
          -0.09421087778731266,
          -0.09613057757224093,
          -0.14350820999995942,
          -0.0971005893418224,
          -0.10464389527337785,
          -0.12840168747086567,
          -0.13840200784670698,
          -0.1136731952282163,
          -0.10016999497722032,
          -0.11214113060470021,
          -0.06191639527570689,
          -0.12173866397297678,
          -0.06485679763856968,
          -0.10986390708815547,
          -0.1599095016081088,
          -0.11217768862097745,
          -0.030330410984286228,
          -0.17662433700317828,
          -0.10721979224974537,
          -0.10598807901223274,
          -0.05913025204427504,
          -0.10776526259124627,
          -0.10504963509226171,
          -0.10477789973828201,
          -0.06400349649283121,
          -0.014889386805349795,
          -0.08085238251897925,
          -0.13531080005880702,
          -0.130485944001812,
          -0.14642969325392474,
          -0.1278625541101487,
          -0.06355481591657237,
          -0.09421087778731266,
          -0.07464205547828275,
          -0.08027518026900864,
          -0.08355184331124345,
          -0.05434180277387841,
          -0.13205157535205314,
          -0.09221769724565884,
          -0.06968156306028817,
          -0.07746662009308235,
          -0.08828656050466673,
          -0.15266342655733517,
          -0.11294226970160416,
          -0.04431923617865351,
          -0.10725598876862627,
          -0.1381766970268984,
          -0.05845642041196004
         ],
         "xaxis": "x",
         "y": [
          0.10343750633114507,
          0.02465103672162663,
          0.1287749703808631,
          0.1539516173739173,
          0.13500097568132954,
          0.15763797274275024,
          0.07026772542053644,
          0.03477773317343081,
          0.17071338609238004,
          0.24042272477425222,
          0.11531276866682386,
          0.10871618536081289,
          0.11705148027982998,
          0.04867855643082434,
          0.13005594720935862,
          0.33132341377232805,
          0.3338126791461329,
          0.17690553607531379,
          0.13488197791007506,
          0.10871618536081289,
          0.15738585040765882,
          0.131440289678456,
          0.3344022402362256,
          0.11107483444666179,
          0.1529075359062058,
          0.18012854158916963,
          0.15883080863449844,
          0.13618076790157954,
          0.16135767680744556,
          0.10376128880699992,
          0.07716481886081294,
          0.2084517821454753,
          0.33660511734632453,
          0.15882224562539765,
          0.16926188670146028,
          0.1293056875460101,
          0.1360102225304256,
          0.08931105100041717,
          0.12300748949310536,
          0.08365325948609677,
          0.09690323565668889,
          0.12538289897688057,
          0.1204381228212848,
          0.07953775978493065,
          0.1600572736472934,
          0.11337935495780185,
          0.2587287636239834,
          0.30338451725133864,
          0.13479282732893308,
          0.3222967778794591,
          0.3438127853019183,
          0.1536488819913079,
          0.11288088085010298,
          0.31448409868416055,
          0.13881897252933584,
          0.13358587349189732,
          0.15104699231347388,
          0.16391867927041728,
          0.0892581560138575,
          0.13686240275530903,
          0.149939622327396,
          0.0859372669579669,
          0.15641872121795594,
          0.10135814603711818,
          0.1314251018037263,
          0.2948775899065678,
          0.15641775896349774,
          0.08153957946749636,
          0.2497706916464838,
          0.08390659008668136,
          0.11842775134374943,
          0.06556462816358634,
          0.08469181573386939,
          0.12841639965793208,
          0.18542382376558614,
          0.10161251774516995,
          0.05028005984141294,
          0.11160227312399434,
          0.3269539126602576,
          0.2779344514241319,
          0.342844272625009,
          0.3379532884461834,
          0.1075082851320458,
          0.1536488819913079,
          0.10388114238805976,
          0.09759646687580466,
          0.12009419612971511,
          0.13479282732893308,
          0.30831528672984826,
          0.09775683156391284,
          0.13435017423617104,
          0.10347964115321877,
          0.11320686251441965,
          0.2211926141274958,
          0.12444799245366796,
          0.056505990223536695,
          0.15236161556917205,
          0.1801400984525228,
          0.11540425866180647
         ],
         "yaxis": "y"
        },
        {
         "hovertemplate": "kmeans_labels=1<br>x=%{x}<br>y=%{y}<extra></extra>",
         "legendgroup": "1",
         "marker": {
          "color": "#EF553B",
          "symbol": "circle"
         },
         "mode": "markers",
         "name": "1",
         "orientation": "v",
         "showlegend": true,
         "type": "scatter",
         "x": [
          -0.02263717369220481,
          -0.06308396758981018,
          0.05250884968610345,
          0.03214016937482703,
          0.03922712824559012,
          0.02835880656977851,
          -0.047179252204968034,
          -0.11392000804274605,
          -0.08358384364716072,
          -0.09709486834040745,
          0.07289411471538795,
          -0.03381149106167926,
          -0.07645019164352586,
          -0.1986641642862717,
          -0.09992516271857556,
          -0.12656997515376694,
          -0.006175201423403875,
          -0.01652205187710283,
          -0.011386981990348868,
          -0.0021220788317699245,
          -0.005167860419980981,
          -0.05487976285026975,
          -0.1229354463430743,
          -0.17150394932669824,
          -0.0047098514139680085,
          -0.04141581707628205,
          -0.03800981193722993,
          -0.04731600291156092,
          -0.05198085023345943,
          -0.1384804962130485,
          -0.023950304755414823,
          -0.011303346329082241,
          -0.17162478159024663,
          -0.10762717605431996,
          0.004811232849606916,
          -0.06773291211374588,
          -0.13715267998052874,
          -0.0645972648810038,
          -0.01720696384199343,
          0.016415980084502985,
          0.0068147634593595545,
          -0.06005206305775046,
          -0.04326302686956212,
          0.021506763813368635,
          -0.03144880257065339,
          -0.060018490358330345,
          -0.07748646105254037,
          -0.06626776846843424,
          -0.06365902214978932,
          -0.10959099790122327,
          -0.14869563484556098,
          -0.04896798084474568,
          -0.05645116660152463,
          -0.08706378855380374,
          -0.024287568623862252,
          -0.027139032741220235,
          -0.04035503140104723,
          -0.05413091037929326,
          -0.04763481353019477,
          -0.047536753456152415,
          -0.05538169981714391,
          -0.10680843768938694,
          -0.06081168730013487,
          -0.12715522926437367,
          -0.08870872121589032,
          -0.07427114612964951,
          -0.11304429697034958,
          -0.0968349389773007,
          -0.18440216220980554,
          -0.055076759742153154,
          -0.08297980648230778,
          -0.05019808962598542,
          -0.07074199780146503,
          -0.0595281303143985,
          -0.08776466634807083,
          -0.06604470683788799,
          -0.10977923106331837,
          -0.13234089503274704,
          -0.20174381591439677,
          -0.08619088037751403,
          -0.033425112580470887,
          -0.07549948193198684,
          -0.008745217763969682,
          -0.12696727457234366,
          -0.07657086978028962,
          -0.07549576781622878,
          -0.18265259240583412,
          -0.08678816922184478,
          -0.051955149406681854,
          -0.07312496151112899,
          -0.1299896563095019,
          -0.1299896563095019,
          -0.14903071980856514,
          -0.11813697851261472,
          -0.036125245731133376,
          -0.0801076650564242,
          -0.07842410260609638,
          -0.10672960820407514,
          -0.07602912841196258,
          -0.03862811506923294,
          -0.09034506597739062,
          -0.10646015941253263,
          -0.05021771600241816,
          -0.07626282806105698,
          -0.11806634437412757,
          -0.0996038521494576,
          -0.11974685791683631,
          -0.14050160196900727,
          -0.06871040942445729,
          -0.12758720131638304,
          -0.05135899757988715,
          -0.07084063565564241,
          -0.049324610728178994,
          -0.059857739133511105,
          -0.11709273456663336,
          -0.04553568408464179,
          -0.0547662613351659,
          -0.16255138533586544,
          -0.040376871032397676,
          -0.11242912310393902,
          -0.031986932760562324,
          -0.025601279408148988,
          -0.00012689904767861838,
          -0.032513000704194016,
          -0.021914236852426095,
          -0.17458622451783717,
          0.017030429636752366,
          -0.06185523257128724,
          -0.05163014246855004,
          -0.04634721294069379,
          -0.09498694667686837,
          -0.020985390359075318,
          0.005060504074247521,
          -0.039000047135770356,
          -0.11299166207837137,
          -0.11352149838547247,
          -0.06052480910970096,
          -0.05475449848052479,
          -0.13196429735512455,
          -0.032643801250921894,
          -0.0577630824174642,
          -0.06956301750241742,
          -0.1310381144848458,
          -0.10577772479196665,
          -0.11640032776474402,
          -0.09563943259650179,
          -0.13117473750109218,
          -0.01810813148277835,
          -0.06377545004165021,
          -0.10082621147328254,
          -0.1937396400082088,
          -0.06340849878405806,
          -0.05308671752084111,
          -0.11572446908527856,
          -0.05127146760275484,
          -0.09770945414949443,
          -0.07220193500577006,
          -0.05713456852075077,
          -0.07902098791037289,
          -0.1465029727607114,
          -0.04468308668374229,
          -0.11400808285185754,
          -0.1465029727607114,
          -0.06718820499599872,
          -0.06846716613092886,
          -0.06846716613092886,
          -0.09312597669411284,
          -0.06962408947148743,
          -0.06026042476596687,
          -0.05187562767543128,
          -0.0362143547892383,
          -0.06034133642461787,
          -0.08740340543654405,
          -0.13378196819917043,
          -0.07247708143100344,
          -0.04061480465438682,
          -0.04029816239584027,
          -0.06040730392298602,
          -0.0717724413452693,
          -0.15698472657003168,
          -0.07471865124190215,
          -0.17012904660451594,
          -0.09046908594847282,
          -0.05533098050057816,
          -0.040215849665187216,
          -0.061576683759119545,
          -0.08182282921380528,
          -0.1279068918799022,
          -0.08670316438078292,
          -0.09586640848093202,
          -0.07985873209732916,
          -0.16078419647778122,
          -0.1564467072302905,
          -0.1190177069192073,
          -0.07940778725311064,
          -0.07299591336401226,
          -0.05932554596082455,
          0.005098817769884303,
          -0.036994522905806605,
          -0.10065784546467242,
          -0.07654428946542943,
          -0.06782565717312457,
          -0.053736519659272716,
          -0.19562694101609845,
          -0.05506382950581591,
          -0.06535353171495101,
          -0.07693103340097837,
          -0.04280361961102305,
          -0.20001363800965077,
          -0.05196723523983233,
          -0.14457467583740813,
          -0.08358384364716072,
          -0.06657802527112315,
          -0.07766630098753631,
          -0.03536535675156907,
          -0.047477802933252905,
          -0.12149113069792898,
          -0.0700567970987978,
          -0.030334289311793827,
          -0.05986654444167298,
          -0.02289481357374983,
          0.0025500762955229,
          -0.13369120286279412,
          -0.005793534651521604,
          -0.10052437659948506,
          -0.03254664466039119,
          -0.042344440050174785,
          -0.0970283906171491,
          -0.032346887299722675,
          -0.08230226256726952,
          -0.18113512346060115,
          -0.1255538450003387,
          -0.06023538615354963,
          -0.0869867442801366,
          -0.09189004793455378,
          -0.060358311801793234,
          -0.048919978397042534,
          -0.024562211281748396,
          -0.0892703620584181,
          -0.06673282809793073,
          -0.18526534914204335,
          -0.1138533983202072,
          -0.12240421376362215,
          -0.0640852671348958,
          -0.17206753869216526,
          -0.08068978158682243,
          -0.129818321779496,
          -0.07557832731183069,
          -0.025610759033936323,
          -0.045444698669667036,
          -0.0581810732913734,
          -0.14882635943845582,
          -0.07931555165544862,
          -0.12663696494023155,
          -0.07883785971775273,
          -0.04093276751075081,
          -0.04002399707323377,
          -0.05492434070482496,
          -0.10151444598976435,
          -0.009474681405775683,
          -0.051679254931085244,
          -0.0829843273908994,
          -0.021776847930175827,
          -0.09870482002617727,
          -0.06494630880930509,
          -0.03564726560531581,
          -0.0028453003577325617,
          0.027391579784718588,
          -0.009036480210941647,
          -0.007416092600879542,
          0.0251564961696349,
          0.036440927537068936,
          -0.02495066922619916,
          0.004163128011724162,
          0.025087471324323183,
          -0.0165770006138669,
          0.021283270785039415,
          0.01502344817927151,
          0.022372025082004778,
          -0.05527077171399334,
          -0.0540883183427959,
          0.0288178440561675,
          0.027071510796433215,
          -0.040850672475385125,
          -0.0024451579778698536,
          -0.031184975801555947,
          -0.02201378246164142,
          -0.04802024051753802,
          -0.0665241550644209,
          -0.0487611428229362
         ],
         "xaxis": "x",
         "y": [
          0.013433991704146072,
          0.017766311177487778,
          -0.006182452764884799,
          0.0018908538612142074,
          0.012043132587139998,
          -0.004372051309281017,
          -0.08539747883351961,
          -0.11563433433848612,
          -0.06945950090995567,
          -0.06797492482475156,
          -0.061964131175060944,
          -0.00902683565077934,
          -0.0946781071247748,
          -0.21836787351090073,
          -0.12034246374725167,
          -0.16667855859559827,
          -0.055942742006277975,
          -0.045651324334338,
          -0.04278231869261736,
          -0.026884083060539066,
          -0.01789119784429015,
          -0.058358386222934544,
          -0.19980214645962546,
          -0.17041768290830983,
          -0.04521803524838962,
          -0.0433829979076085,
          -0.1038617751331102,
          -0.03347780476077882,
          -0.015453177473651509,
          -0.12697044887491024,
          -0.12843712086223094,
          -0.07944958919758004,
          -0.17014543140461413,
          -0.12181778868156838,
          -0.07083644231342037,
          -0.03279263625599654,
          -0.1424111527952301,
          -0.07843107474786425,
          -0.014375878751446762,
          -0.042568748793562594,
          -0.0490566289954402,
          -0.008933448807430735,
          0.014942869253145585,
          -0.009864145985229136,
          -0.020406132674661525,
          0.03677653839221905,
          -0.07411813408432225,
          -0.057745348137097995,
          -0.08291429337560724,
          -0.10137843389236985,
          -0.17319933709075214,
          -0.1424446407605595,
          -0.03405964637626063,
          -0.08103944328482604,
          -0.05130871244880944,
          -0.018589739592832416,
          -0.03133196858740644,
          -0.0073580805114212685,
          0.006299949989126435,
          -0.08555742451631082,
          -0.11045344785550404,
          -0.1104181986493325,
          -0.013274157581780096,
          -0.0887991852463746,
          -0.11279115404796819,
          -0.07758967823074163,
          -0.11355947171171903,
          -0.0693424543950053,
          -0.2418774845962634,
          -0.11234000214315001,
          -0.05743585543880434,
          -0.05832248855270073,
          -0.0726368635391123,
          -0.02832212919673227,
          -0.07372979911226997,
          -0.03490974649297423,
          -0.0909451121564902,
          -0.08569759091331372,
          -0.1832081987673538,
          -0.005692791228640257,
          -0.005021979350918908,
          -0.06804182315724217,
          0.013686761258739123,
          -0.08203572534699995,
          -0.01887509613877288,
          -0.0745875458279795,
          -0.16545342649192235,
          -0.06478271562897693,
          -0.06255537313995321,
          -0.10429888833998506,
          -0.14213546281546055,
          -0.14213546281546055,
          -0.15648353886702882,
          -0.12283049858004517,
          -0.03900761160048622,
          -0.06134794178051028,
          -0.04730204962585507,
          -0.08019972051322256,
          -0.05977575077467411,
          -0.00593544951666781,
          -0.0958534391768442,
          -0.05608463052653552,
          -0.013324916349653005,
          -0.0693063561089692,
          -0.1052046190779553,
          -0.06990007502723014,
          -0.09694225999972121,
          -0.0012215348556728122,
          -0.08882629171122389,
          -0.0506978181128331,
          -0.020887472507580097,
          -0.0169423929557356,
          0.004629963708145577,
          -0.06742748115400447,
          -0.08669242186250004,
          -0.025433722692553885,
          -0.07598894421227018,
          -0.17281716111454454,
          -0.005549368702886004,
          -0.06925467116800431,
          -0.04691108902007823,
          -0.007671414533387733,
          0.010203689577017791,
          -0.07625433976041189,
          -0.08116233268453765,
          -0.20044405396043846,
          -0.006391442414755946,
          -0.02980145867796101,
          -0.0416470585459973,
          -0.06713137778223224,
          -0.13535671372245137,
          0.011122500058532579,
          0.00037964429288838043,
          -0.055906268307866394,
          -0.12269595737588215,
          -0.1444845071648982,
          -0.06891469865072716,
          -0.02642486628926654,
          -0.14897098554823077,
          -0.05587430475911888,
          -0.03393251706617192,
          -0.004104316574705392,
          -0.1497086149596709,
          -0.15910488622871063,
          -0.09449003624902835,
          -0.119659653262688,
          -0.1325085619071836,
          -0.05312862473169299,
          0.04299278836552,
          -0.08918640609177252,
          -0.19754436166293346,
          -0.05047278167459486,
          -0.03718117219415399,
          -0.13683075027556313,
          -0.06676889557059547,
          -0.11074360951344496,
          -0.035314373440713885,
          -0.0644663356647503,
          -0.03988613217862046,
          -0.16707277888661637,
          0.0019548190392678372,
          -0.09184510639168303,
          -0.16707277888661637,
          -0.054731512894541846,
          -0.014073522572557047,
          -0.014073522572557047,
          -0.0966609619154305,
          -0.06471596559638025,
          -0.03252007545513433,
          -0.0012479633031934972,
          -0.051648430220381035,
          -0.033512284355718264,
          -0.029010860280651942,
          -0.10606153731882347,
          -0.09215755831985975,
          -0.08666245774600025,
          -0.06557846191716436,
          -0.07179911074568372,
          0.018129612633770675,
          -0.0940716279839777,
          -0.047520669036817766,
          -0.19750442335935484,
          -0.06688278568759184,
          -0.030668265988155433,
          -0.020293103450112586,
          -0.09023363762834188,
          -0.06360709387264239,
          -0.13741551437667915,
          -0.12915590102805333,
          -0.11124723247874187,
          -0.11796507076204273,
          -0.1319784863876819,
          -0.19442812418958147,
          -0.1689119725075928,
          -0.09020272846409509,
          -0.09259366105698257,
          -0.033830678546980186,
          -0.037668991233368185,
          0.005435062748346845,
          -0.1489959591611438,
          -0.17779452003490911,
          -0.149862806273476,
          -0.062105546224397665,
          -0.24844245217681304,
          -0.07299160923392056,
          -0.06563537834593801,
          -0.1163559855611172,
          -0.026689170458494754,
          -0.21860272399122385,
          -0.0428542257412803,
          -0.17266205441951132,
          -0.06945950090995567,
          -0.1262460074929021,
          -0.1279652273444631,
          -0.029567573714655692,
          -0.05527719646227743,
          -0.1373915332666802,
          -0.0912484256593749,
          -0.010780777961188903,
          -0.06186115137187932,
          -0.010225810748181184,
          0.008913139721222624,
          -0.18651571329721514,
          -0.05295701760274847,
          -0.06345822128271009,
          -0.00046550349680476424,
          -0.008354060645184949,
          -0.1186214183891341,
          -0.012496953415249982,
          -0.0581429946268665,
          -0.1886567545946852,
          -0.10207809740121995,
          0.05186995374952429,
          -0.057357714103662916,
          -0.06470435393993618,
          -0.03858706164293712,
          -0.014822366576811314,
          -0.08395633521671067,
          -0.09286033999816612,
          -0.08460774150616247,
          -0.16927054495371252,
          -0.13198153559174905,
          -0.10849756561153005,
          -0.02425544829900748,
          -0.20408357103241176,
          -0.035285150494446936,
          -0.1152716153658793,
          -0.06454514885972229,
          -0.06990626451021596,
          0.023596743209462073,
          -0.09655013713531302,
          -0.15280133479927352,
          -0.09442738007730182,
          -0.12230316786610472,
          -0.0951056397272346,
          -0.053343602957655334,
          -0.010663611250756684,
          0.02325235842793345,
          -0.006817075180435021,
          0.03101242360185336,
          -0.043580202890000766,
          -0.11091621171528258,
          -0.022841367602455517,
          -0.10844514331919694,
          -0.028211197523144396,
          -0.02224224643519348,
          -0.021000123193287944,
          -0.09777230637293081,
          -0.012752904949134293,
          0.019373048750042504,
          0.00661918708040969,
          0.008028037522637196,
          -0.02661315867086429,
          -0.02593056517293317,
          -0.02758247304629694,
          -0.025097657107080527,
          -0.008473139725927541,
          -0.016121144983155908,
          -0.08088349466735358,
          -0.030851659563247646,
          -0.03188819264989485,
          -0.0258961194832472,
          -0.01974880634882775,
          -0.05792760253641925,
          -0.06513973331979594,
          -0.0552378139754223,
          -0.07858077658423611,
          -0.04072789732350498,
          0.01167391768064585,
          0.013843488545006779
         ],
         "yaxis": "y"
        },
        {
         "hovertemplate": "kmeans_labels=3<br>x=%{x}<br>y=%{y}<extra></extra>",
         "legendgroup": "3",
         "marker": {
          "color": "#00cc96",
          "symbol": "circle"
         },
         "mode": "markers",
         "name": "3",
         "orientation": "v",
         "showlegend": true,
         "type": "scatter",
         "x": [
          0.25359640655142196,
          0.2172015278126598,
          0.13965713138418356,
          0.12114117025921284,
          0.10656878337389193,
          0.1493347458317919,
          0.10183674244838452,
          0.12006248405402008,
          0.2100260535419374,
          0.06171913281722546,
          0.2257097091554847,
          0.061719132817225464,
          0.1889388290995699,
          0.13941020282355754,
          0.1619685459220594,
          0.07290449691205976,
          0.21463111727677506,
          0.21153333042646197,
          0.13958488358155996,
          0.10527534669759317,
          0.1619685459220594,
          0.07290449691205976,
          0.1919949131943567,
          0.09282674624509882,
          0.08171296984170291,
          0.1643747143665741,
          0.11119911096387106,
          0.12968624686178565,
          0.21440747044907468,
          0.26281836027732347,
          0.16651124413833138,
          0.061527744410219895,
          0.13333432846395743,
          0.03120695533231104,
          0.22996784641898313,
          0.12813770555008813,
          0.22419495920515367,
          0.11952253537807149,
          0.05635342288521054,
          0.20623152849616508,
          0.1675130701810025,
          0.16738894835119772,
          0.2297316848510479,
          0.1574738393466211,
          0.12872524865474774,
          0.13081366332869665,
          0.25727199571592546,
          0.15552256814479068,
          0.24912175919138893,
          0.1689272123421147,
          0.061870544680331825,
          0.17398580223730764,
          0.2752935652854146,
          0.105003342464168,
          0.26629461059796106,
          0.2796346203509798,
          0.2829267334280403,
          0.13890764269940756,
          -0.02619954356118486,
          0.03123461922376425,
          0.11109490389960887,
          0.17776815707731017,
          0.10048079027469076,
          0.1683430633462404,
          0.08766092935627354,
          0.01750660889440081,
          0.0897474024074173,
          0.09366482238697078,
          0.06744221653458306,
          0.0472147167459816,
          0.20408285844346816,
          0.11371690055967933,
          -0.033509300410253004,
          0.16648896846425504,
          0.12985952993834787,
          0.10131979436069787,
          0.11365974182185784,
          0.10391172849657167,
          0.1350597134628128,
          0.08438553300652736,
          0.11949355551864076,
          0.022004664865482148,
          -0.014111106669370963,
          0.0638457759694643,
          0.044715685511938934,
          -0.04258159457639251,
          -0.05496568627826849,
          -0.05573462757537132,
          -0.06933465779526315,
          -0.0377933281899323,
          -0.05443123240098915,
          -0.05989153460143472,
          -0.04871995060147733,
          -0.05576348654679035,
          -0.05133935890925089,
          -0.027520273354989085,
          -0.07347659787375355,
          -0.037914540592197996,
          -0.04008779312265178,
          -0.04675504243761863,
          -0.05133935890925087,
          -0.06407573398600401,
          -0.07347659787375355,
          -0.04061370250726392,
          -0.04660726387693538,
          -0.0678108790916703,
          -0.06044001363572176,
          -0.05590140791030396,
          -0.07368469535125254,
          -0.04481500947534015,
          -0.04177596104584108,
          -0.022406364717503693,
          -0.06051846248763205,
          -0.05784286249267992,
          -0.06108573277885925,
          -0.041472488801578965,
          -0.05637226875991266,
          -0.06244817967995651,
          -0.048257995296154675,
          -0.03344222120315943,
          -0.02576204077914833,
          -0.06895786368727319,
          -0.07600252602502823,
          -0.051461408619928796,
          -0.05578191468361325,
          -0.051398298701257394,
          -0.043319930305821326,
          -0.06592818019632822,
          -0.04820927605116154,
          -0.07037074687821146,
          -0.05486290097205856,
          -0.0565548819568243,
          -0.07571761956416331,
          -0.07571761956416331,
          -0.058469499908098826,
          -0.056153421547978546,
          -0.048250921017658814,
          -0.031801252672987425,
          -0.0494949032592694,
          -0.08160537783307162,
          -0.0696157899587895,
          -0.041303425088249086,
          -0.04023278480505507,
          -0.06209500584431207,
          -0.06275735277463074,
          -0.03883098188214864,
          -0.046203207362010404,
          -0.10003429761340872,
          -0.05393750267275629,
          -0.06496886437803386,
          -0.05469980860690378,
          -0.025214258093834218,
          -0.08053384578874546,
          -0.08062238803162822,
          -0.05126216879370229,
          -0.07712615691252457,
          -0.05779525811892355,
          -0.048262669774711435,
          -0.10305609876031965,
          -0.036036464917345544,
          -0.029665878559987643,
          -0.04743168903690628,
          -0.08003736590925742,
          -0.07199899848796067,
          -0.04194161649941831,
          -0.0720415354677208,
          -0.06625973438375693,
          -0.03229642624107089,
          -0.05102599677381446,
          -0.02769630585441153,
          -0.06100077302298653,
          -0.020909873213304963,
          -0.062262543722383,
          -0.03780172060484192,
          -0.07903099882409516,
          0.017168505224971393,
          -0.031787928725510374,
          -0.06343989612492139,
          -0.04151511691549913,
          -0.06667222694521661,
          -0.04801574307128278,
          -0.04965998490374711,
          -0.02912904332843782
         ],
         "xaxis": "x",
         "y": [
          0.11748547425458626,
          0.17853935960866138,
          0.028519062470882334,
          0.10744416208793235,
          0.07270239387467789,
          0.14726089708231807,
          0.05861864763116178,
          0.10426627587932816,
          0.07402174441669016,
          0.06411370322343943,
          0.06327258018628568,
          0.06411370322343943,
          0.17168757410938718,
          0.11083019706332016,
          0.14098963732488728,
          0.1128875422498598,
          0.17426597695484705,
          0.13263984948308785,
          0.11055476412857501,
          0.03180566215801734,
          0.14098963732488728,
          0.1128875422498598,
          0.17693810345038452,
          0.07653660002660408,
          0.09479404497664211,
          0.09465521286104742,
          0.06124901426202677,
          0.12226779797854587,
          0.1624195442445121,
          0.17534666701052695,
          0.0904291664638486,
          0.07812955888468881,
          0.06895637039799714,
          0.008260212959714717,
          0.1564889064652677,
          0.11066843971196488,
          0.10949717715014806,
          0.10268634609379133,
          0.08099683526455033,
          0.11146548923729332,
          0.1627816411750002,
          0.16227816803905945,
          0.1648064558148101,
          0.1556882577731203,
          0.0768384175545466,
          0.028807716161364297,
          0.2059823720706285,
          0.09738014417601569,
          0.20272979144594067,
          0.13938027824464133,
          0.05955963082828609,
          0.1283800613809516,
          0.1783061389568151,
          0.09671247186948753,
          0.2138940522411377,
          0.20403666991100453,
          0.20563141855714687,
          0.1136772216130658,
          0.06451227987317187,
          0.07035082040372166,
          -0.019247942486420175,
          0.12874279095578658,
          0.05319526153765371,
          0.13731119140820908,
          0.07646136959116467,
          0.06517514239181714,
          0.06612917371492819,
          0.12364576123674689,
          0.06456506755796956,
          0.05737066654699688,
          0.12212364848084266,
          0.10766226374203858,
          0.06299189417097606,
          0.11691052747672835,
          0.1226116716104775,
          0.07462879533549889,
          0.04966209601048514,
          0.07444944663725325,
          0.10336530863322979,
          -0.002284598751863954,
          0.08228952455569803,
          0.038003430873355594,
          0.0017606681714742484,
          -0.019217618176451755,
          0.007768347917299823,
          0.07800389089564881,
          0.10538438704052834,
          0.04829498316775256,
          0.06970259825261693,
          0.08913145177008835,
          0.08601522922478191,
          0.07918186906878877,
          0.09583279282589717,
          0.07991184308966619,
          0.11611913975645274,
          0.033151665069316286,
          0.054940538183530535,
          0.08715231970477143,
          0.09607885525805607,
          0.087924435796599,
          0.11611913975645281,
          0.051363928405669265,
          0.054940538183530535,
          0.08949422660565483,
          0.10606521741775136,
          0.14228221129551666,
          0.059921931183263444,
          0.06571536940509194,
          0.1175442002812761,
          0.03122790928950667,
          0.09656582531231817,
          0.0751404903535708,
          0.11591736148786498,
          0.03881940867682688,
          0.10740474938939258,
          0.05951086917109897,
          0.07150850959269289,
          0.09265996113293458,
          0.07228566972435169,
          0.03597298623245009,
          0.04201017859379171,
          0.13552253069976436,
          0.11947033070591231,
          0.10170791593506985,
          0.048533864936823996,
          0.06791571603498336,
          0.06682417709052943,
          0.09691872340723232,
          0.10568863218896643,
          0.059182953030474925,
          0.13900838232620558,
          0.07900902607768999,
          0.022443791568291085,
          0.022443791568291085,
          0.1455096802437327,
          0.03363396328068092,
          0.05275644340278185,
          0.04295486605964903,
          0.0800987592769708,
          0.15119606518546083,
          0.11049571113095688,
          0.07570405523738159,
          0.07353042252421874,
          0.09710345672118684,
          0.06317148081379778,
          0.012747108485806766,
          0.09347544253044388,
          0.1489560689145083,
          0.11395320575664074,
          0.08130664220397658,
          0.07480738832853426,
          0.03660623276807479,
          0.044967421618571826,
          0.04515516824728598,
          0.054523809273041096,
          0.11002277707244817,
          0.027229909417863938,
          0.08242800999104433,
          0.13443412425387705,
          0.044994186884348655,
          0.03818258765127789,
          0.07838072140221329,
          0.03608129358563166,
          0.04719915398798372,
          0.06920047351472748,
          0.06418796050129962,
          0.045941383694381194,
          0.028497678201628435,
          0.06755335083258295,
          0.1060624938892406,
          0.07065398279103201,
          0.06845970481688195,
          0.07769227434028096,
          0.07608431533837129,
          0.07624702484062433,
          0.04671829080974771,
          0.0673489914070332,
          0.07963224845745756,
          0.10512524981118093,
          0.108760440296435,
          0.05293437557755632,
          0.06022028283928314,
          0.07150681425439381
         ],
         "yaxis": "y"
        },
        {
         "hovertemplate": "kmeans_labels=0<br>x=%{x}<br>y=%{y}<extra></extra>",
         "legendgroup": "0",
         "marker": {
          "color": "#ab63fa",
          "symbol": "circle"
         },
         "mode": "markers",
         "name": "0",
         "orientation": "v",
         "showlegend": true,
         "type": "scatter",
         "x": [
          0.2142076805502304,
          0.22603599887154527,
          0.11992486944625161,
          0.31340066496080377,
          0.0632360765804008,
          0.14888379707122865,
          0.17598643765486105,
          0.2301227682858597,
          0.2520852617307444,
          0.11190328558910306,
          0.18271878670282882,
          0.24585463201958924,
          0.25080191230120347,
          0.1977543551457415,
          0.1883230164695759,
          0.2656301172440626,
          0.2661422598194398,
          0.29800235205574493,
          0.20883370652040112,
          0.19273700529343543,
          0.37119137978052846,
          0.3418238442184839,
          0.30506338338959105,
          0.35145111245326544,
          0.19600770950170274,
          0.18974548917608347,
          0.24699456850868112,
          0.3270036303472548,
          0.3274858696070267,
          0.27703625770191914,
          0.08989190312660433,
          0.20750051194286387,
          0.14539500275733597,
          0.17710938814061936,
          0.20540929698741292,
          0.2861503678479796,
          0.20875288461465846,
          0.23117925898937658
         ],
         "xaxis": "x",
         "y": [
          0.057031834546655905,
          0.09684369519031989,
          0.009072909056536568,
          0.07124204399887885,
          0.028527079955828403,
          0.04721746982616331,
          0.031727904557892345,
          0.09081386843130484,
          0.074286856642162,
          0.0436615871431018,
          0.04139649663083794,
          0.030999160616362376,
          0.06002128741137541,
          0.03529637945839541,
          0.05023865101808671,
          0.11472825873334186,
          0.1158089117025803,
          0.01737224578184797,
          0.05444370136223107,
          0.027172789843466015,
          0.0689066117667417,
          0.016540274039963575,
          0.07095274517518635,
          0.06669080604434835,
          -0.0002369149756314059,
          0.03910233371674375,
          0.06019400289540466,
          0.06319677860553298,
          0.06597383663038746,
          0.018760022089669787,
          0.05067246658186348,
          0.06021391494315995,
          0.016081789627639797,
          0.028953789195085712,
          0.03129071288782246,
          0.022258200488800013,
          0.02789998998250072,
          0.021577677290763708
         ],
         "yaxis": "y"
        },
        {
         "hovertemplate": "kmeans_labels=4<br>x=%{x}<br>y=%{y}<extra></extra>",
         "legendgroup": "4",
         "marker": {
          "color": "#FFA15A",
          "symbol": "circle"
         },
         "mode": "markers",
         "name": "4",
         "orientation": "v",
         "showlegend": true,
         "type": "scatter",
         "x": [
          0.11022365115709018,
          0.003049770036448489,
          0.014987923124736615,
          0.13154965955209386,
          0.19093916323125978,
          0.1373059135148581,
          0.05719024401890669,
          0.06656456747776936,
          0.15150563609425266,
          0.13494290115310933,
          0.12898615196700353,
          0.10062261173656409,
          0.03985899152392471,
          0.00961523445689803,
          0.060423038606884825,
          0.08268143236088184,
          0.03049324985662541,
          0.03822412160125457,
          0.15781355644985534,
          0.19641097843133606,
          0.08502437998862969,
          0.15864478643337487,
          0.15274330644864773,
          0.16255758221023986,
          0.0914947200936474,
          0.062309938882706806,
          0.09371557228530503,
          0.14900486381014738,
          0.13564376064593012,
          0.18663533663197598,
          0.2231173844072778,
          0.10959842872071444,
          0.15579443692934367,
          0.21085573650032857,
          0.06218333662411574,
          0.040624998373750346,
          0.21197547272008466,
          0.034820982805246196,
          0.18246685556069764,
          0.27860300059143456,
          0.13903912556962295,
          0.044390921924430914,
          0.12290378634763079,
          0.12158168905562845,
          0.1372771287888155,
          0.23976453235129316,
          0.10412222141602591,
          0.13286265176615142,
          0.18274007757902289,
          0.09519897552342263,
          0.12653389301109824,
          0.11150679795974809,
          0.13404253825799742,
          0.2689730577492078,
          0.12784365375106926,
          0.07017894723477522,
          0.2071027999780784,
          0.10939370664494259,
          0.10412222141602591,
          0.1410846511690873,
          0.06397996616221231,
          0.10092188950982701,
          0.10422561145557321,
          0.15172656925875935,
          0.047065831095080106,
          0.2115048264299182,
          0.10313930436905229,
          0.04500876109773487,
          0.03883335231689443,
          0.11966460123630733,
          0.14617849887628873,
          0.06730876378725921,
          0.08636948272473016,
          0.05902474017457316,
          0.05732647372248648,
          0.053484943633436935,
          0.09019568508311217,
          -0.0020371124587786815,
          0.05780314823406052,
          0.17319516002307836,
          0.09534768528324937,
          0.1191233562657403,
          0.17231907697886595,
          0.20456386401872506,
          0.11889408925280501,
          0.05107109543091861,
          0.1760897746810524,
          0.10908942255426493,
          0.057636858882077154,
          0.06581837431098436,
          0.09400786327020637,
          0.1624580043539039,
          0.13239879316966355,
          0.13206482394060667,
          0.12971767244732077,
          0.11256393541610557,
          0.03548991260771726,
          0.045016713855131923,
          0.08233090686959818,
          0.0020284722920783905,
          0.18428582629987686,
          0.06395036787091789,
          0.05235623153191042,
          0.13006903759360436,
          0.1390007151459338,
          0.09684891831848003,
          0.11040262195491465,
          0.11772647931281209,
          0.14401125765689282,
          0.1808981688777383,
          0.15116317036525553,
          0.26242242320793546,
          0.15156610245390498,
          0.15174162969745814,
          0.09519897552342263,
          0.11913850561384039,
          0.11899874161116739,
          0.036149425226148515,
          0.12724672874321852,
          0.06999746814871388,
          0.22521299277680926,
          0.1405054437220874,
          0.22380574886880866,
          0.12399219128230002,
          0.13681310448775333,
          0.08022982190946445,
          0.04593377579619098
         ],
         "xaxis": "x",
         "y": [
          -0.042042110223179656,
          -0.0203862916240617,
          -0.1120798353106884,
          -0.17993631121194822,
          -0.2046458643828236,
          -0.1649806488633706,
          -0.04899321394489203,
          -0.10279222868571444,
          -0.20063415338159915,
          -0.17675766931657386,
          -0.145270974948113,
          -0.12912235748051562,
          -0.04230208426095568,
          -0.05579922062619311,
          -0.03432921583956814,
          -0.10238628346418381,
          -0.08576404488915952,
          -0.03983554628559299,
          -0.15923777659963195,
          -0.160903696629894,
          -0.10688910068653373,
          -0.11337256957277674,
          -0.15769081239430607,
          -0.1462397304418177,
          -0.09930687110352564,
          -0.048054349290121874,
          -0.08043481858070985,
          -0.1584423829410469,
          -0.09723426816164289,
          -0.12546172747539208,
          -0.11742569720378453,
          -0.14784188100534706,
          -0.1110063622341041,
          -0.16087129884209786,
          -0.1248986448145205,
          -0.0646760098405535,
          -0.12411072372290839,
          -0.05474582160350591,
          -0.08273228271900109,
          -0.21967181304303718,
          -0.17819570493743872,
          -0.11656184617895246,
          -0.07888072211564545,
          -0.07781877038920705,
          -0.14937920939806157,
          -0.1406804137379605,
          -0.0839524545498851,
          -0.08973244756032558,
          -0.15502910828586855,
          -0.08951486210597986,
          -0.149933982572687,
          -0.09162809194836326,
          -0.16681117475659804,
          -0.09885929978533921,
          -0.12889547112806218,
          -0.06768757197978562,
          -0.18665835363980998,
          -0.10782968752437493,
          -0.0839524545498851,
          -0.11698856864473302,
          -0.10153214933312144,
          -0.11737542930140335,
          -0.12683677413668193,
          -0.1546354365034687,
          -0.024695933847486945,
          -0.16006909237179623,
          -0.1144945891056073,
          -0.018377696067888066,
          -0.08748917207684717,
          -0.0994319830138128,
          -0.1444963040433531,
          -0.1141636616739401,
          -0.14200114441875936,
          -0.09311978146605124,
          -0.1265909726307597,
          -0.04245025134377147,
          -0.10762810647197191,
          -0.05017700845454359,
          -0.05772812044890422,
          -0.09390331429326677,
          -0.018115470391566666,
          -0.08270278217216297,
          -0.0689592798082792,
          -0.15964543651200733,
          -0.07690217972351722,
          -0.09755984191450458,
          -0.09742087397454932,
          -0.05585841629544518,
          -0.02179212424774402,
          -0.06757019655913463,
          -0.0386624970263065,
          -0.14066087848453765,
          -0.09284044521280557,
          -0.09248137852009741,
          -0.0804303937369268,
          -0.06384647523876769,
          -0.08672366596449431,
          -0.09435101192810072,
          -0.004794613581380456,
          -0.07233696353986671,
          -0.18816857576113474,
          -0.014220963000637745,
          -0.083539804704726,
          -0.11669504467676473,
          -0.12171147845873857,
          -0.10918152836209884,
          -0.048225983158828756,
          -0.11120556599084624,
          0.0038293697596344565,
          -0.15769413223105064,
          -0.18834438219061034,
          -0.21697097406068622,
          -0.20039502234798184,
          -0.07615837360439856,
          -0.08951486210597986,
          -0.1428010119428968,
          -0.04884732840186337,
          -0.060963947663945806,
          -0.1331663098282845,
          -0.1061537034875928,
          -0.1591120156799517,
          -0.161538433641763,
          -0.11733308012569144,
          -0.08307119198726858,
          -0.07410477068458801,
          -0.04400422733951829,
          -0.04342263968392356
         ],
         "yaxis": "y"
        }
       ],
       "layout": {
        "legend": {
         "title": {
          "text": "kmeans_labels"
         },
         "tracegroupgap": 0
        },
        "template": {
         "data": {
          "bar": [
           {
            "error_x": {
             "color": "#2a3f5f"
            },
            "error_y": {
             "color": "#2a3f5f"
            },
            "marker": {
             "line": {
              "color": "#E5ECF6",
              "width": 0.5
             }
            },
            "type": "bar"
           }
          ],
          "barpolar": [
           {
            "marker": {
             "line": {
              "color": "#E5ECF6",
              "width": 0.5
             }
            },
            "type": "barpolar"
           }
          ],
          "carpet": [
           {
            "aaxis": {
             "endlinecolor": "#2a3f5f",
             "gridcolor": "white",
             "linecolor": "white",
             "minorgridcolor": "white",
             "startlinecolor": "#2a3f5f"
            },
            "baxis": {
             "endlinecolor": "#2a3f5f",
             "gridcolor": "white",
             "linecolor": "white",
             "minorgridcolor": "white",
             "startlinecolor": "#2a3f5f"
            },
            "type": "carpet"
           }
          ],
          "choropleth": [
           {
            "colorbar": {
             "outlinewidth": 0,
             "ticks": ""
            },
            "type": "choropleth"
           }
          ],
          "contour": [
           {
            "colorbar": {
             "outlinewidth": 0,
             "ticks": ""
            },
            "colorscale": [
             [
              0,
              "#0d0887"
             ],
             [
              0.1111111111111111,
              "#46039f"
             ],
             [
              0.2222222222222222,
              "#7201a8"
             ],
             [
              0.3333333333333333,
              "#9c179e"
             ],
             [
              0.4444444444444444,
              "#bd3786"
             ],
             [
              0.5555555555555556,
              "#d8576b"
             ],
             [
              0.6666666666666666,
              "#ed7953"
             ],
             [
              0.7777777777777778,
              "#fb9f3a"
             ],
             [
              0.8888888888888888,
              "#fdca26"
             ],
             [
              1,
              "#f0f921"
             ]
            ],
            "type": "contour"
           }
          ],
          "contourcarpet": [
           {
            "colorbar": {
             "outlinewidth": 0,
             "ticks": ""
            },
            "type": "contourcarpet"
           }
          ],
          "heatmap": [
           {
            "colorbar": {
             "outlinewidth": 0,
             "ticks": ""
            },
            "colorscale": [
             [
              0,
              "#0d0887"
             ],
             [
              0.1111111111111111,
              "#46039f"
             ],
             [
              0.2222222222222222,
              "#7201a8"
             ],
             [
              0.3333333333333333,
              "#9c179e"
             ],
             [
              0.4444444444444444,
              "#bd3786"
             ],
             [
              0.5555555555555556,
              "#d8576b"
             ],
             [
              0.6666666666666666,
              "#ed7953"
             ],
             [
              0.7777777777777778,
              "#fb9f3a"
             ],
             [
              0.8888888888888888,
              "#fdca26"
             ],
             [
              1,
              "#f0f921"
             ]
            ],
            "type": "heatmap"
           }
          ],
          "heatmapgl": [
           {
            "colorbar": {
             "outlinewidth": 0,
             "ticks": ""
            },
            "colorscale": [
             [
              0,
              "#0d0887"
             ],
             [
              0.1111111111111111,
              "#46039f"
             ],
             [
              0.2222222222222222,
              "#7201a8"
             ],
             [
              0.3333333333333333,
              "#9c179e"
             ],
             [
              0.4444444444444444,
              "#bd3786"
             ],
             [
              0.5555555555555556,
              "#d8576b"
             ],
             [
              0.6666666666666666,
              "#ed7953"
             ],
             [
              0.7777777777777778,
              "#fb9f3a"
             ],
             [
              0.8888888888888888,
              "#fdca26"
             ],
             [
              1,
              "#f0f921"
             ]
            ],
            "type": "heatmapgl"
           }
          ],
          "histogram": [
           {
            "marker": {
             "colorbar": {
              "outlinewidth": 0,
              "ticks": ""
             }
            },
            "type": "histogram"
           }
          ],
          "histogram2d": [
           {
            "colorbar": {
             "outlinewidth": 0,
             "ticks": ""
            },
            "colorscale": [
             [
              0,
              "#0d0887"
             ],
             [
              0.1111111111111111,
              "#46039f"
             ],
             [
              0.2222222222222222,
              "#7201a8"
             ],
             [
              0.3333333333333333,
              "#9c179e"
             ],
             [
              0.4444444444444444,
              "#bd3786"
             ],
             [
              0.5555555555555556,
              "#d8576b"
             ],
             [
              0.6666666666666666,
              "#ed7953"
             ],
             [
              0.7777777777777778,
              "#fb9f3a"
             ],
             [
              0.8888888888888888,
              "#fdca26"
             ],
             [
              1,
              "#f0f921"
             ]
            ],
            "type": "histogram2d"
           }
          ],
          "histogram2dcontour": [
           {
            "colorbar": {
             "outlinewidth": 0,
             "ticks": ""
            },
            "colorscale": [
             [
              0,
              "#0d0887"
             ],
             [
              0.1111111111111111,
              "#46039f"
             ],
             [
              0.2222222222222222,
              "#7201a8"
             ],
             [
              0.3333333333333333,
              "#9c179e"
             ],
             [
              0.4444444444444444,
              "#bd3786"
             ],
             [
              0.5555555555555556,
              "#d8576b"
             ],
             [
              0.6666666666666666,
              "#ed7953"
             ],
             [
              0.7777777777777778,
              "#fb9f3a"
             ],
             [
              0.8888888888888888,
              "#fdca26"
             ],
             [
              1,
              "#f0f921"
             ]
            ],
            "type": "histogram2dcontour"
           }
          ],
          "mesh3d": [
           {
            "colorbar": {
             "outlinewidth": 0,
             "ticks": ""
            },
            "type": "mesh3d"
           }
          ],
          "parcoords": [
           {
            "line": {
             "colorbar": {
              "outlinewidth": 0,
              "ticks": ""
             }
            },
            "type": "parcoords"
           }
          ],
          "pie": [
           {
            "automargin": true,
            "type": "pie"
           }
          ],
          "scatter": [
           {
            "marker": {
             "colorbar": {
              "outlinewidth": 0,
              "ticks": ""
             }
            },
            "type": "scatter"
           }
          ],
          "scatter3d": [
           {
            "line": {
             "colorbar": {
              "outlinewidth": 0,
              "ticks": ""
             }
            },
            "marker": {
             "colorbar": {
              "outlinewidth": 0,
              "ticks": ""
             }
            },
            "type": "scatter3d"
           }
          ],
          "scattercarpet": [
           {
            "marker": {
             "colorbar": {
              "outlinewidth": 0,
              "ticks": ""
             }
            },
            "type": "scattercarpet"
           }
          ],
          "scattergeo": [
           {
            "marker": {
             "colorbar": {
              "outlinewidth": 0,
              "ticks": ""
             }
            },
            "type": "scattergeo"
           }
          ],
          "scattergl": [
           {
            "marker": {
             "colorbar": {
              "outlinewidth": 0,
              "ticks": ""
             }
            },
            "type": "scattergl"
           }
          ],
          "scattermapbox": [
           {
            "marker": {
             "colorbar": {
              "outlinewidth": 0,
              "ticks": ""
             }
            },
            "type": "scattermapbox"
           }
          ],
          "scatterpolar": [
           {
            "marker": {
             "colorbar": {
              "outlinewidth": 0,
              "ticks": ""
             }
            },
            "type": "scatterpolar"
           }
          ],
          "scatterpolargl": [
           {
            "marker": {
             "colorbar": {
              "outlinewidth": 0,
              "ticks": ""
             }
            },
            "type": "scatterpolargl"
           }
          ],
          "scatterternary": [
           {
            "marker": {
             "colorbar": {
              "outlinewidth": 0,
              "ticks": ""
             }
            },
            "type": "scatterternary"
           }
          ],
          "surface": [
           {
            "colorbar": {
             "outlinewidth": 0,
             "ticks": ""
            },
            "colorscale": [
             [
              0,
              "#0d0887"
             ],
             [
              0.1111111111111111,
              "#46039f"
             ],
             [
              0.2222222222222222,
              "#7201a8"
             ],
             [
              0.3333333333333333,
              "#9c179e"
             ],
             [
              0.4444444444444444,
              "#bd3786"
             ],
             [
              0.5555555555555556,
              "#d8576b"
             ],
             [
              0.6666666666666666,
              "#ed7953"
             ],
             [
              0.7777777777777778,
              "#fb9f3a"
             ],
             [
              0.8888888888888888,
              "#fdca26"
             ],
             [
              1,
              "#f0f921"
             ]
            ],
            "type": "surface"
           }
          ],
          "table": [
           {
            "cells": {
             "fill": {
              "color": "#EBF0F8"
             },
             "line": {
              "color": "white"
             }
            },
            "header": {
             "fill": {
              "color": "#C8D4E3"
             },
             "line": {
              "color": "white"
             }
            },
            "type": "table"
           }
          ]
         },
         "layout": {
          "annotationdefaults": {
           "arrowcolor": "#2a3f5f",
           "arrowhead": 0,
           "arrowwidth": 1
          },
          "autotypenumbers": "strict",
          "coloraxis": {
           "colorbar": {
            "outlinewidth": 0,
            "ticks": ""
           }
          },
          "colorscale": {
           "diverging": [
            [
             0,
             "#8e0152"
            ],
            [
             0.1,
             "#c51b7d"
            ],
            [
             0.2,
             "#de77ae"
            ],
            [
             0.3,
             "#f1b6da"
            ],
            [
             0.4,
             "#fde0ef"
            ],
            [
             0.5,
             "#f7f7f7"
            ],
            [
             0.6,
             "#e6f5d0"
            ],
            [
             0.7,
             "#b8e186"
            ],
            [
             0.8,
             "#7fbc41"
            ],
            [
             0.9,
             "#4d9221"
            ],
            [
             1,
             "#276419"
            ]
           ],
           "sequential": [
            [
             0,
             "#0d0887"
            ],
            [
             0.1111111111111111,
             "#46039f"
            ],
            [
             0.2222222222222222,
             "#7201a8"
            ],
            [
             0.3333333333333333,
             "#9c179e"
            ],
            [
             0.4444444444444444,
             "#bd3786"
            ],
            [
             0.5555555555555556,
             "#d8576b"
            ],
            [
             0.6666666666666666,
             "#ed7953"
            ],
            [
             0.7777777777777778,
             "#fb9f3a"
            ],
            [
             0.8888888888888888,
             "#fdca26"
            ],
            [
             1,
             "#f0f921"
            ]
           ],
           "sequentialminus": [
            [
             0,
             "#0d0887"
            ],
            [
             0.1111111111111111,
             "#46039f"
            ],
            [
             0.2222222222222222,
             "#7201a8"
            ],
            [
             0.3333333333333333,
             "#9c179e"
            ],
            [
             0.4444444444444444,
             "#bd3786"
            ],
            [
             0.5555555555555556,
             "#d8576b"
            ],
            [
             0.6666666666666666,
             "#ed7953"
            ],
            [
             0.7777777777777778,
             "#fb9f3a"
            ],
            [
             0.8888888888888888,
             "#fdca26"
            ],
            [
             1,
             "#f0f921"
            ]
           ]
          },
          "colorway": [
           "#636efa",
           "#EF553B",
           "#00cc96",
           "#ab63fa",
           "#FFA15A",
           "#19d3f3",
           "#FF6692",
           "#B6E880",
           "#FF97FF",
           "#FECB52"
          ],
          "font": {
           "color": "#2a3f5f"
          },
          "geo": {
           "bgcolor": "white",
           "lakecolor": "white",
           "landcolor": "#E5ECF6",
           "showlakes": true,
           "showland": true,
           "subunitcolor": "white"
          },
          "hoverlabel": {
           "align": "left"
          },
          "hovermode": "closest",
          "mapbox": {
           "style": "light"
          },
          "paper_bgcolor": "white",
          "plot_bgcolor": "#E5ECF6",
          "polar": {
           "angularaxis": {
            "gridcolor": "white",
            "linecolor": "white",
            "ticks": ""
           },
           "bgcolor": "#E5ECF6",
           "radialaxis": {
            "gridcolor": "white",
            "linecolor": "white",
            "ticks": ""
           }
          },
          "scene": {
           "xaxis": {
            "backgroundcolor": "#E5ECF6",
            "gridcolor": "white",
            "gridwidth": 2,
            "linecolor": "white",
            "showbackground": true,
            "ticks": "",
            "zerolinecolor": "white"
           },
           "yaxis": {
            "backgroundcolor": "#E5ECF6",
            "gridcolor": "white",
            "gridwidth": 2,
            "linecolor": "white",
            "showbackground": true,
            "ticks": "",
            "zerolinecolor": "white"
           },
           "zaxis": {
            "backgroundcolor": "#E5ECF6",
            "gridcolor": "white",
            "gridwidth": 2,
            "linecolor": "white",
            "showbackground": true,
            "ticks": "",
            "zerolinecolor": "white"
           }
          },
          "shapedefaults": {
           "line": {
            "color": "#2a3f5f"
           }
          },
          "ternary": {
           "aaxis": {
            "gridcolor": "white",
            "linecolor": "white",
            "ticks": ""
           },
           "baxis": {
            "gridcolor": "white",
            "linecolor": "white",
            "ticks": ""
           },
           "bgcolor": "#E5ECF6",
           "caxis": {
            "gridcolor": "white",
            "linecolor": "white",
            "ticks": ""
           }
          },
          "title": {
           "x": 0.05
          },
          "xaxis": {
           "automargin": true,
           "gridcolor": "white",
           "linecolor": "white",
           "ticks": "",
           "title": {
            "standoff": 15
           },
           "zerolinecolor": "white",
           "zerolinewidth": 2
          },
          "yaxis": {
           "automargin": true,
           "gridcolor": "white",
           "linecolor": "white",
           "ticks": "",
           "title": {
            "standoff": 15
           },
           "zerolinecolor": "white",
           "zerolinewidth": 2
          }
         }
        },
        "title": {
         "text": "K-means BBC Sport news"
        },
        "xaxis": {
         "anchor": "y",
         "domain": [
          0,
          1
         ],
         "title": {
          "text": "x"
         }
        },
        "yaxis": {
         "anchor": "x",
         "domain": [
          0,
          1
         ],
         "title": {
          "text": "y"
         }
        }
       }
      },
      "text/html": [
       "<div>                            <div id=\"bf2e7fb9-c356-413c-a78a-35f7f65a2923\" class=\"plotly-graph-div\" style=\"height:525px; width:100%;\"></div>            <script type=\"text/javascript\">                require([\"plotly\"], function(Plotly) {                    window.PLOTLYENV=window.PLOTLYENV || {};                                    if (document.getElementById(\"bf2e7fb9-c356-413c-a78a-35f7f65a2923\")) {                    Plotly.newPlot(                        \"bf2e7fb9-c356-413c-a78a-35f7f65a2923\",                        [{\"hovertemplate\": \"kmeans_labels=2<br>x=%{x}<br>y=%{y}<extra></extra>\", \"legendgroup\": \"2\", \"marker\": {\"color\": \"#636efa\", \"symbol\": \"circle\"}, \"mode\": \"markers\", \"name\": \"2\", \"orientation\": \"v\", \"showlegend\": true, \"type\": \"scatter\", \"x\": [-0.09106050107030124, -0.00040249735312269095, -0.11753685085196265, -0.09128222027200934, -0.09124384883001944, -0.11030654303157789, -0.029058979108434975, -0.04306712459134085, -0.128912157431002, -0.1574683925573265, -0.09561059594878556, -0.10796728740863398, -0.08939331054507037, -0.0805915254494982, -0.07798141350410523, -0.12049092699725779, -0.14093146173248744, -0.10520880437382661, -0.11106672012887725, -0.10796728740863398, -0.09663825003703144, -0.10731875810763052, -0.14571396369015452, -0.07444941031114097, -0.10872302939351235, -0.08563953678452521, -0.0993324023628429, -0.11469455876787685, -0.10920790241858996, -0.07438738640762314, -0.04978712158332071, -0.13233234506457062, -0.15113220824394025, -0.13148231182369505, -0.08905473542202093, -0.054432378648702415, -0.10208005835876031, -0.10180808797699552, -0.05761804811357425, -0.07917746734990787, -0.06949787752321274, -0.08999429474612884, -0.0616511380493735, -0.05623445113433163, -0.09392638283964622, -0.08154356344860589, -0.1126592154166824, -0.1270910842588107, -0.05434180277387841, -0.12123196399486867, -0.1281833550062222, -0.09421087778731266, -0.09613057757224093, -0.14350820999995942, -0.0971005893418224, -0.10464389527337785, -0.12840168747086567, -0.13840200784670698, -0.1136731952282163, -0.10016999497722032, -0.11214113060470021, -0.06191639527570689, -0.12173866397297678, -0.06485679763856968, -0.10986390708815547, -0.1599095016081088, -0.11217768862097745, -0.030330410984286228, -0.17662433700317828, -0.10721979224974537, -0.10598807901223274, -0.05913025204427504, -0.10776526259124627, -0.10504963509226171, -0.10477789973828201, -0.06400349649283121, -0.014889386805349795, -0.08085238251897925, -0.13531080005880702, -0.130485944001812, -0.14642969325392474, -0.1278625541101487, -0.06355481591657237, -0.09421087778731266, -0.07464205547828275, -0.08027518026900864, -0.08355184331124345, -0.05434180277387841, -0.13205157535205314, -0.09221769724565884, -0.06968156306028817, -0.07746662009308235, -0.08828656050466673, -0.15266342655733517, -0.11294226970160416, -0.04431923617865351, -0.10725598876862627, -0.1381766970268984, -0.05845642041196004], \"xaxis\": \"x\", \"y\": [0.10343750633114507, 0.02465103672162663, 0.1287749703808631, 0.1539516173739173, 0.13500097568132954, 0.15763797274275024, 0.07026772542053644, 0.03477773317343081, 0.17071338609238004, 0.24042272477425222, 0.11531276866682386, 0.10871618536081289, 0.11705148027982998, 0.04867855643082434, 0.13005594720935862, 0.33132341377232805, 0.3338126791461329, 0.17690553607531379, 0.13488197791007506, 0.10871618536081289, 0.15738585040765882, 0.131440289678456, 0.3344022402362256, 0.11107483444666179, 0.1529075359062058, 0.18012854158916963, 0.15883080863449844, 0.13618076790157954, 0.16135767680744556, 0.10376128880699992, 0.07716481886081294, 0.2084517821454753, 0.33660511734632453, 0.15882224562539765, 0.16926188670146028, 0.1293056875460101, 0.1360102225304256, 0.08931105100041717, 0.12300748949310536, 0.08365325948609677, 0.09690323565668889, 0.12538289897688057, 0.1204381228212848, 0.07953775978493065, 0.1600572736472934, 0.11337935495780185, 0.2587287636239834, 0.30338451725133864, 0.13479282732893308, 0.3222967778794591, 0.3438127853019183, 0.1536488819913079, 0.11288088085010298, 0.31448409868416055, 0.13881897252933584, 0.13358587349189732, 0.15104699231347388, 0.16391867927041728, 0.0892581560138575, 0.13686240275530903, 0.149939622327396, 0.0859372669579669, 0.15641872121795594, 0.10135814603711818, 0.1314251018037263, 0.2948775899065678, 0.15641775896349774, 0.08153957946749636, 0.2497706916464838, 0.08390659008668136, 0.11842775134374943, 0.06556462816358634, 0.08469181573386939, 0.12841639965793208, 0.18542382376558614, 0.10161251774516995, 0.05028005984141294, 0.11160227312399434, 0.3269539126602576, 0.2779344514241319, 0.342844272625009, 0.3379532884461834, 0.1075082851320458, 0.1536488819913079, 0.10388114238805976, 0.09759646687580466, 0.12009419612971511, 0.13479282732893308, 0.30831528672984826, 0.09775683156391284, 0.13435017423617104, 0.10347964115321877, 0.11320686251441965, 0.2211926141274958, 0.12444799245366796, 0.056505990223536695, 0.15236161556917205, 0.1801400984525228, 0.11540425866180647], \"yaxis\": \"y\"}, {\"hovertemplate\": \"kmeans_labels=1<br>x=%{x}<br>y=%{y}<extra></extra>\", \"legendgroup\": \"1\", \"marker\": {\"color\": \"#EF553B\", \"symbol\": \"circle\"}, \"mode\": \"markers\", \"name\": \"1\", \"orientation\": \"v\", \"showlegend\": true, \"type\": \"scatter\", \"x\": [-0.02263717369220481, -0.06308396758981018, 0.05250884968610345, 0.03214016937482703, 0.03922712824559012, 0.02835880656977851, -0.047179252204968034, -0.11392000804274605, -0.08358384364716072, -0.09709486834040745, 0.07289411471538795, -0.03381149106167926, -0.07645019164352586, -0.1986641642862717, -0.09992516271857556, -0.12656997515376694, -0.006175201423403875, -0.01652205187710283, -0.011386981990348868, -0.0021220788317699245, -0.005167860419980981, -0.05487976285026975, -0.1229354463430743, -0.17150394932669824, -0.0047098514139680085, -0.04141581707628205, -0.03800981193722993, -0.04731600291156092, -0.05198085023345943, -0.1384804962130485, -0.023950304755414823, -0.011303346329082241, -0.17162478159024663, -0.10762717605431996, 0.004811232849606916, -0.06773291211374588, -0.13715267998052874, -0.0645972648810038, -0.01720696384199343, 0.016415980084502985, 0.0068147634593595545, -0.06005206305775046, -0.04326302686956212, 0.021506763813368635, -0.03144880257065339, -0.060018490358330345, -0.07748646105254037, -0.06626776846843424, -0.06365902214978932, -0.10959099790122327, -0.14869563484556098, -0.04896798084474568, -0.05645116660152463, -0.08706378855380374, -0.024287568623862252, -0.027139032741220235, -0.04035503140104723, -0.05413091037929326, -0.04763481353019477, -0.047536753456152415, -0.05538169981714391, -0.10680843768938694, -0.06081168730013487, -0.12715522926437367, -0.08870872121589032, -0.07427114612964951, -0.11304429697034958, -0.0968349389773007, -0.18440216220980554, -0.055076759742153154, -0.08297980648230778, -0.05019808962598542, -0.07074199780146503, -0.0595281303143985, -0.08776466634807083, -0.06604470683788799, -0.10977923106331837, -0.13234089503274704, -0.20174381591439677, -0.08619088037751403, -0.033425112580470887, -0.07549948193198684, -0.008745217763969682, -0.12696727457234366, -0.07657086978028962, -0.07549576781622878, -0.18265259240583412, -0.08678816922184478, -0.051955149406681854, -0.07312496151112899, -0.1299896563095019, -0.1299896563095019, -0.14903071980856514, -0.11813697851261472, -0.036125245731133376, -0.0801076650564242, -0.07842410260609638, -0.10672960820407514, -0.07602912841196258, -0.03862811506923294, -0.09034506597739062, -0.10646015941253263, -0.05021771600241816, -0.07626282806105698, -0.11806634437412757, -0.0996038521494576, -0.11974685791683631, -0.14050160196900727, -0.06871040942445729, -0.12758720131638304, -0.05135899757988715, -0.07084063565564241, -0.049324610728178994, -0.059857739133511105, -0.11709273456663336, -0.04553568408464179, -0.0547662613351659, -0.16255138533586544, -0.040376871032397676, -0.11242912310393902, -0.031986932760562324, -0.025601279408148988, -0.00012689904767861838, -0.032513000704194016, -0.021914236852426095, -0.17458622451783717, 0.017030429636752366, -0.06185523257128724, -0.05163014246855004, -0.04634721294069379, -0.09498694667686837, -0.020985390359075318, 0.005060504074247521, -0.039000047135770356, -0.11299166207837137, -0.11352149838547247, -0.06052480910970096, -0.05475449848052479, -0.13196429735512455, -0.032643801250921894, -0.0577630824174642, -0.06956301750241742, -0.1310381144848458, -0.10577772479196665, -0.11640032776474402, -0.09563943259650179, -0.13117473750109218, -0.01810813148277835, -0.06377545004165021, -0.10082621147328254, -0.1937396400082088, -0.06340849878405806, -0.05308671752084111, -0.11572446908527856, -0.05127146760275484, -0.09770945414949443, -0.07220193500577006, -0.05713456852075077, -0.07902098791037289, -0.1465029727607114, -0.04468308668374229, -0.11400808285185754, -0.1465029727607114, -0.06718820499599872, -0.06846716613092886, -0.06846716613092886, -0.09312597669411284, -0.06962408947148743, -0.06026042476596687, -0.05187562767543128, -0.0362143547892383, -0.06034133642461787, -0.08740340543654405, -0.13378196819917043, -0.07247708143100344, -0.04061480465438682, -0.04029816239584027, -0.06040730392298602, -0.0717724413452693, -0.15698472657003168, -0.07471865124190215, -0.17012904660451594, -0.09046908594847282, -0.05533098050057816, -0.040215849665187216, -0.061576683759119545, -0.08182282921380528, -0.1279068918799022, -0.08670316438078292, -0.09586640848093202, -0.07985873209732916, -0.16078419647778122, -0.1564467072302905, -0.1190177069192073, -0.07940778725311064, -0.07299591336401226, -0.05932554596082455, 0.005098817769884303, -0.036994522905806605, -0.10065784546467242, -0.07654428946542943, -0.06782565717312457, -0.053736519659272716, -0.19562694101609845, -0.05506382950581591, -0.06535353171495101, -0.07693103340097837, -0.04280361961102305, -0.20001363800965077, -0.05196723523983233, -0.14457467583740813, -0.08358384364716072, -0.06657802527112315, -0.07766630098753631, -0.03536535675156907, -0.047477802933252905, -0.12149113069792898, -0.0700567970987978, -0.030334289311793827, -0.05986654444167298, -0.02289481357374983, 0.0025500762955229, -0.13369120286279412, -0.005793534651521604, -0.10052437659948506, -0.03254664466039119, -0.042344440050174785, -0.0970283906171491, -0.032346887299722675, -0.08230226256726952, -0.18113512346060115, -0.1255538450003387, -0.06023538615354963, -0.0869867442801366, -0.09189004793455378, -0.060358311801793234, -0.048919978397042534, -0.024562211281748396, -0.0892703620584181, -0.06673282809793073, -0.18526534914204335, -0.1138533983202072, -0.12240421376362215, -0.0640852671348958, -0.17206753869216526, -0.08068978158682243, -0.129818321779496, -0.07557832731183069, -0.025610759033936323, -0.045444698669667036, -0.0581810732913734, -0.14882635943845582, -0.07931555165544862, -0.12663696494023155, -0.07883785971775273, -0.04093276751075081, -0.04002399707323377, -0.05492434070482496, -0.10151444598976435, -0.009474681405775683, -0.051679254931085244, -0.0829843273908994, -0.021776847930175827, -0.09870482002617727, -0.06494630880930509, -0.03564726560531581, -0.0028453003577325617, 0.027391579784718588, -0.009036480210941647, -0.007416092600879542, 0.0251564961696349, 0.036440927537068936, -0.02495066922619916, 0.004163128011724162, 0.025087471324323183, -0.0165770006138669, 0.021283270785039415, 0.01502344817927151, 0.022372025082004778, -0.05527077171399334, -0.0540883183427959, 0.0288178440561675, 0.027071510796433215, -0.040850672475385125, -0.0024451579778698536, -0.031184975801555947, -0.02201378246164142, -0.04802024051753802, -0.0665241550644209, -0.0487611428229362], \"xaxis\": \"x\", \"y\": [0.013433991704146072, 0.017766311177487778, -0.006182452764884799, 0.0018908538612142074, 0.012043132587139998, -0.004372051309281017, -0.08539747883351961, -0.11563433433848612, -0.06945950090995567, -0.06797492482475156, -0.061964131175060944, -0.00902683565077934, -0.0946781071247748, -0.21836787351090073, -0.12034246374725167, -0.16667855859559827, -0.055942742006277975, -0.045651324334338, -0.04278231869261736, -0.026884083060539066, -0.01789119784429015, -0.058358386222934544, -0.19980214645962546, -0.17041768290830983, -0.04521803524838962, -0.0433829979076085, -0.1038617751331102, -0.03347780476077882, -0.015453177473651509, -0.12697044887491024, -0.12843712086223094, -0.07944958919758004, -0.17014543140461413, -0.12181778868156838, -0.07083644231342037, -0.03279263625599654, -0.1424111527952301, -0.07843107474786425, -0.014375878751446762, -0.042568748793562594, -0.0490566289954402, -0.008933448807430735, 0.014942869253145585, -0.009864145985229136, -0.020406132674661525, 0.03677653839221905, -0.07411813408432225, -0.057745348137097995, -0.08291429337560724, -0.10137843389236985, -0.17319933709075214, -0.1424446407605595, -0.03405964637626063, -0.08103944328482604, -0.05130871244880944, -0.018589739592832416, -0.03133196858740644, -0.0073580805114212685, 0.006299949989126435, -0.08555742451631082, -0.11045344785550404, -0.1104181986493325, -0.013274157581780096, -0.0887991852463746, -0.11279115404796819, -0.07758967823074163, -0.11355947171171903, -0.0693424543950053, -0.2418774845962634, -0.11234000214315001, -0.05743585543880434, -0.05832248855270073, -0.0726368635391123, -0.02832212919673227, -0.07372979911226997, -0.03490974649297423, -0.0909451121564902, -0.08569759091331372, -0.1832081987673538, -0.005692791228640257, -0.005021979350918908, -0.06804182315724217, 0.013686761258739123, -0.08203572534699995, -0.01887509613877288, -0.0745875458279795, -0.16545342649192235, -0.06478271562897693, -0.06255537313995321, -0.10429888833998506, -0.14213546281546055, -0.14213546281546055, -0.15648353886702882, -0.12283049858004517, -0.03900761160048622, -0.06134794178051028, -0.04730204962585507, -0.08019972051322256, -0.05977575077467411, -0.00593544951666781, -0.0958534391768442, -0.05608463052653552, -0.013324916349653005, -0.0693063561089692, -0.1052046190779553, -0.06990007502723014, -0.09694225999972121, -0.0012215348556728122, -0.08882629171122389, -0.0506978181128331, -0.020887472507580097, -0.0169423929557356, 0.004629963708145577, -0.06742748115400447, -0.08669242186250004, -0.025433722692553885, -0.07598894421227018, -0.17281716111454454, -0.005549368702886004, -0.06925467116800431, -0.04691108902007823, -0.007671414533387733, 0.010203689577017791, -0.07625433976041189, -0.08116233268453765, -0.20044405396043846, -0.006391442414755946, -0.02980145867796101, -0.0416470585459973, -0.06713137778223224, -0.13535671372245137, 0.011122500058532579, 0.00037964429288838043, -0.055906268307866394, -0.12269595737588215, -0.1444845071648982, -0.06891469865072716, -0.02642486628926654, -0.14897098554823077, -0.05587430475911888, -0.03393251706617192, -0.004104316574705392, -0.1497086149596709, -0.15910488622871063, -0.09449003624902835, -0.119659653262688, -0.1325085619071836, -0.05312862473169299, 0.04299278836552, -0.08918640609177252, -0.19754436166293346, -0.05047278167459486, -0.03718117219415399, -0.13683075027556313, -0.06676889557059547, -0.11074360951344496, -0.035314373440713885, -0.0644663356647503, -0.03988613217862046, -0.16707277888661637, 0.0019548190392678372, -0.09184510639168303, -0.16707277888661637, -0.054731512894541846, -0.014073522572557047, -0.014073522572557047, -0.0966609619154305, -0.06471596559638025, -0.03252007545513433, -0.0012479633031934972, -0.051648430220381035, -0.033512284355718264, -0.029010860280651942, -0.10606153731882347, -0.09215755831985975, -0.08666245774600025, -0.06557846191716436, -0.07179911074568372, 0.018129612633770675, -0.0940716279839777, -0.047520669036817766, -0.19750442335935484, -0.06688278568759184, -0.030668265988155433, -0.020293103450112586, -0.09023363762834188, -0.06360709387264239, -0.13741551437667915, -0.12915590102805333, -0.11124723247874187, -0.11796507076204273, -0.1319784863876819, -0.19442812418958147, -0.1689119725075928, -0.09020272846409509, -0.09259366105698257, -0.033830678546980186, -0.037668991233368185, 0.005435062748346845, -0.1489959591611438, -0.17779452003490911, -0.149862806273476, -0.062105546224397665, -0.24844245217681304, -0.07299160923392056, -0.06563537834593801, -0.1163559855611172, -0.026689170458494754, -0.21860272399122385, -0.0428542257412803, -0.17266205441951132, -0.06945950090995567, -0.1262460074929021, -0.1279652273444631, -0.029567573714655692, -0.05527719646227743, -0.1373915332666802, -0.0912484256593749, -0.010780777961188903, -0.06186115137187932, -0.010225810748181184, 0.008913139721222624, -0.18651571329721514, -0.05295701760274847, -0.06345822128271009, -0.00046550349680476424, -0.008354060645184949, -0.1186214183891341, -0.012496953415249982, -0.0581429946268665, -0.1886567545946852, -0.10207809740121995, 0.05186995374952429, -0.057357714103662916, -0.06470435393993618, -0.03858706164293712, -0.014822366576811314, -0.08395633521671067, -0.09286033999816612, -0.08460774150616247, -0.16927054495371252, -0.13198153559174905, -0.10849756561153005, -0.02425544829900748, -0.20408357103241176, -0.035285150494446936, -0.1152716153658793, -0.06454514885972229, -0.06990626451021596, 0.023596743209462073, -0.09655013713531302, -0.15280133479927352, -0.09442738007730182, -0.12230316786610472, -0.0951056397272346, -0.053343602957655334, -0.010663611250756684, 0.02325235842793345, -0.006817075180435021, 0.03101242360185336, -0.043580202890000766, -0.11091621171528258, -0.022841367602455517, -0.10844514331919694, -0.028211197523144396, -0.02224224643519348, -0.021000123193287944, -0.09777230637293081, -0.012752904949134293, 0.019373048750042504, 0.00661918708040969, 0.008028037522637196, -0.02661315867086429, -0.02593056517293317, -0.02758247304629694, -0.025097657107080527, -0.008473139725927541, -0.016121144983155908, -0.08088349466735358, -0.030851659563247646, -0.03188819264989485, -0.0258961194832472, -0.01974880634882775, -0.05792760253641925, -0.06513973331979594, -0.0552378139754223, -0.07858077658423611, -0.04072789732350498, 0.01167391768064585, 0.013843488545006779], \"yaxis\": \"y\"}, {\"hovertemplate\": \"kmeans_labels=3<br>x=%{x}<br>y=%{y}<extra></extra>\", \"legendgroup\": \"3\", \"marker\": {\"color\": \"#00cc96\", \"symbol\": \"circle\"}, \"mode\": \"markers\", \"name\": \"3\", \"orientation\": \"v\", \"showlegend\": true, \"type\": \"scatter\", \"x\": [0.25359640655142196, 0.2172015278126598, 0.13965713138418356, 0.12114117025921284, 0.10656878337389193, 0.1493347458317919, 0.10183674244838452, 0.12006248405402008, 0.2100260535419374, 0.06171913281722546, 0.2257097091554847, 0.061719132817225464, 0.1889388290995699, 0.13941020282355754, 0.1619685459220594, 0.07290449691205976, 0.21463111727677506, 0.21153333042646197, 0.13958488358155996, 0.10527534669759317, 0.1619685459220594, 0.07290449691205976, 0.1919949131943567, 0.09282674624509882, 0.08171296984170291, 0.1643747143665741, 0.11119911096387106, 0.12968624686178565, 0.21440747044907468, 0.26281836027732347, 0.16651124413833138, 0.061527744410219895, 0.13333432846395743, 0.03120695533231104, 0.22996784641898313, 0.12813770555008813, 0.22419495920515367, 0.11952253537807149, 0.05635342288521054, 0.20623152849616508, 0.1675130701810025, 0.16738894835119772, 0.2297316848510479, 0.1574738393466211, 0.12872524865474774, 0.13081366332869665, 0.25727199571592546, 0.15552256814479068, 0.24912175919138893, 0.1689272123421147, 0.061870544680331825, 0.17398580223730764, 0.2752935652854146, 0.105003342464168, 0.26629461059796106, 0.2796346203509798, 0.2829267334280403, 0.13890764269940756, -0.02619954356118486, 0.03123461922376425, 0.11109490389960887, 0.17776815707731017, 0.10048079027469076, 0.1683430633462404, 0.08766092935627354, 0.01750660889440081, 0.0897474024074173, 0.09366482238697078, 0.06744221653458306, 0.0472147167459816, 0.20408285844346816, 0.11371690055967933, -0.033509300410253004, 0.16648896846425504, 0.12985952993834787, 0.10131979436069787, 0.11365974182185784, 0.10391172849657167, 0.1350597134628128, 0.08438553300652736, 0.11949355551864076, 0.022004664865482148, -0.014111106669370963, 0.0638457759694643, 0.044715685511938934, -0.04258159457639251, -0.05496568627826849, -0.05573462757537132, -0.06933465779526315, -0.0377933281899323, -0.05443123240098915, -0.05989153460143472, -0.04871995060147733, -0.05576348654679035, -0.05133935890925089, -0.027520273354989085, -0.07347659787375355, -0.037914540592197996, -0.04008779312265178, -0.04675504243761863, -0.05133935890925087, -0.06407573398600401, -0.07347659787375355, -0.04061370250726392, -0.04660726387693538, -0.0678108790916703, -0.06044001363572176, -0.05590140791030396, -0.07368469535125254, -0.04481500947534015, -0.04177596104584108, -0.022406364717503693, -0.06051846248763205, -0.05784286249267992, -0.06108573277885925, -0.041472488801578965, -0.05637226875991266, -0.06244817967995651, -0.048257995296154675, -0.03344222120315943, -0.02576204077914833, -0.06895786368727319, -0.07600252602502823, -0.051461408619928796, -0.05578191468361325, -0.051398298701257394, -0.043319930305821326, -0.06592818019632822, -0.04820927605116154, -0.07037074687821146, -0.05486290097205856, -0.0565548819568243, -0.07571761956416331, -0.07571761956416331, -0.058469499908098826, -0.056153421547978546, -0.048250921017658814, -0.031801252672987425, -0.0494949032592694, -0.08160537783307162, -0.0696157899587895, -0.041303425088249086, -0.04023278480505507, -0.06209500584431207, -0.06275735277463074, -0.03883098188214864, -0.046203207362010404, -0.10003429761340872, -0.05393750267275629, -0.06496886437803386, -0.05469980860690378, -0.025214258093834218, -0.08053384578874546, -0.08062238803162822, -0.05126216879370229, -0.07712615691252457, -0.05779525811892355, -0.048262669774711435, -0.10305609876031965, -0.036036464917345544, -0.029665878559987643, -0.04743168903690628, -0.08003736590925742, -0.07199899848796067, -0.04194161649941831, -0.0720415354677208, -0.06625973438375693, -0.03229642624107089, -0.05102599677381446, -0.02769630585441153, -0.06100077302298653, -0.020909873213304963, -0.062262543722383, -0.03780172060484192, -0.07903099882409516, 0.017168505224971393, -0.031787928725510374, -0.06343989612492139, -0.04151511691549913, -0.06667222694521661, -0.04801574307128278, -0.04965998490374711, -0.02912904332843782], \"xaxis\": \"x\", \"y\": [0.11748547425458626, 0.17853935960866138, 0.028519062470882334, 0.10744416208793235, 0.07270239387467789, 0.14726089708231807, 0.05861864763116178, 0.10426627587932816, 0.07402174441669016, 0.06411370322343943, 0.06327258018628568, 0.06411370322343943, 0.17168757410938718, 0.11083019706332016, 0.14098963732488728, 0.1128875422498598, 0.17426597695484705, 0.13263984948308785, 0.11055476412857501, 0.03180566215801734, 0.14098963732488728, 0.1128875422498598, 0.17693810345038452, 0.07653660002660408, 0.09479404497664211, 0.09465521286104742, 0.06124901426202677, 0.12226779797854587, 0.1624195442445121, 0.17534666701052695, 0.0904291664638486, 0.07812955888468881, 0.06895637039799714, 0.008260212959714717, 0.1564889064652677, 0.11066843971196488, 0.10949717715014806, 0.10268634609379133, 0.08099683526455033, 0.11146548923729332, 0.1627816411750002, 0.16227816803905945, 0.1648064558148101, 0.1556882577731203, 0.0768384175545466, 0.028807716161364297, 0.2059823720706285, 0.09738014417601569, 0.20272979144594067, 0.13938027824464133, 0.05955963082828609, 0.1283800613809516, 0.1783061389568151, 0.09671247186948753, 0.2138940522411377, 0.20403666991100453, 0.20563141855714687, 0.1136772216130658, 0.06451227987317187, 0.07035082040372166, -0.019247942486420175, 0.12874279095578658, 0.05319526153765371, 0.13731119140820908, 0.07646136959116467, 0.06517514239181714, 0.06612917371492819, 0.12364576123674689, 0.06456506755796956, 0.05737066654699688, 0.12212364848084266, 0.10766226374203858, 0.06299189417097606, 0.11691052747672835, 0.1226116716104775, 0.07462879533549889, 0.04966209601048514, 0.07444944663725325, 0.10336530863322979, -0.002284598751863954, 0.08228952455569803, 0.038003430873355594, 0.0017606681714742484, -0.019217618176451755, 0.007768347917299823, 0.07800389089564881, 0.10538438704052834, 0.04829498316775256, 0.06970259825261693, 0.08913145177008835, 0.08601522922478191, 0.07918186906878877, 0.09583279282589717, 0.07991184308966619, 0.11611913975645274, 0.033151665069316286, 0.054940538183530535, 0.08715231970477143, 0.09607885525805607, 0.087924435796599, 0.11611913975645281, 0.051363928405669265, 0.054940538183530535, 0.08949422660565483, 0.10606521741775136, 0.14228221129551666, 0.059921931183263444, 0.06571536940509194, 0.1175442002812761, 0.03122790928950667, 0.09656582531231817, 0.0751404903535708, 0.11591736148786498, 0.03881940867682688, 0.10740474938939258, 0.05951086917109897, 0.07150850959269289, 0.09265996113293458, 0.07228566972435169, 0.03597298623245009, 0.04201017859379171, 0.13552253069976436, 0.11947033070591231, 0.10170791593506985, 0.048533864936823996, 0.06791571603498336, 0.06682417709052943, 0.09691872340723232, 0.10568863218896643, 0.059182953030474925, 0.13900838232620558, 0.07900902607768999, 0.022443791568291085, 0.022443791568291085, 0.1455096802437327, 0.03363396328068092, 0.05275644340278185, 0.04295486605964903, 0.0800987592769708, 0.15119606518546083, 0.11049571113095688, 0.07570405523738159, 0.07353042252421874, 0.09710345672118684, 0.06317148081379778, 0.012747108485806766, 0.09347544253044388, 0.1489560689145083, 0.11395320575664074, 0.08130664220397658, 0.07480738832853426, 0.03660623276807479, 0.044967421618571826, 0.04515516824728598, 0.054523809273041096, 0.11002277707244817, 0.027229909417863938, 0.08242800999104433, 0.13443412425387705, 0.044994186884348655, 0.03818258765127789, 0.07838072140221329, 0.03608129358563166, 0.04719915398798372, 0.06920047351472748, 0.06418796050129962, 0.045941383694381194, 0.028497678201628435, 0.06755335083258295, 0.1060624938892406, 0.07065398279103201, 0.06845970481688195, 0.07769227434028096, 0.07608431533837129, 0.07624702484062433, 0.04671829080974771, 0.0673489914070332, 0.07963224845745756, 0.10512524981118093, 0.108760440296435, 0.05293437557755632, 0.06022028283928314, 0.07150681425439381], \"yaxis\": \"y\"}, {\"hovertemplate\": \"kmeans_labels=0<br>x=%{x}<br>y=%{y}<extra></extra>\", \"legendgroup\": \"0\", \"marker\": {\"color\": \"#ab63fa\", \"symbol\": \"circle\"}, \"mode\": \"markers\", \"name\": \"0\", \"orientation\": \"v\", \"showlegend\": true, \"type\": \"scatter\", \"x\": [0.2142076805502304, 0.22603599887154527, 0.11992486944625161, 0.31340066496080377, 0.0632360765804008, 0.14888379707122865, 0.17598643765486105, 0.2301227682858597, 0.2520852617307444, 0.11190328558910306, 0.18271878670282882, 0.24585463201958924, 0.25080191230120347, 0.1977543551457415, 0.1883230164695759, 0.2656301172440626, 0.2661422598194398, 0.29800235205574493, 0.20883370652040112, 0.19273700529343543, 0.37119137978052846, 0.3418238442184839, 0.30506338338959105, 0.35145111245326544, 0.19600770950170274, 0.18974548917608347, 0.24699456850868112, 0.3270036303472548, 0.3274858696070267, 0.27703625770191914, 0.08989190312660433, 0.20750051194286387, 0.14539500275733597, 0.17710938814061936, 0.20540929698741292, 0.2861503678479796, 0.20875288461465846, 0.23117925898937658], \"xaxis\": \"x\", \"y\": [0.057031834546655905, 0.09684369519031989, 0.009072909056536568, 0.07124204399887885, 0.028527079955828403, 0.04721746982616331, 0.031727904557892345, 0.09081386843130484, 0.074286856642162, 0.0436615871431018, 0.04139649663083794, 0.030999160616362376, 0.06002128741137541, 0.03529637945839541, 0.05023865101808671, 0.11472825873334186, 0.1158089117025803, 0.01737224578184797, 0.05444370136223107, 0.027172789843466015, 0.0689066117667417, 0.016540274039963575, 0.07095274517518635, 0.06669080604434835, -0.0002369149756314059, 0.03910233371674375, 0.06019400289540466, 0.06319677860553298, 0.06597383663038746, 0.018760022089669787, 0.05067246658186348, 0.06021391494315995, 0.016081789627639797, 0.028953789195085712, 0.03129071288782246, 0.022258200488800013, 0.02789998998250072, 0.021577677290763708], \"yaxis\": \"y\"}, {\"hovertemplate\": \"kmeans_labels=4<br>x=%{x}<br>y=%{y}<extra></extra>\", \"legendgroup\": \"4\", \"marker\": {\"color\": \"#FFA15A\", \"symbol\": \"circle\"}, \"mode\": \"markers\", \"name\": \"4\", \"orientation\": \"v\", \"showlegend\": true, \"type\": \"scatter\", \"x\": [0.11022365115709018, 0.003049770036448489, 0.014987923124736615, 0.13154965955209386, 0.19093916323125978, 0.1373059135148581, 0.05719024401890669, 0.06656456747776936, 0.15150563609425266, 0.13494290115310933, 0.12898615196700353, 0.10062261173656409, 0.03985899152392471, 0.00961523445689803, 0.060423038606884825, 0.08268143236088184, 0.03049324985662541, 0.03822412160125457, 0.15781355644985534, 0.19641097843133606, 0.08502437998862969, 0.15864478643337487, 0.15274330644864773, 0.16255758221023986, 0.0914947200936474, 0.062309938882706806, 0.09371557228530503, 0.14900486381014738, 0.13564376064593012, 0.18663533663197598, 0.2231173844072778, 0.10959842872071444, 0.15579443692934367, 0.21085573650032857, 0.06218333662411574, 0.040624998373750346, 0.21197547272008466, 0.034820982805246196, 0.18246685556069764, 0.27860300059143456, 0.13903912556962295, 0.044390921924430914, 0.12290378634763079, 0.12158168905562845, 0.1372771287888155, 0.23976453235129316, 0.10412222141602591, 0.13286265176615142, 0.18274007757902289, 0.09519897552342263, 0.12653389301109824, 0.11150679795974809, 0.13404253825799742, 0.2689730577492078, 0.12784365375106926, 0.07017894723477522, 0.2071027999780784, 0.10939370664494259, 0.10412222141602591, 0.1410846511690873, 0.06397996616221231, 0.10092188950982701, 0.10422561145557321, 0.15172656925875935, 0.047065831095080106, 0.2115048264299182, 0.10313930436905229, 0.04500876109773487, 0.03883335231689443, 0.11966460123630733, 0.14617849887628873, 0.06730876378725921, 0.08636948272473016, 0.05902474017457316, 0.05732647372248648, 0.053484943633436935, 0.09019568508311217, -0.0020371124587786815, 0.05780314823406052, 0.17319516002307836, 0.09534768528324937, 0.1191233562657403, 0.17231907697886595, 0.20456386401872506, 0.11889408925280501, 0.05107109543091861, 0.1760897746810524, 0.10908942255426493, 0.057636858882077154, 0.06581837431098436, 0.09400786327020637, 0.1624580043539039, 0.13239879316966355, 0.13206482394060667, 0.12971767244732077, 0.11256393541610557, 0.03548991260771726, 0.045016713855131923, 0.08233090686959818, 0.0020284722920783905, 0.18428582629987686, 0.06395036787091789, 0.05235623153191042, 0.13006903759360436, 0.1390007151459338, 0.09684891831848003, 0.11040262195491465, 0.11772647931281209, 0.14401125765689282, 0.1808981688777383, 0.15116317036525553, 0.26242242320793546, 0.15156610245390498, 0.15174162969745814, 0.09519897552342263, 0.11913850561384039, 0.11899874161116739, 0.036149425226148515, 0.12724672874321852, 0.06999746814871388, 0.22521299277680926, 0.1405054437220874, 0.22380574886880866, 0.12399219128230002, 0.13681310448775333, 0.08022982190946445, 0.04593377579619098], \"xaxis\": \"x\", \"y\": [-0.042042110223179656, -0.0203862916240617, -0.1120798353106884, -0.17993631121194822, -0.2046458643828236, -0.1649806488633706, -0.04899321394489203, -0.10279222868571444, -0.20063415338159915, -0.17675766931657386, -0.145270974948113, -0.12912235748051562, -0.04230208426095568, -0.05579922062619311, -0.03432921583956814, -0.10238628346418381, -0.08576404488915952, -0.03983554628559299, -0.15923777659963195, -0.160903696629894, -0.10688910068653373, -0.11337256957277674, -0.15769081239430607, -0.1462397304418177, -0.09930687110352564, -0.048054349290121874, -0.08043481858070985, -0.1584423829410469, -0.09723426816164289, -0.12546172747539208, -0.11742569720378453, -0.14784188100534706, -0.1110063622341041, -0.16087129884209786, -0.1248986448145205, -0.0646760098405535, -0.12411072372290839, -0.05474582160350591, -0.08273228271900109, -0.21967181304303718, -0.17819570493743872, -0.11656184617895246, -0.07888072211564545, -0.07781877038920705, -0.14937920939806157, -0.1406804137379605, -0.0839524545498851, -0.08973244756032558, -0.15502910828586855, -0.08951486210597986, -0.149933982572687, -0.09162809194836326, -0.16681117475659804, -0.09885929978533921, -0.12889547112806218, -0.06768757197978562, -0.18665835363980998, -0.10782968752437493, -0.0839524545498851, -0.11698856864473302, -0.10153214933312144, -0.11737542930140335, -0.12683677413668193, -0.1546354365034687, -0.024695933847486945, -0.16006909237179623, -0.1144945891056073, -0.018377696067888066, -0.08748917207684717, -0.0994319830138128, -0.1444963040433531, -0.1141636616739401, -0.14200114441875936, -0.09311978146605124, -0.1265909726307597, -0.04245025134377147, -0.10762810647197191, -0.05017700845454359, -0.05772812044890422, -0.09390331429326677, -0.018115470391566666, -0.08270278217216297, -0.0689592798082792, -0.15964543651200733, -0.07690217972351722, -0.09755984191450458, -0.09742087397454932, -0.05585841629544518, -0.02179212424774402, -0.06757019655913463, -0.0386624970263065, -0.14066087848453765, -0.09284044521280557, -0.09248137852009741, -0.0804303937369268, -0.06384647523876769, -0.08672366596449431, -0.09435101192810072, -0.004794613581380456, -0.07233696353986671, -0.18816857576113474, -0.014220963000637745, -0.083539804704726, -0.11669504467676473, -0.12171147845873857, -0.10918152836209884, -0.048225983158828756, -0.11120556599084624, 0.0038293697596344565, -0.15769413223105064, -0.18834438219061034, -0.21697097406068622, -0.20039502234798184, -0.07615837360439856, -0.08951486210597986, -0.1428010119428968, -0.04884732840186337, -0.060963947663945806, -0.1331663098282845, -0.1061537034875928, -0.1591120156799517, -0.161538433641763, -0.11733308012569144, -0.08307119198726858, -0.07410477068458801, -0.04400422733951829, -0.04342263968392356], \"yaxis\": \"y\"}],                        {\"legend\": {\"title\": {\"text\": \"kmeans_labels\"}, \"tracegroupgap\": 0}, \"template\": {\"data\": {\"bar\": [{\"error_x\": {\"color\": \"#2a3f5f\"}, \"error_y\": {\"color\": \"#2a3f5f\"}, \"marker\": {\"line\": {\"color\": \"#E5ECF6\", \"width\": 0.5}}, \"type\": \"bar\"}], \"barpolar\": [{\"marker\": {\"line\": {\"color\": \"#E5ECF6\", \"width\": 0.5}}, \"type\": \"barpolar\"}], \"carpet\": [{\"aaxis\": {\"endlinecolor\": \"#2a3f5f\", \"gridcolor\": \"white\", \"linecolor\": \"white\", \"minorgridcolor\": \"white\", \"startlinecolor\": \"#2a3f5f\"}, \"baxis\": {\"endlinecolor\": \"#2a3f5f\", \"gridcolor\": \"white\", \"linecolor\": \"white\", \"minorgridcolor\": \"white\", \"startlinecolor\": \"#2a3f5f\"}, \"type\": \"carpet\"}], \"choropleth\": [{\"colorbar\": {\"outlinewidth\": 0, \"ticks\": \"\"}, \"type\": \"choropleth\"}], \"contour\": [{\"colorbar\": {\"outlinewidth\": 0, \"ticks\": \"\"}, \"colorscale\": [[0.0, \"#0d0887\"], [0.1111111111111111, \"#46039f\"], [0.2222222222222222, \"#7201a8\"], [0.3333333333333333, \"#9c179e\"], [0.4444444444444444, \"#bd3786\"], [0.5555555555555556, \"#d8576b\"], [0.6666666666666666, \"#ed7953\"], [0.7777777777777778, \"#fb9f3a\"], [0.8888888888888888, \"#fdca26\"], [1.0, \"#f0f921\"]], \"type\": \"contour\"}], \"contourcarpet\": [{\"colorbar\": {\"outlinewidth\": 0, \"ticks\": \"\"}, \"type\": \"contourcarpet\"}], \"heatmap\": [{\"colorbar\": {\"outlinewidth\": 0, \"ticks\": \"\"}, \"colorscale\": [[0.0, \"#0d0887\"], [0.1111111111111111, \"#46039f\"], [0.2222222222222222, \"#7201a8\"], [0.3333333333333333, \"#9c179e\"], [0.4444444444444444, \"#bd3786\"], [0.5555555555555556, \"#d8576b\"], [0.6666666666666666, \"#ed7953\"], [0.7777777777777778, \"#fb9f3a\"], [0.8888888888888888, \"#fdca26\"], [1.0, \"#f0f921\"]], \"type\": \"heatmap\"}], \"heatmapgl\": [{\"colorbar\": {\"outlinewidth\": 0, \"ticks\": \"\"}, \"colorscale\": [[0.0, \"#0d0887\"], [0.1111111111111111, \"#46039f\"], [0.2222222222222222, \"#7201a8\"], [0.3333333333333333, \"#9c179e\"], [0.4444444444444444, \"#bd3786\"], [0.5555555555555556, \"#d8576b\"], [0.6666666666666666, \"#ed7953\"], [0.7777777777777778, \"#fb9f3a\"], [0.8888888888888888, \"#fdca26\"], [1.0, \"#f0f921\"]], \"type\": \"heatmapgl\"}], \"histogram\": [{\"marker\": {\"colorbar\": {\"outlinewidth\": 0, \"ticks\": \"\"}}, \"type\": \"histogram\"}], \"histogram2d\": [{\"colorbar\": {\"outlinewidth\": 0, \"ticks\": \"\"}, \"colorscale\": [[0.0, \"#0d0887\"], [0.1111111111111111, \"#46039f\"], [0.2222222222222222, \"#7201a8\"], [0.3333333333333333, \"#9c179e\"], [0.4444444444444444, \"#bd3786\"], [0.5555555555555556, \"#d8576b\"], [0.6666666666666666, \"#ed7953\"], [0.7777777777777778, \"#fb9f3a\"], [0.8888888888888888, \"#fdca26\"], [1.0, \"#f0f921\"]], \"type\": \"histogram2d\"}], \"histogram2dcontour\": [{\"colorbar\": {\"outlinewidth\": 0, \"ticks\": \"\"}, \"colorscale\": [[0.0, \"#0d0887\"], [0.1111111111111111, \"#46039f\"], [0.2222222222222222, \"#7201a8\"], [0.3333333333333333, \"#9c179e\"], [0.4444444444444444, \"#bd3786\"], [0.5555555555555556, \"#d8576b\"], [0.6666666666666666, \"#ed7953\"], [0.7777777777777778, \"#fb9f3a\"], [0.8888888888888888, \"#fdca26\"], [1.0, \"#f0f921\"]], \"type\": \"histogram2dcontour\"}], \"mesh3d\": [{\"colorbar\": {\"outlinewidth\": 0, \"ticks\": \"\"}, \"type\": \"mesh3d\"}], \"parcoords\": [{\"line\": {\"colorbar\": {\"outlinewidth\": 0, \"ticks\": \"\"}}, \"type\": \"parcoords\"}], \"pie\": [{\"automargin\": true, \"type\": \"pie\"}], \"scatter\": [{\"marker\": {\"colorbar\": {\"outlinewidth\": 0, \"ticks\": \"\"}}, \"type\": \"scatter\"}], \"scatter3d\": [{\"line\": {\"colorbar\": {\"outlinewidth\": 0, \"ticks\": \"\"}}, \"marker\": {\"colorbar\": {\"outlinewidth\": 0, \"ticks\": \"\"}}, \"type\": \"scatter3d\"}], \"scattercarpet\": [{\"marker\": {\"colorbar\": {\"outlinewidth\": 0, \"ticks\": \"\"}}, \"type\": \"scattercarpet\"}], \"scattergeo\": [{\"marker\": {\"colorbar\": {\"outlinewidth\": 0, \"ticks\": \"\"}}, \"type\": \"scattergeo\"}], \"scattergl\": [{\"marker\": {\"colorbar\": {\"outlinewidth\": 0, \"ticks\": \"\"}}, \"type\": \"scattergl\"}], \"scattermapbox\": [{\"marker\": {\"colorbar\": {\"outlinewidth\": 0, \"ticks\": \"\"}}, \"type\": \"scattermapbox\"}], \"scatterpolar\": [{\"marker\": {\"colorbar\": {\"outlinewidth\": 0, \"ticks\": \"\"}}, \"type\": \"scatterpolar\"}], \"scatterpolargl\": [{\"marker\": {\"colorbar\": {\"outlinewidth\": 0, \"ticks\": \"\"}}, \"type\": \"scatterpolargl\"}], \"scatterternary\": [{\"marker\": {\"colorbar\": {\"outlinewidth\": 0, \"ticks\": \"\"}}, \"type\": \"scatterternary\"}], \"surface\": [{\"colorbar\": {\"outlinewidth\": 0, \"ticks\": \"\"}, \"colorscale\": [[0.0, \"#0d0887\"], [0.1111111111111111, \"#46039f\"], [0.2222222222222222, \"#7201a8\"], [0.3333333333333333, \"#9c179e\"], [0.4444444444444444, \"#bd3786\"], [0.5555555555555556, \"#d8576b\"], [0.6666666666666666, \"#ed7953\"], [0.7777777777777778, \"#fb9f3a\"], [0.8888888888888888, \"#fdca26\"], [1.0, \"#f0f921\"]], \"type\": \"surface\"}], \"table\": [{\"cells\": {\"fill\": {\"color\": \"#EBF0F8\"}, \"line\": {\"color\": \"white\"}}, \"header\": {\"fill\": {\"color\": \"#C8D4E3\"}, \"line\": {\"color\": \"white\"}}, \"type\": \"table\"}]}, \"layout\": {\"annotationdefaults\": {\"arrowcolor\": \"#2a3f5f\", \"arrowhead\": 0, \"arrowwidth\": 1}, \"autotypenumbers\": \"strict\", \"coloraxis\": {\"colorbar\": {\"outlinewidth\": 0, \"ticks\": \"\"}}, \"colorscale\": {\"diverging\": [[0, \"#8e0152\"], [0.1, \"#c51b7d\"], [0.2, \"#de77ae\"], [0.3, \"#f1b6da\"], [0.4, \"#fde0ef\"], [0.5, \"#f7f7f7\"], [0.6, \"#e6f5d0\"], [0.7, \"#b8e186\"], [0.8, \"#7fbc41\"], [0.9, \"#4d9221\"], [1, \"#276419\"]], \"sequential\": [[0.0, \"#0d0887\"], [0.1111111111111111, \"#46039f\"], [0.2222222222222222, \"#7201a8\"], [0.3333333333333333, \"#9c179e\"], [0.4444444444444444, \"#bd3786\"], [0.5555555555555556, \"#d8576b\"], [0.6666666666666666, \"#ed7953\"], [0.7777777777777778, \"#fb9f3a\"], [0.8888888888888888, \"#fdca26\"], [1.0, \"#f0f921\"]], \"sequentialminus\": [[0.0, \"#0d0887\"], [0.1111111111111111, \"#46039f\"], [0.2222222222222222, \"#7201a8\"], [0.3333333333333333, \"#9c179e\"], [0.4444444444444444, \"#bd3786\"], [0.5555555555555556, \"#d8576b\"], [0.6666666666666666, \"#ed7953\"], [0.7777777777777778, \"#fb9f3a\"], [0.8888888888888888, \"#fdca26\"], [1.0, \"#f0f921\"]]}, \"colorway\": [\"#636efa\", \"#EF553B\", \"#00cc96\", \"#ab63fa\", \"#FFA15A\", \"#19d3f3\", \"#FF6692\", \"#B6E880\", \"#FF97FF\", \"#FECB52\"], \"font\": {\"color\": \"#2a3f5f\"}, \"geo\": {\"bgcolor\": \"white\", \"lakecolor\": \"white\", \"landcolor\": \"#E5ECF6\", \"showlakes\": true, \"showland\": true, \"subunitcolor\": \"white\"}, \"hoverlabel\": {\"align\": \"left\"}, \"hovermode\": \"closest\", \"mapbox\": {\"style\": \"light\"}, \"paper_bgcolor\": \"white\", \"plot_bgcolor\": \"#E5ECF6\", \"polar\": {\"angularaxis\": {\"gridcolor\": \"white\", \"linecolor\": \"white\", \"ticks\": \"\"}, \"bgcolor\": \"#E5ECF6\", \"radialaxis\": {\"gridcolor\": \"white\", \"linecolor\": \"white\", \"ticks\": \"\"}}, \"scene\": {\"xaxis\": {\"backgroundcolor\": \"#E5ECF6\", \"gridcolor\": \"white\", \"gridwidth\": 2, \"linecolor\": \"white\", \"showbackground\": true, \"ticks\": \"\", \"zerolinecolor\": \"white\"}, \"yaxis\": {\"backgroundcolor\": \"#E5ECF6\", \"gridcolor\": \"white\", \"gridwidth\": 2, \"linecolor\": \"white\", \"showbackground\": true, \"ticks\": \"\", \"zerolinecolor\": \"white\"}, \"zaxis\": {\"backgroundcolor\": \"#E5ECF6\", \"gridcolor\": \"white\", \"gridwidth\": 2, \"linecolor\": \"white\", \"showbackground\": true, \"ticks\": \"\", \"zerolinecolor\": \"white\"}}, \"shapedefaults\": {\"line\": {\"color\": \"#2a3f5f\"}}, \"ternary\": {\"aaxis\": {\"gridcolor\": \"white\", \"linecolor\": \"white\", \"ticks\": \"\"}, \"baxis\": {\"gridcolor\": \"white\", \"linecolor\": \"white\", \"ticks\": \"\"}, \"bgcolor\": \"#E5ECF6\", \"caxis\": {\"gridcolor\": \"white\", \"linecolor\": \"white\", \"ticks\": \"\"}}, \"title\": {\"x\": 0.05}, \"xaxis\": {\"automargin\": true, \"gridcolor\": \"white\", \"linecolor\": \"white\", \"ticks\": \"\", \"title\": {\"standoff\": 15}, \"zerolinecolor\": \"white\", \"zerolinewidth\": 2}, \"yaxis\": {\"automargin\": true, \"gridcolor\": \"white\", \"linecolor\": \"white\", \"ticks\": \"\", \"title\": {\"standoff\": 15}, \"zerolinecolor\": \"white\", \"zerolinewidth\": 2}}}, \"title\": {\"text\": \"K-means BBC Sport news\"}, \"xaxis\": {\"anchor\": \"y\", \"domain\": [0.0, 1.0], \"title\": {\"text\": \"x\"}}, \"yaxis\": {\"anchor\": \"x\", \"domain\": [0.0, 1.0], \"title\": {\"text\": \"y\"}}},                        {\"responsive\": true}                    ).then(function(){\n",
       "                            \n",
       "var gd = document.getElementById('bf2e7fb9-c356-413c-a78a-35f7f65a2923');\n",
       "var x = new MutationObserver(function (mutations, observer) {{\n",
       "        var display = window.getComputedStyle(gd).display;\n",
       "        if (!display || display === 'none') {{\n",
       "            console.log([gd, 'removed!']);\n",
       "            Plotly.purge(gd);\n",
       "            observer.disconnect();\n",
       "        }}\n",
       "}});\n",
       "\n",
       "// Listen for the removal of the full notebook cells\n",
       "var notebookContainer = gd.closest('#notebook-container');\n",
       "if (notebookContainer) {{\n",
       "    x.observe(notebookContainer, {childList: true});\n",
       "}}\n",
       "\n",
       "// Listen for the clearing of the current output cell\n",
       "var outputEl = gd.closest('.output');\n",
       "if (outputEl) {{\n",
       "    x.observe(outputEl, {childList: true});\n",
       "}}\n",
       "\n",
       "                        })                };                });            </script>        </div>"
      ]
     },
     "metadata": {},
     "output_type": "display_data"
    }
   ],
   "source": [
    "import texthero as hero\n",
    "import pandas as pd\n",
    "\n",
    "df = pd.read_csv(\n",
    "    \"https://github.com/jbesomi/texthero/raw/master/dataset/bbcsport.csv\"\n",
    ")\n",
    "\n",
    "df['tfidf'] = (\n",
    "    df['text']\n",
    "    .pipe(hero.clean)\n",
    "    .pipe(hero.tfidf)\n",
    ")\n",
    "### Kmeans\n",
    "\n",
    "df['kmeans_labels'] = (\n",
    "    df['tfidf']\n",
    "    .pipe(hero.kmeans, n_clusters=5)\n",
    "    .astype(str)\n",
    ")\n",
    "\n",
    "df['pca'] = df['tfidf'].pipe(hero.pca)\n",
    "\n",
    "hero.scatterplot(df, 'pca', color='kmeans_labels', title=\"K-means BBC Sport news\")"
   ]
  },
  {
   "cell_type": "code",
   "execution_count": null,
   "id": "permanent-display",
   "metadata": {},
   "outputs": [],
   "source": []
  }
 ],
 "metadata": {
  "kernelspec": {
   "display_name": "Python 3",
   "language": "python",
   "name": "python3"
  },
  "language_info": {
   "codemirror_mode": {
    "name": "ipython",
    "version": 3
   },
   "file_extension": ".py",
   "mimetype": "text/x-python",
   "name": "python",
   "nbconvert_exporter": "python",
   "pygments_lexer": "ipython3",
   "version": "3.8.5"
  }
 },
 "nbformat": 4,
 "nbformat_minor": 5
}
