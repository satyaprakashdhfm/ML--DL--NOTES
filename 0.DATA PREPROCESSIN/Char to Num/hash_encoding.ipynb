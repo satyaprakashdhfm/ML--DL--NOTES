{
 "cells": [
  {
   "cell_type": "code",
   "execution_count": 2,
   "metadata": {},
   "outputs": [],
   "source": [
    "import pandas as pd\n",
    "import seaborn as sns\n",
    "from sklearn.feature_extraction import FeatureHasher"
   ]
  },
  {
   "cell_type": "code",
   "execution_count": 3,
   "metadata": {},
   "outputs": [],
   "source": [
    "# Load Titanic dataset\n",
    "df = sns.load_dataset('titanic')\n",
    "\n"
   ]
  },
  {
   "cell_type": "code",
   "execution_count": 5,
   "metadata": {},
   "outputs": [
    {
     "name": "stdout",
     "output_type": "stream",
     "text": [
      "    embarked     sex\n",
      "0          S    male\n",
      "1          C  female\n",
      "2          S  female\n",
      "3          S  female\n",
      "4          S    male\n",
      "..       ...     ...\n",
      "886        S    male\n",
      "887        S  female\n",
      "888        S  female\n",
      "889        C    male\n",
      "890        Q    male\n",
      "\n",
      "[891 rows x 2 columns]\n"
     ]
    }
   ],
   "source": [
    "# Select categorical features to encode\n",
    "categorical_features = df[['embarked', 'sex']]\n",
    "print(categorical_features)\n"
   ]
  },
  {
   "cell_type": "code",
   "execution_count": 6,
   "metadata": {},
   "outputs": [],
   "source": [
    "# Initialize the FeatureHasher\n",
    "hasher = FeatureHasher(n_features=5, input_type='string')\n",
    "\n"
   ]
  },
  {
   "cell_type": "code",
   "execution_count": 8,
   "metadata": {},
   "outputs": [
    {
     "name": "stdout",
     "output_type": "stream",
     "text": [
      "[[ 0.  0.  0. -1. -1.]\n",
      " [ 0. -1.  0.  0. -1.]\n",
      " [ 0.  0.  0. -1. -1.]\n",
      " ...\n",
      " [ 0.  0.  0. -1. -1.]\n",
      " [ 0. -1.  0.  0. -1.]\n",
      " [ 0.  0.  0.  1. -1.]]\n"
     ]
    }
   ],
   "source": [
    "# Transform the categorical features into hashed features\n",
    "hashed_features = hasher.transform(categorical_features.astype(str).values).toarray()\n",
    "print(hashed_features)\n"
   ]
  },
  {
   "cell_type": "code",
   "execution_count": 9,
   "metadata": {},
   "outputs": [],
   "source": [
    "# Create a DataFrame with the hashed features\n",
    "hashed_df = pd.DataFrame(hashed_features, columns=[f'feature_{i}' for i in range(hashed_features.shape[1])])\n"
   ]
  },
  {
   "cell_type": "code",
   "execution_count": null,
   "metadata": {},
   "outputs": [],
   "source": []
  },
  {
   "cell_type": "code",
   "execution_count": 10,
   "metadata": {},
   "outputs": [
    {
     "name": "stdout",
     "output_type": "stream",
     "text": [
      "   survived  pclass     sex   age  sibsp  parch     fare embarked  class  \\\n",
      "0         0       3    male  22.0      1      0   7.2500        S  Third   \n",
      "1         1       1  female  38.0      1      0  71.2833        C  First   \n",
      "2         1       3  female  26.0      0      0   7.9250        S  Third   \n",
      "3         1       1  female  35.0      1      0  53.1000        S  First   \n",
      "4         0       3    male  35.0      0      0   8.0500        S  Third   \n",
      "\n",
      "     who  adult_male deck  embark_town alive  alone  feature_0  feature_1  \\\n",
      "0    man        True  NaN  Southampton    no  False        0.0        0.0   \n",
      "1  woman       False    C    Cherbourg   yes  False        0.0       -1.0   \n",
      "2  woman       False  NaN  Southampton   yes   True        0.0        0.0   \n",
      "3  woman       False    C  Southampton   yes  False        0.0        0.0   \n",
      "4    man        True  NaN  Southampton    no   True        0.0        0.0   \n",
      "\n",
      "   feature_2  feature_3  feature_4  \n",
      "0        0.0       -1.0       -1.0  \n",
      "1        0.0        0.0       -1.0  \n",
      "2        0.0       -1.0       -1.0  \n",
      "3        0.0       -1.0       -1.0  \n",
      "4        0.0       -1.0       -1.0  \n"
     ]
    }
   ],
   "source": [
    "# Combine with the original DataFrame\n",
    "result_df = pd.concat([df.reset_index(drop=True), hashed_df], axis=1)\n",
    "\n",
    "# Display the result\n",
    "print(result_df.head())"
   ]
  },
  {
   "cell_type": "code",
   "execution_count": null,
   "metadata": {},
   "outputs": [],
   "source": []
  }
 ],
 "metadata": {
  "kernelspec": {
   "display_name": "Python 3",
   "language": "python",
   "name": "python3"
  },
  "language_info": {
   "codemirror_mode": {
    "name": "ipython",
    "version": 3
   },
   "file_extension": ".py",
   "mimetype": "text/x-python",
   "name": "python",
   "nbconvert_exporter": "python",
   "pygments_lexer": "ipython3",
   "version": "3.12.1"
  }
 },
 "nbformat": 4,
 "nbformat_minor": 2
}
