{
 "cells": [
  {
   "cell_type": "markdown",
   "metadata": {},
   "source": [
    "# Handling Missing Values:\n",
    "Detection\n",
    " * How much missing % (by heatmap)\n",
    " * Like massive missing not co-occurrence plot\n",
    "Numeric Data:\n",
    " * Deletion\n",
    " * Imputation\n",
    "   * Arbitrary value\n",
    "   * Mean\n",
    "   * Median\n",
    "   * Random sample\n",
    " * Using algorithms like KNN, KNN can handle missing values\n",
    " * Making it as dependent variable\n",
    "Categorical Data :\n",
    " * Deletion\n",
    " * Most frequent\n",
    " * Using deep learning library - Datawig (Imputation)\n"
   ]
  },
  {
   "cell_type": "markdown",
   "metadata": {},
   "source": [
    "\n",
    "---\n",
    "\n",
    "# Noise and Outliers\n",
    "\n",
    "\n",
    "- **Noise**: Unwanted or wrong data.\n",
    "- **Outliers**: Data points that are out of range or significantly different from other observations.\n",
    "\n",
    "\n",
    "\n",
    "\n",
    "| **Category**      | **Robust Methods**                                     | **Sensitive Methods**                               |\n",
    "|-------------------|--------------------------------------------------------|-----------------------------------------------------|\n",
    "| **Naive Bayes**   | ✔                                                      |                                                     |\n",
    "| **SVM**           | ✔                                                      |                                                     |\n",
    "| **Decision Tree** | ✔                                                      |                                                     |\n",
    "| **Ensemble Methods** | Random Forest (RF), XGBoost (XGB), Gradient Boosting (GB) |                                                     |\n",
    "| **KNN**           | ✔                                                      |                                                     |\n",
    "| **Linear Regression** |                                                        | ✔                                                   |\n",
    "| **Logistic Regression** |                                                        | ✔                                                   |\n",
    "| **k-Means Clustering** |                                                        | ✔                                                   |\n",
    "| **Hierarchical Clustering** |                                                        | ✔                                                   |\n",
    "| **PCA**           |                                                        | ✔                                                   |\n",
    "| **Neural Networks** |                                                        | ✔                                                   |\n",
    "\n",
    "\n",
    "\n",
    "\n",
    "\n",
    "### **Detection Methods for Outliers**\n",
    "- **Z-score**\n",
    "- **Standard Deviation & Interquartile Range (IQR)**\n",
    "- **Boxplot**\n",
    "- **DBSCAN Clustering**: Identifies points that don’t belong to any cluster.\n",
    "- **Isolation Forest**: Effective for high-dimensional data.\n",
    "- **Robust Random Cut Forest**\n",
    "\n",
    "\n",
    "\n",
    "### **Treating Outliers**\n",
    "- **Transformation**: Use log or square root transformations to reduce the impact of outliers.\n",
    "- **Feature Transformation Techniques**:\n",
    "  - **Standardization**\n",
    "  - **Robust Scaler**: Based on interquartile range.\n",
    "- **Winsorization**: Replace extreme values with the nearest acceptable percentile range.\n",
    "- **Trying Different Models**: E.g., Random Forest, XGBoost.\n",
    "- **Imputation**: Replace outliers with mean or median values.\n",
    "\n",
    "---"
   ]
  },
  {
   "cell_type": "markdown",
   "metadata": {},
   "source": []
  },
  {
   "cell_type": "markdown",
   "metadata": {},
   "source": []
  },
  {
   "cell_type": "markdown",
   "metadata": {},
   "source": []
  },
  {
   "cell_type": "markdown",
   "metadata": {},
   "source": []
  },
  {
   "cell_type": "markdown",
   "metadata": {},
   "source": []
  },
  {
   "cell_type": "markdown",
   "metadata": {},
   "source": []
  },
  {
   "cell_type": "markdown",
   "metadata": {},
   "source": []
  },
  {
   "cell_type": "markdown",
   "metadata": {},
   "source": []
  },
  {
   "cell_type": "markdown",
   "metadata": {},
   "source": []
  },
  {
   "cell_type": "markdown",
   "metadata": {},
   "source": []
  },
  {
   "cell_type": "markdown",
   "metadata": {},
   "source": []
  },
  {
   "cell_type": "markdown",
   "metadata": {},
   "source": []
  },
  {
   "cell_type": "markdown",
   "metadata": {},
   "source": []
  },
  {
   "cell_type": "markdown",
   "metadata": {},
   "source": []
  },
  {
   "cell_type": "code",
   "execution_count": null,
   "metadata": {},
   "outputs": [],
   "source": []
  }
 ],
 "metadata": {
  "language_info": {
   "name": "python"
  }
 },
 "nbformat": 4,
 "nbformat_minor": 2
}
