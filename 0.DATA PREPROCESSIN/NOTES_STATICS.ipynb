{
 "cells": [
  {
   "cell_type": "markdown",
   "metadata": {},
   "source": []
  },
  {
   "cell_type": "markdown",
   "metadata": {},
   "source": []
  },
  {
   "cell_type": "markdown",
   "metadata": {},
   "source": []
  },
  {
   "cell_type": "markdown",
   "metadata": {},
   "source": []
  },
  {
   "cell_type": "markdown",
   "metadata": {},
   "source": []
  },
  {
   "cell_type": "markdown",
   "metadata": {},
   "source": []
  },
  {
   "cell_type": "markdown",
   "metadata": {},
   "source": []
  },
  {
   "cell_type": "markdown",
   "metadata": {},
   "source": []
  },
  {
   "cell_type": "markdown",
   "metadata": {},
   "source": []
  },
  {
   "cell_type": "markdown",
   "metadata": {},
   "source": []
  },
  {
   "cell_type": "markdown",
   "metadata": {},
   "source": []
  },
  {
   "cell_type": "markdown",
   "metadata": {},
   "source": []
  },
  {
   "cell_type": "markdown",
   "metadata": {},
   "source": []
  },
  {
   "cell_type": "markdown",
   "metadata": {},
   "source": []
  },
  {
   "cell_type": "markdown",
   "metadata": {},
   "source": []
  },
  {
   "cell_type": "markdown",
   "metadata": {},
   "source": []
  },
  {
   "cell_type": "markdown",
   "metadata": {},
   "source": []
  },
  {
   "cell_type": "markdown",
   "metadata": {},
   "source": []
  },
  {
   "cell_type": "markdown",
   "metadata": {},
   "source": [
    "Sure! Here are short notes on each topic:\n",
    "\n",
    "### 1. **A/B Testing**\n",
    "- **Definition**: Comparing two versions (A and B) of a variable to determine which performs better.\n",
    "- **Application**: Used in marketing, UX design, and product optimization.\n",
    "- **Key Points**:\n",
    "  - **Control Group**: Version A (baseline).\n",
    "  - **Treatment Group**: Version B (variant).\n",
    "  - **Objective**: Measure impact on specific outcomes (e.g., conversion rate).\n",
    "\n",
    "### 2. **SUTVA (Stable Unit Treatment Value Assumption)**\n",
    "- **Definition**: Assumption for causal inference.\n",
    "- **Components**:\n",
    "  - **No Interference**: Treatment of one unit doesn’t affect others.\n",
    "  - **Consistency**: Observed outcome under treatment matches potential outcome.\n",
    "- **Purpose**: Ensures valid causal effect estimation.\n",
    "\n",
    "### 3. **Sampling Distributions**\n",
    "- **Definition**: Distribution of a statistic (e.g., mean) from many samples drawn from the population.\n",
    "- **Key Concepts**:\n",
    "  - **Central Limit Theorem**: Sample means approach normal distribution as sample size increases.\n",
    "  - **Standard Error**: Measures variability of sample statistic.\n",
    "\n",
    "### 4. **Hypothesis Testing**\n",
    "- **Definition**: Method to infer population parameters based on sample data.\n",
    "- **Components**:\n",
    "  - **Null Hypothesis (H0)**: No effect or difference.\n",
    "  - **Alternative Hypothesis (H1)**: Contradicts H0.\n",
    "  - **Test Statistic**: Value calculated from data.\n",
    "  - **P-value**: Probability of observing the data under H0.\n",
    "  - **Decision**: Reject or fail to reject H0 based on p-value and significance level.\n",
    "\n",
    "### 5. **Bayesian Testing**\n",
    "- **Definition**: Updating the probability of a hypothesis using Bayes' theorem.\n",
    "- **Components**:\n",
    "  - **Prior Probability**: Initial probability before data.\n",
    "  - **Likelihood**: Probability of data given hypothesis.\n",
    "  - **Posterior Probability**: Updated probability after data.\n",
    "  - **Bayes' Theorem**: Calculates posterior from prior and likelihood."
   ]
  },
  {
   "cell_type": "code",
   "execution_count": null,
   "metadata": {},
   "outputs": [],
   "source": []
  },
  {
   "cell_type": "markdown",
   "metadata": {},
   "source": []
  }
 ],
 "metadata": {
  "language_info": {
   "name": "python"
  }
 },
 "nbformat": 4,
 "nbformat_minor": 2
}
